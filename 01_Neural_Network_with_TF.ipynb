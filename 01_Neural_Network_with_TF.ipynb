{
  "nbformat": 4,
  "nbformat_minor": 0,
  "metadata": {
    "colab": {
      "provenance": [],
      "authorship_tag": "ABX9TyOaw+8VdCKCVNCqHKow7d7q",
      "include_colab_link": true
    },
    "kernelspec": {
      "name": "python3",
      "display_name": "Python 3"
    },
    "language_info": {
      "name": "python"
    }
  },
  "cells": [
    {
      "cell_type": "markdown",
      "metadata": {
        "id": "view-in-github",
        "colab_type": "text"
      },
      "source": [
        "<a href=\"https://colab.research.google.com/github/MusadaqTanvir/TensforFlowCodes/blob/main/01_Neural_Network_with_TF.ipynb\" target=\"_parent\"><img src=\"https://colab.research.google.com/assets/colab-badge.svg\" alt=\"Open In Colab\"/></a>"
      ]
    },
    {
      "cell_type": "markdown",
      "source": [
        "# Neural Network With TensorFlow"
      ],
      "metadata": {
        "id": "_yRJFkNMHT5G"
      }
    },
    {
      "cell_type": "markdown",
      "source": [
        "**Hyperparameters**\n",
        "* input layer shape\n",
        "* Hidden Layers\n",
        "* Neuron per hidden layer\n",
        "* Output Layer Shape\n",
        "* Hidden Activation\n",
        "* Output Activation\n",
        "* Loss Function\n",
        "* Optimizer\n",
        "\n",
        "First of all we have to define our model using the parameters given above and then we have to compile our model.\n",
        "There are many definitions for a regression problem but in our case, we're going to simplify it: predicting a numerical variable based on some other combination of variables, even shorter... predicting a number."
      ],
      "metadata": {
        "id": "AQBSl7u0Hl89"
      }
    },
    {
      "cell_type": "code",
      "source": [
        "import tensorflow as tf\n",
        "print(tf.__version__)"
      ],
      "metadata": {
        "colab": {
          "base_uri": "https://localhost:8080/"
        },
        "id": "cOJwQtLsQZRL",
        "outputId": "8a7594a9-b41c-4393-e8b3-5fd17471ab25"
      },
      "execution_count": 1,
      "outputs": [
        {
          "output_type": "stream",
          "name": "stdout",
          "text": [
            "2.15.0\n"
          ]
        }
      ]
    },
    {
      "cell_type": "markdown",
      "source": [
        "#Creating Data to view and fit to it"
      ],
      "metadata": {
        "id": "JjLmUyfXjBeM"
      }
    },
    {
      "cell_type": "code",
      "source": [
        "import numpy as np\n",
        "import matplotlib.pyplot as plt"
      ],
      "metadata": {
        "id": "hiS9dje7j3H0"
      },
      "execution_count": 2,
      "outputs": []
    },
    {
      "cell_type": "code",
      "source": [
        "# Create features\n",
        "X = np.array([-7.0, -4.0, -1.0, 2.0, 5.0, 8.0, 11.0, 14.0])\n",
        "\n",
        "# Create labels\n",
        "y = np.array([3.0, 6.0, 9.0, 12.0, 15.0, 18.0, 21.0, 24.0])\n",
        "plt.scatter(X,y)"
      ],
      "metadata": {
        "colab": {
          "base_uri": "https://localhost:8080/",
          "height": 452
        },
        "id": "9kBbwldrkEdg",
        "outputId": "fbb55697-7222-4496-8a71-71a4279596e5"
      },
      "execution_count": 3,
      "outputs": [
        {
          "output_type": "execute_result",
          "data": {
            "text/plain": [
              "<matplotlib.collections.PathCollection at 0x7cfb0bf74250>"
            ]
          },
          "metadata": {},
          "execution_count": 3
        },
        {
          "output_type": "display_data",
          "data": {
            "text/plain": [
              "<Figure size 640x480 with 1 Axes>"
            ],
            "image/png": "[encoded data removed]"
          },
          "metadata": {}
        }
      ]
    },
    {
      "cell_type": "markdown",
      "source": [
        "# Input and Output Shape"
      ],
      "metadata": {
        "id": "z-RGsEyKkj5i"
      }
    },
    {
      "cell_type": "code",
      "source": [
        "# Create a demo tensor for our housig price prediction\n",
        "house_info = tf.constant([\"bedroom\", \"bathroom\", \"garage\"])\n",
        "house_price = tf.constant([939700])\n",
        "house_info, house_price"
      ],
      "metadata": {
        "colab": {
          "base_uri": "https://localhost:8080/"
        },
        "id": "gcXC6Hk8lhmD",
        "outputId": "1048e48e-bd8f-40fa-a62d-43c4ee69c970"
      },
      "execution_count": 5,
      "outputs": [
        {
          "output_type": "execute_result",
          "data": {
            "text/plain": [
              "(<tf.Tensor: shape=(3,), dtype=string, numpy=array([b'bedroom', b'bathroom', b'garage'], dtype=object)>,\n",
              " <tf.Tensor: shape=(1,), dtype=int32, numpy=array([939700], dtype=int32)>)"
            ]
          },
          "metadata": {},
          "execution_count": 5
        }
      ]
    },
    {
      "cell_type": "code",
      "source": [
        "X[0],y[0]"
      ],
      "metadata": {
        "colab": {
          "base_uri": "https://localhost:8080/"
        },
        "id": "XUb62pnimNfa",
        "outputId": "fc61eba7-e4fa-418e-d338-39ad6df87bc5"
      },
      "execution_count": 6,
      "outputs": [
        {
          "output_type": "execute_result",
          "data": {
            "text/plain": [
              "(-7.0, 3.0)"
            ]
          },
          "metadata": {},
          "execution_count": 6
        }
      ]
    },
    {
      "cell_type": "code",
      "source": [
        "# Checking the shape of input and output\n",
        "input_shape = X[0].shape\n",
        "output_shape = y[0].shape\n",
        "input_shape, output_shape"
      ],
      "metadata": {
        "colab": {
          "base_uri": "https://localhost:8080/"
        },
        "id": "G-0G3AGjnNy4",
        "outputId": "71553655-06af-4551-ace5-c2a5a9b83fed"
      },
      "execution_count": 6,
      "outputs": [
        {
          "output_type": "execute_result",
          "data": {
            "text/plain": [
              "((), ())"
            ]
          },
          "metadata": {},
          "execution_count": 6
        }
      ]
    },
    {
      "cell_type": "code",
      "source": [
        "# Since both input and output are now scalers in this problem\n",
        "X[0].ndim"
      ],
      "metadata": {
        "colab": {
          "base_uri": "https://localhost:8080/"
        },
        "id": "o9nhX_PpnU8b",
        "outputId": "f1ce35ab-2f50-406d-811d-e2669c68be64"
      },
      "execution_count": 7,
      "outputs": [
        {
          "output_type": "execute_result",
          "data": {
            "text/plain": [
              "0"
            ]
          },
          "metadata": {},
          "execution_count": 7
        }
      ]
    },
    {
      "cell_type": "code",
      "source": [
        "# Turing Numpy Array into Tensors\n",
        "X = tf.constant(X)\n",
        "y = tf.constant(y)"
      ],
      "metadata": {
        "id": "4fHKAbOSndZP"
      },
      "execution_count": 8,
      "outputs": []
    },
    {
      "cell_type": "code",
      "source": [
        "X.shape, y.shape\n",
        "X.ndim"
      ],
      "metadata": {
        "colab": {
          "base_uri": "https://localhost:8080/"
        },
        "id": "643Vr7snnwkC",
        "outputId": "2e554f95-a7bb-4d50-91e1-709b097d1d62"
      },
      "execution_count": 9,
      "outputs": [
        {
          "output_type": "execute_result",
          "data": {
            "text/plain": [
              "1"
            ]
          },
          "metadata": {},
          "execution_count": 9
        }
      ]
    },
    {
      "cell_type": "code",
      "source": [
        "input_shape = X[0].shape\n",
        "output_shape = y[0].shape\n",
        "input_shape, output_shape"
      ],
      "metadata": {
        "colab": {
          "base_uri": "https://localhost:8080/"
        },
        "id": "BA09CubDn0eo",
        "outputId": "d2cba4c5-dbc8-420c-8c5c-37c4b460f97b"
      },
      "execution_count": 10,
      "outputs": [
        {
          "output_type": "execute_result",
          "data": {
            "text/plain": [
              "(TensorShape([]), TensorShape([]))"
            ]
          },
          "metadata": {},
          "execution_count": 10
        }
      ]
    },
    {
      "cell_type": "code",
      "source": [
        "plt.scatter(X,y)"
      ],
      "metadata": {
        "colab": {
          "base_uri": "https://localhost:8080/",
          "height": 452
        },
        "id": "BJoUikqKoI8R",
        "outputId": "520d96f8-3bd6-47af-9adf-17d5589292ac"
      },
      "execution_count": 11,
      "outputs": [
        {
          "output_type": "execute_result",
          "data": {
            "text/plain": [
              "<matplotlib.collections.PathCollection at 0x7a1cbb70b1f0>"
            ]
          },
          "metadata": {},
          "execution_count": 11
        },
        {
          "output_type": "display_data",
          "data": {
            "text/plain": [
              "<Figure size 640x480 with 1 Axes>"
            ],
            "image/png": "[encoded data removed]"
          },
          "metadata": {}
        }
      ]
    },
    {
      "cell_type": "markdown",
      "source": [
        "### so we have figured that we will have only 1 input feature and 1 output feature(regression)"
      ],
      "metadata": {
        "id": "ou7-kXnQoPjE"
      }
    },
    {
      "cell_type": "markdown",
      "source": [
        "# Steps in Modeling with TensorFlow\n",
        "* **Creating a model** - define the input and output layers, as well as the hidden layers of a deep learning model.\n",
        "* **Compiling a model** - define the loss funtion (in other words, the function which tells our model how wrong it is) and the optimizer (tells our model how to improve the patterns its learning) and evaluation metrics (what we can use to interpret the performance of our model).\n",
        "* **Fitting a model** - letting the model try to find patterns between X & y (features and labels)."
      ],
      "metadata": {
        "id": "YqUWVqNloXYg"
      }
    },
    {
      "cell_type": "code",
      "source": [
        "#X = tf.reshape(X,shape=[X.shape[0],1])\n",
        "X"
      ],
      "metadata": {
        "colab": {
          "base_uri": "https://localhost:8080/"
        },
        "id": "3AgDYX63oeKO",
        "outputId": "aeb04fd6-2b00-4e78-acc7-f49551e439a7"
      },
      "execution_count": 7,
      "outputs": [
        {
          "output_type": "execute_result",
          "data": {
            "text/plain": [
              "array([-7., -4., -1.,  2.,  5.,  8., 11., 14.])"
            ]
          },
          "metadata": {},
          "execution_count": 7
        }
      ]
    },
    {
      "cell_type": "code",
      "source": [
        "# Create the model using the sequential API\n",
        "\"\"\"\n",
        "We can provide list of model structure as given below as well as we can add sequentially my calling add method of keras class.\n",
        "\"\"\"\n",
        "tf.random.set_seed(42)\n",
        "\n",
        "# 1. Create a model using the Sequential API\n",
        "model = tf.keras.Sequential([\n",
        "  tf.keras.layers.Dense(1,input_shape=(1,))\n",
        "])\n",
        "\n",
        "\n",
        "# 2. Compile the model\n",
        "model.compile(loss=tf.keras.losses.mae, # mae is short for mean absolute error\n",
        "              optimizer=tf.keras.optimizers.SGD(), # sgd is short for stochasitc gradient descent\n",
        "              metrics=[\"mae\"])\n",
        "\n",
        "# 3. Fit the model\n",
        "model.fit(X, y, epochs=5)"
      ],
      "metadata": {
        "colab": {
          "base_uri": "https://localhost:8080/"
        },
        "id": "UfvI4nSnp5uK",
        "outputId": "0db69012-4697-4e78-f378-71455ec657a2"
      },
      "execution_count": 8,
      "outputs": [
        {
          "output_type": "stream",
          "name": "stdout",
          "text": [
            "Epoch 1/5\n",
            "1/1 [==============================] - 0s 429ms/step - loss: 20.4952 - mae: 20.4952\n",
            "Epoch 2/5\n",
            "1/1 [==============================] - 0s 10ms/step - loss: 20.2139 - mae: 20.2139\n",
            "Epoch 3/5\n",
            "1/1 [==============================] - 0s 9ms/step - loss: 19.9327 - mae: 19.9327\n",
            "Epoch 4/5\n",
            "1/1 [==============================] - 0s 8ms/step - loss: 19.6514 - mae: 19.6514\n",
            "Epoch 5/5\n",
            "1/1 [==============================] - 0s 9ms/step - loss: 19.3702 - mae: 19.3702\n"
          ]
        },
        {
          "output_type": "execute_result",
          "data": {
            "text/plain": [
              "<keras.src.callbacks.History at 0x7cfb0855f790>"
            ]
          },
          "metadata": {},
          "execution_count": 8
        }
      ]
    },
    {
      "cell_type": "code",
      "source": [
        "# Check again X and y\n",
        "X, y"
      ],
      "metadata": {
        "colab": {
          "base_uri": "https://localhost:8080/"
        },
        "id": "7UuMt77MtUy_",
        "outputId": "e24ef58b-38bf-4028-8bb6-16a8cd00d98b"
      },
      "execution_count": 9,
      "outputs": [
        {
          "output_type": "execute_result",
          "data": {
            "text/plain": [
              "(array([-7., -4., -1.,  2.,  5.,  8., 11., 14.]),\n",
              " array([ 3.,  6.,  9., 12., 15., 18., 21., 24.]))"
            ]
          },
          "metadata": {},
          "execution_count": 9
        }
      ]
    },
    {
      "cell_type": "code",
      "source": [
        "# Lets make predictions\n",
        "model.predict([11.0])"
      ],
      "metadata": {
        "colab": {
          "base_uri": "https://localhost:8080/"
        },
        "id": "_N1Hw24PPw2x",
        "outputId": "50abef9e-2444-4c34-b2f7-772567821fc4"
      },
      "execution_count": 10,
      "outputs": [
        {
          "output_type": "stream",
          "name": "stdout",
          "text": [
            "1/1 [==============================] - 0s 93ms/step\n"
          ]
        },
        {
          "output_type": "execute_result",
          "data": {
            "text/plain": [
              "array([[-13.302946]], dtype=float32)"
            ]
          },
          "metadata": {},
          "execution_count": 10
        }
      ]
    },
    {
      "cell_type": "markdown",
      "source": [
        "#Improving our model"
      ],
      "metadata": {
        "id": "Zh_lMoGWQUut"
      }
    },
    {
      "cell_type": "markdown",
      "source": [
        "We add just one neuron and same used for ouput also thats why we are getting worse results.\n",
        "We can improve the model by altering the steps we took to create the model.\n",
        "1. **Creating a model** - here we might add more layers, increase the number of hidden units (all called neurons) within each of the hideen layers, change the activation function of each layer.\n",
        "2. **Compiling a model** - here we might change the optimization function or perhaps the learning rate of the optimization function.\n",
        "3. **Fitting a model** - here we might fit a model for more epochs (leave it training for longer) or on more data (give the model more examples to learn from)."
      ],
      "metadata": {
        "id": "XJd-NV5sQ7Cc"
      }
    },
    {
      "cell_type": "code",
      "source": [
        "#1 Lets recreate the model again\n",
        "model = tf.keras.Sequential([\n",
        "    tf.keras.layers.Dense(1,input_shape=(1,))\n",
        "])\n",
        "\n",
        "#2 Compile the model\n",
        "model.compile(loss=tf.keras.losses.mae,optimizer=tf.keras.optimizers.SGD(),metrics=['mae'])\n",
        "\n",
        "#Fit the model\n",
        "model.fit(X,y,epochs=100)"
      ],
      "metadata": {
        "colab": {
          "base_uri": "https://localhost:8080/"
        },
        "id": "8h1YuGVPUuEP",
        "outputId": "efa199cd-04ff-4fc5-a5be-da90ff8090c1"
      },
      "execution_count": 11,
      "outputs": [
        {
          "output_type": "stream",
          "name": "stdout",
          "text": [
            "Epoch 1/100\n",
            "1/1 [==============================] - 0s 294ms/step - loss: 18.3787 - mae: 18.3787\n",
            "Epoch 2/100\n",
            "1/1 [==============================] - 0s 10ms/step - loss: 18.0975 - mae: 18.0975\n",
            "Epoch 3/100\n",
            "1/1 [==============================] - 0s 9ms/step - loss: 17.8162 - mae: 17.8162\n",
            "Epoch 4/100\n",
            "1/1 [==============================] - 0s 8ms/step - loss: 17.5350 - mae: 17.5350\n",
            "Epoch 5/100\n",
            "1/1 [==============================] - 0s 10ms/step - loss: 17.2537 - mae: 17.2537\n",
            "Epoch 6/100\n",
            "1/1 [==============================] - 0s 10ms/step - loss: 16.9725 - mae: 16.9725\n",
            "Epoch 7/100\n",
            "1/1 [==============================] - 0s 9ms/step - loss: 16.6912 - mae: 16.6912\n",
            "Epoch 8/100\n",
            "1/1 [==============================] - 0s 9ms/step - loss: 16.4100 - mae: 16.4100\n",
            "Epoch 9/100\n",
            "1/1 [==============================] - 0s 11ms/step - loss: 16.1287 - mae: 16.1287\n",
            "Epoch 10/100\n",
            "1/1 [==============================] - 0s 9ms/step - loss: 15.8475 - mae: 15.8475\n",
            "Epoch 11/100\n",
            "1/1 [==============================] - 0s 9ms/step - loss: 15.5662 - mae: 15.5662\n",
            "Epoch 12/100\n",
            "1/1 [==============================] - 0s 9ms/step - loss: 15.2850 - mae: 15.2850\n",
            "Epoch 13/100\n",
            "1/1 [==============================] - 0s 10ms/step - loss: 15.0037 - mae: 15.0037\n",
            "Epoch 14/100\n",
            "1/1 [==============================] - 0s 10ms/step - loss: 14.7662 - mae: 14.7662\n",
            "Epoch 15/100\n",
            "1/1 [==============================] - 0s 9ms/step - loss: 14.6337 - mae: 14.6337\n",
            "Epoch 16/100\n",
            "1/1 [==============================] - 0s 10ms/step - loss: 14.5012 - mae: 14.5012\n",
            "Epoch 17/100\n",
            "1/1 [==============================] - 0s 9ms/step - loss: 14.3687 - mae: 14.3687\n",
            "Epoch 18/100\n",
            "1/1 [==============================] - 0s 10ms/step - loss: 14.2362 - mae: 14.2362\n",
            "Epoch 19/100\n",
            "1/1 [==============================] - 0s 10ms/step - loss: 14.1037 - mae: 14.1037\n",
            "Epoch 20/100\n",
            "1/1 [==============================] - 0s 9ms/step - loss: 13.9712 - mae: 13.9712\n",
            "Epoch 21/100\n",
            "1/1 [==============================] - 0s 9ms/step - loss: 13.8387 - mae: 13.8387\n",
            "Epoch 22/100\n",
            "1/1 [==============================] - 0s 9ms/step - loss: 13.7062 - mae: 13.7062\n",
            "Epoch 23/100\n",
            "1/1 [==============================] - 0s 9ms/step - loss: 13.5737 - mae: 13.5737\n",
            "Epoch 24/100\n",
            "1/1 [==============================] - 0s 10ms/step - loss: 13.4412 - mae: 13.4412\n",
            "Epoch 25/100\n",
            "1/1 [==============================] - 0s 9ms/step - loss: 13.3087 - mae: 13.3087\n",
            "Epoch 26/100\n",
            "1/1 [==============================] - 0s 9ms/step - loss: 13.1762 - mae: 13.1762\n",
            "Epoch 27/100\n",
            "1/1 [==============================] - 0s 12ms/step - loss: 13.0437 - mae: 13.0437\n",
            "Epoch 28/100\n",
            "1/1 [==============================] - 0s 9ms/step - loss: 12.9112 - mae: 12.9112\n",
            "Epoch 29/100\n",
            "1/1 [==============================] - 0s 9ms/step - loss: 12.7787 - mae: 12.7787\n",
            "Epoch 30/100\n",
            "1/1 [==============================] - 0s 13ms/step - loss: 12.6462 - mae: 12.6462\n",
            "Epoch 31/100\n",
            "1/1 [==============================] - 0s 11ms/step - loss: 12.5137 - mae: 12.5137\n",
            "Epoch 32/100\n",
            "1/1 [==============================] - 0s 12ms/step - loss: 12.3812 - mae: 12.3812\n",
            "Epoch 33/100\n",
            "1/1 [==============================] - 0s 11ms/step - loss: 12.2487 - mae: 12.2487\n",
            "Epoch 34/100\n",
            "1/1 [==============================] - 0s 10ms/step - loss: 12.1162 - mae: 12.1162\n",
            "Epoch 35/100\n",
            "1/1 [==============================] - 0s 10ms/step - loss: 11.9837 - mae: 11.9837\n",
            "Epoch 36/100\n",
            "1/1 [==============================] - 0s 9ms/step - loss: 11.8512 - mae: 11.8512\n",
            "Epoch 37/100\n",
            "1/1 [==============================] - 0s 10ms/step - loss: 11.7188 - mae: 11.7188\n",
            "Epoch 38/100\n",
            "1/1 [==============================] - 0s 9ms/step - loss: 11.5862 - mae: 11.5862\n",
            "Epoch 39/100\n",
            "1/1 [==============================] - 0s 10ms/step - loss: 11.4537 - mae: 11.4537\n",
            "Epoch 40/100\n",
            "1/1 [==============================] - 0s 9ms/step - loss: 11.3212 - mae: 11.3212\n",
            "Epoch 41/100\n",
            "1/1 [==============================] - 0s 9ms/step - loss: 11.1887 - mae: 11.1887\n",
            "Epoch 42/100\n",
            "1/1 [==============================] - 0s 9ms/step - loss: 11.0562 - mae: 11.0562\n",
            "Epoch 43/100\n",
            "1/1 [==============================] - 0s 9ms/step - loss: 10.9237 - mae: 10.9237\n",
            "Epoch 44/100\n",
            "1/1 [==============================] - 0s 9ms/step - loss: 10.7912 - mae: 10.7912\n",
            "Epoch 45/100\n",
            "1/1 [==============================] - 0s 10ms/step - loss: 10.6587 - mae: 10.6587\n",
            "Epoch 46/100\n",
            "1/1 [==============================] - 0s 11ms/step - loss: 10.5262 - mae: 10.5262\n",
            "Epoch 47/100\n",
            "1/1 [==============================] - 0s 11ms/step - loss: 10.3937 - mae: 10.3937\n",
            "Epoch 48/100\n",
            "1/1 [==============================] - 0s 9ms/step - loss: 10.2612 - mae: 10.2612\n",
            "Epoch 49/100\n",
            "1/1 [==============================] - 0s 9ms/step - loss: 10.1287 - mae: 10.1287\n",
            "Epoch 50/100\n",
            "1/1 [==============================] - 0s 9ms/step - loss: 9.9962 - mae: 9.9962\n",
            "Epoch 51/100\n",
            "1/1 [==============================] - 0s 9ms/step - loss: 9.8637 - mae: 9.8637\n",
            "Epoch 52/100\n",
            "1/1 [==============================] - 0s 9ms/step - loss: 9.7312 - mae: 9.7312\n",
            "Epoch 53/100\n",
            "1/1 [==============================] - 0s 10ms/step - loss: 9.5987 - mae: 9.5987\n",
            "Epoch 54/100\n",
            "1/1 [==============================] - 0s 9ms/step - loss: 9.4662 - mae: 9.4662\n",
            "Epoch 55/100\n",
            "1/1 [==============================] - 0s 9ms/step - loss: 9.3337 - mae: 9.3337\n",
            "Epoch 56/100\n",
            "1/1 [==============================] - 0s 9ms/step - loss: 9.2012 - mae: 9.2012\n",
            "Epoch 57/100\n",
            "1/1 [==============================] - 0s 9ms/step - loss: 9.0687 - mae: 9.0687\n",
            "Epoch 58/100\n",
            "1/1 [==============================] - 0s 9ms/step - loss: 8.9362 - mae: 8.9362\n",
            "Epoch 59/100\n",
            "1/1 [==============================] - 0s 9ms/step - loss: 8.8037 - mae: 8.8037\n",
            "Epoch 60/100\n",
            "1/1 [==============================] - 0s 9ms/step - loss: 8.6712 - mae: 8.6712\n",
            "Epoch 61/100\n",
            "1/1 [==============================] - 0s 9ms/step - loss: 8.5387 - mae: 8.5387\n",
            "Epoch 62/100\n",
            "1/1 [==============================] - 0s 9ms/step - loss: 8.4062 - mae: 8.4062\n",
            "Epoch 63/100\n",
            "1/1 [==============================] - 0s 9ms/step - loss: 8.2737 - mae: 8.2737\n",
            "Epoch 64/100\n",
            "1/1 [==============================] - 0s 9ms/step - loss: 8.1412 - mae: 8.1412\n",
            "Epoch 65/100\n",
            "1/1 [==============================] - 0s 9ms/step - loss: 8.0087 - mae: 8.0087\n",
            "Epoch 66/100\n",
            "1/1 [==============================] - 0s 9ms/step - loss: 7.8762 - mae: 7.8762\n",
            "Epoch 67/100\n",
            "1/1 [==============================] - 0s 9ms/step - loss: 7.7437 - mae: 7.7437\n",
            "Epoch 68/100\n",
            "1/1 [==============================] - 0s 9ms/step - loss: 7.6112 - mae: 7.6112\n",
            "Epoch 69/100\n",
            "1/1 [==============================] - 0s 9ms/step - loss: 7.4787 - mae: 7.4787\n",
            "Epoch 70/100\n",
            "1/1 [==============================] - 0s 9ms/step - loss: 7.3463 - mae: 7.3463\n",
            "Epoch 71/100\n",
            "1/1 [==============================] - 0s 12ms/step - loss: 7.2137 - mae: 7.2137\n",
            "Epoch 72/100\n",
            "1/1 [==============================] - 0s 9ms/step - loss: 7.0813 - mae: 7.0813\n",
            "Epoch 73/100\n",
            "1/1 [==============================] - 0s 9ms/step - loss: 6.9844 - mae: 6.9844\n",
            "Epoch 74/100\n",
            "1/1 [==============================] - 0s 9ms/step - loss: 6.9788 - mae: 6.9788\n",
            "Epoch 75/100\n",
            "1/1 [==============================] - 0s 9ms/step - loss: 6.9731 - mae: 6.9731\n",
            "Epoch 76/100\n",
            "1/1 [==============================] - 0s 10ms/step - loss: 6.9675 - mae: 6.9675\n",
            "Epoch 77/100\n",
            "1/1 [==============================] - 0s 9ms/step - loss: 6.9619 - mae: 6.9619\n",
            "Epoch 78/100\n",
            "1/1 [==============================] - 0s 9ms/step - loss: 6.9563 - mae: 6.9563\n",
            "Epoch 79/100\n",
            "1/1 [==============================] - 0s 9ms/step - loss: 6.9506 - mae: 6.9506\n",
            "Epoch 80/100\n",
            "1/1 [==============================] - 0s 9ms/step - loss: 6.9450 - mae: 6.9450\n",
            "Epoch 81/100\n",
            "1/1 [==============================] - 0s 9ms/step - loss: 6.9394 - mae: 6.9394\n",
            "Epoch 82/100\n",
            "1/1 [==============================] - 0s 9ms/step - loss: 6.9338 - mae: 6.9338\n",
            "Epoch 83/100\n",
            "1/1 [==============================] - 0s 9ms/step - loss: 6.9281 - mae: 6.9281\n",
            "Epoch 84/100\n",
            "1/1 [==============================] - 0s 9ms/step - loss: 6.9225 - mae: 6.9225\n",
            "Epoch 85/100\n",
            "1/1 [==============================] - 0s 9ms/step - loss: 6.9169 - mae: 6.9169\n",
            "Epoch 86/100\n",
            "1/1 [==============================] - 0s 9ms/step - loss: 6.9113 - mae: 6.9113\n",
            "Epoch 87/100\n",
            "1/1 [==============================] - 0s 9ms/step - loss: 6.9056 - mae: 6.9056\n",
            "Epoch 88/100\n",
            "1/1 [==============================] - 0s 10ms/step - loss: 6.9000 - mae: 6.9000\n",
            "Epoch 89/100\n",
            "1/1 [==============================] - 0s 9ms/step - loss: 6.8944 - mae: 6.8944\n",
            "Epoch 90/100\n",
            "1/1 [==============================] - 0s 9ms/step - loss: 6.8888 - mae: 6.8888\n",
            "Epoch 91/100\n",
            "1/1 [==============================] - 0s 9ms/step - loss: 6.8831 - mae: 6.8831\n",
            "Epoch 92/100\n",
            "1/1 [==============================] - 0s 8ms/step - loss: 6.8775 - mae: 6.8775\n",
            "Epoch 93/100\n",
            "1/1 [==============================] - 0s 8ms/step - loss: 6.8719 - mae: 6.8719\n",
            "Epoch 94/100\n",
            "1/1 [==============================] - 0s 9ms/step - loss: 6.8663 - mae: 6.8663\n",
            "Epoch 95/100\n",
            "1/1 [==============================] - 0s 9ms/step - loss: 6.8606 - mae: 6.8606\n",
            "Epoch 96/100\n",
            "1/1 [==============================] - 0s 9ms/step - loss: 6.8550 - mae: 6.8550\n",
            "Epoch 97/100\n",
            "1/1 [==============================] - 0s 9ms/step - loss: 6.8494 - mae: 6.8494\n",
            "Epoch 98/100\n",
            "1/1 [==============================] - 0s 9ms/step - loss: 6.8438 - mae: 6.8438\n",
            "Epoch 99/100\n",
            "1/1 [==============================] - 0s 9ms/step - loss: 6.8381 - mae: 6.8381\n",
            "Epoch 100/100\n",
            "1/1 [==============================] - 0s 9ms/step - loss: 6.8325 - mae: 6.8325\n"
          ]
        },
        {
          "output_type": "execute_result",
          "data": {
            "text/plain": [
              "<keras.src.callbacks.History at 0x7cfb081acfd0>"
            ]
          },
          "metadata": {},
          "execution_count": 11
        }
      ]
    },
    {
      "cell_type": "code",
      "source": [
        "# Lets see our data first\n",
        "X, y"
      ],
      "metadata": {
        "colab": {
          "base_uri": "https://localhost:8080/"
        },
        "id": "jdK6Lc4VYZhE",
        "outputId": "c567773c-ce9f-4178-dc88-b3a3f6ba4493"
      },
      "execution_count": 12,
      "outputs": [
        {
          "output_type": "execute_result",
          "data": {
            "text/plain": [
              "(array([-7., -4., -1.,  2.,  5.,  8., 11., 14.]),\n",
              " array([ 3.,  6.,  9., 12., 15., 18., 21., 24.]))"
            ]
          },
          "metadata": {},
          "execution_count": 12
        }
      ]
    },
    {
      "cell_type": "code",
      "source": [
        "# Lets again do prediction\n",
        "model.predict([17.0])"
      ],
      "metadata": {
        "colab": {
          "base_uri": "https://localhost:8080/"
        },
        "id": "L_-brQlAZd8s",
        "outputId": "7295e145-1ca5-49f5-a95d-0ebfab3dba28"
      },
      "execution_count": 13,
      "outputs": [
        {
          "output_type": "stream",
          "name": "stdout",
          "text": [
            "1/1 [==============================] - 0s 97ms/step\n"
          ]
        },
        {
          "output_type": "execute_result",
          "data": {
            "text/plain": [
              "array([[29.378572]], dtype=float32)"
            ]
          },
          "metadata": {},
          "execution_count": 13
        }
      ]
    },
    {
      "cell_type": "code",
      "source": [
        "# Let's see if we can make another change to improve our model\n",
        "\n",
        "# 1. Create the model (this time with an extra hidden layer with 100 hidden units)\n",
        "\n",
        "model = tf.keras.Sequential([\n",
        "    tf.keras.layers.Dense(units=1,input_shape=(1,)),\n",
        "    tf.keras.layers.Dense(units=50,activation=None),\n",
        "    tf.keras.layers.Dense(units=1)\n",
        "])\n",
        "\n",
        "# Compile the model again with changes\n",
        "model.compile(loss=tf.keras.losses.MAE, optimizer=tf.keras.optimizers.Adam(lr=0.01), metrics=['mae'])\n",
        "\n",
        "# Fit the model created\n",
        "model.fit(X,y,epochs=100)"
      ],
      "metadata": {
        "colab": {
          "base_uri": "https://localhost:8080/"
        },
        "id": "DZlUsLCqZkfo",
        "outputId": "baa9d680-b69f-45e6-da5b-1c56924d95d2"
      },
      "execution_count": 14,
      "outputs": [
        {
          "output_type": "stream",
          "name": "stderr",
          "text": [
            "WARNING:absl:`lr` is deprecated in Keras optimizer, please use `learning_rate` or use the legacy optimizer, e.g.,tf.keras.optimizers.legacy.Adam.\n"
          ]
        },
        {
          "output_type": "stream",
          "name": "stdout",
          "text": [
            "Epoch 1/100\n",
            "1/1 [==============================] - 1s 709ms/step - loss: 14.5814 - mae: 14.5814\n",
            "Epoch 2/100\n",
            "1/1 [==============================] - 0s 11ms/step - loss: 14.5010 - mae: 14.5010\n",
            "Epoch 3/100\n",
            "1/1 [==============================] - 0s 11ms/step - loss: 14.4208 - mae: 14.4208\n",
            "Epoch 4/100\n",
            "1/1 [==============================] - 0s 11ms/step - loss: 14.3408 - mae: 14.3408\n",
            "Epoch 5/100\n",
            "1/1 [==============================] - 0s 10ms/step - loss: 14.2611 - mae: 14.2611\n",
            "Epoch 6/100\n",
            "1/1 [==============================] - 0s 9ms/step - loss: 14.1815 - mae: 14.1815\n",
            "Epoch 7/100\n",
            "1/1 [==============================] - 0s 9ms/step - loss: 14.1022 - mae: 14.1022\n",
            "Epoch 8/100\n",
            "1/1 [==============================] - 0s 11ms/step - loss: 14.0231 - mae: 14.0231\n",
            "Epoch 9/100\n",
            "1/1 [==============================] - 0s 9ms/step - loss: 13.9442 - mae: 13.9442\n",
            "Epoch 10/100\n",
            "1/1 [==============================] - 0s 10ms/step - loss: 13.8655 - mae: 13.8655\n",
            "Epoch 11/100\n",
            "1/1 [==============================] - 0s 10ms/step - loss: 13.7869 - mae: 13.7869\n",
            "Epoch 12/100\n",
            "1/1 [==============================] - 0s 9ms/step - loss: 13.7085 - mae: 13.7085\n",
            "Epoch 13/100\n",
            "1/1 [==============================] - 0s 9ms/step - loss: 13.6303 - mae: 13.6303\n",
            "Epoch 14/100\n",
            "1/1 [==============================] - 0s 9ms/step - loss: 13.5522 - mae: 13.5522\n",
            "Epoch 15/100\n",
            "1/1 [==============================] - 0s 9ms/step - loss: 13.4742 - mae: 13.4742\n",
            "Epoch 16/100\n",
            "1/1 [==============================] - 0s 10ms/step - loss: 13.3963 - mae: 13.3963\n",
            "Epoch 17/100\n",
            "1/1 [==============================] - 0s 10ms/step - loss: 13.3184 - mae: 13.3184\n",
            "Epoch 18/100\n",
            "1/1 [==============================] - 0s 12ms/step - loss: 13.2406 - mae: 13.2406\n",
            "Epoch 19/100\n",
            "1/1 [==============================] - 0s 11ms/step - loss: 13.1627 - mae: 13.1627\n",
            "Epoch 20/100\n",
            "1/1 [==============================] - 0s 10ms/step - loss: 13.0849 - mae: 13.0849\n",
            "Epoch 21/100\n",
            "1/1 [==============================] - 0s 11ms/step - loss: 13.0070 - mae: 13.0070\n",
            "Epoch 22/100\n",
            "1/1 [==============================] - 0s 10ms/step - loss: 12.9290 - mae: 12.9290\n",
            "Epoch 23/100\n",
            "1/1 [==============================] - 0s 13ms/step - loss: 12.8509 - mae: 12.8509\n",
            "Epoch 24/100\n",
            "1/1 [==============================] - 0s 11ms/step - loss: 12.7727 - mae: 12.7727\n",
            "Epoch 25/100\n",
            "1/1 [==============================] - 0s 10ms/step - loss: 12.6943 - mae: 12.6943\n",
            "Epoch 26/100\n",
            "1/1 [==============================] - 0s 9ms/step - loss: 12.6157 - mae: 12.6157\n",
            "Epoch 27/100\n",
            "1/1 [==============================] - 0s 10ms/step - loss: 12.5368 - mae: 12.5368\n",
            "Epoch 28/100\n",
            "1/1 [==============================] - 0s 10ms/step - loss: 12.4577 - mae: 12.4577\n",
            "Epoch 29/100\n",
            "1/1 [==============================] - 0s 10ms/step - loss: 12.3782 - mae: 12.3782\n",
            "Epoch 30/100\n",
            "1/1 [==============================] - 0s 10ms/step - loss: 12.2984 - mae: 12.2984\n",
            "Epoch 31/100\n",
            "1/1 [==============================] - 0s 10ms/step - loss: 12.2182 - mae: 12.2182\n",
            "Epoch 32/100\n",
            "1/1 [==============================] - 0s 14ms/step - loss: 12.1377 - mae: 12.1377\n",
            "Epoch 33/100\n",
            "1/1 [==============================] - 0s 10ms/step - loss: 12.0567 - mae: 12.0567\n",
            "Epoch 34/100\n",
            "1/1 [==============================] - 0s 9ms/step - loss: 11.9752 - mae: 11.9752\n",
            "Epoch 35/100\n",
            "1/1 [==============================] - 0s 10ms/step - loss: 11.8933 - mae: 11.8933\n",
            "Epoch 36/100\n",
            "1/1 [==============================] - 0s 13ms/step - loss: 11.8110 - mae: 11.8110\n",
            "Epoch 37/100\n",
            "1/1 [==============================] - 0s 9ms/step - loss: 11.7281 - mae: 11.7281\n",
            "Epoch 38/100\n",
            "1/1 [==============================] - 0s 9ms/step - loss: 11.6447 - mae: 11.6447\n",
            "Epoch 39/100\n",
            "1/1 [==============================] - 0s 9ms/step - loss: 11.5607 - mae: 11.5607\n",
            "Epoch 40/100\n",
            "1/1 [==============================] - 0s 9ms/step - loss: 11.4762 - mae: 11.4762\n",
            "Epoch 41/100\n",
            "1/1 [==============================] - 0s 9ms/step - loss: 11.3911 - mae: 11.3911\n",
            "Epoch 42/100\n",
            "1/1 [==============================] - 0s 9ms/step - loss: 11.3053 - mae: 11.3053\n",
            "Epoch 43/100\n",
            "1/1 [==============================] - 0s 10ms/step - loss: 11.2190 - mae: 11.2190\n",
            "Epoch 44/100\n",
            "1/1 [==============================] - 0s 12ms/step - loss: 11.1320 - mae: 11.1320\n",
            "Epoch 45/100\n",
            "1/1 [==============================] - 0s 12ms/step - loss: 11.0444 - mae: 11.0444\n",
            "Epoch 46/100\n",
            "1/1 [==============================] - 0s 9ms/step - loss: 10.9561 - mae: 10.9561\n",
            "Epoch 47/100\n",
            "1/1 [==============================] - 0s 11ms/step - loss: 10.8671 - mae: 10.8671\n",
            "Epoch 48/100\n",
            "1/1 [==============================] - 0s 11ms/step - loss: 10.7774 - mae: 10.7774\n",
            "Epoch 49/100\n",
            "1/1 [==============================] - 0s 10ms/step - loss: 10.6870 - mae: 10.6870\n",
            "Epoch 50/100\n",
            "1/1 [==============================] - 0s 10ms/step - loss: 10.5958 - mae: 10.5958\n",
            "Epoch 51/100\n",
            "1/1 [==============================] - 0s 10ms/step - loss: 10.5039 - mae: 10.5039\n",
            "Epoch 52/100\n",
            "1/1 [==============================] - 0s 11ms/step - loss: 10.4112 - mae: 10.4112\n",
            "Epoch 53/100\n",
            "1/1 [==============================] - 0s 10ms/step - loss: 10.3177 - mae: 10.3177\n",
            "Epoch 54/100\n",
            "1/1 [==============================] - 0s 10ms/step - loss: 10.2235 - mae: 10.2235\n",
            "Epoch 55/100\n",
            "1/1 [==============================] - 0s 9ms/step - loss: 10.1284 - mae: 10.1284\n",
            "Epoch 56/100\n",
            "1/1 [==============================] - 0s 9ms/step - loss: 10.0325 - mae: 10.0325\n",
            "Epoch 57/100\n",
            "1/1 [==============================] - 0s 10ms/step - loss: 9.9357 - mae: 9.9357\n",
            "Epoch 58/100\n",
            "1/1 [==============================] - 0s 9ms/step - loss: 9.8381 - mae: 9.8381\n",
            "Epoch 59/100\n",
            "1/1 [==============================] - 0s 9ms/step - loss: 9.7396 - mae: 9.7396\n",
            "Epoch 60/100\n",
            "1/1 [==============================] - 0s 10ms/step - loss: 9.6402 - mae: 9.6402\n",
            "Epoch 61/100\n",
            "1/1 [==============================] - 0s 10ms/step - loss: 9.5399 - mae: 9.5399\n",
            "Epoch 62/100\n",
            "1/1 [==============================] - 0s 11ms/step - loss: 9.4387 - mae: 9.4387\n",
            "Epoch 63/100\n",
            "1/1 [==============================] - 0s 9ms/step - loss: 9.3366 - mae: 9.3366\n",
            "Epoch 64/100\n",
            "1/1 [==============================] - 0s 9ms/step - loss: 9.2335 - mae: 9.2335\n",
            "Epoch 65/100\n",
            "1/1 [==============================] - 0s 10ms/step - loss: 9.1295 - mae: 9.1295\n",
            "Epoch 66/100\n",
            "1/1 [==============================] - 0s 9ms/step - loss: 9.0244 - mae: 9.0244\n",
            "Epoch 67/100\n",
            "1/1 [==============================] - 0s 9ms/step - loss: 8.9184 - mae: 8.9184\n",
            "Epoch 68/100\n",
            "1/1 [==============================] - 0s 9ms/step - loss: 8.8114 - mae: 8.8114\n",
            "Epoch 69/100\n",
            "1/1 [==============================] - 0s 9ms/step - loss: 8.7034 - mae: 8.7034\n",
            "Epoch 70/100\n",
            "1/1 [==============================] - 0s 9ms/step - loss: 8.5943 - mae: 8.5943\n",
            "Epoch 71/100\n",
            "1/1 [==============================] - 0s 9ms/step - loss: 8.4842 - mae: 8.4842\n",
            "Epoch 72/100\n",
            "1/1 [==============================] - 0s 9ms/step - loss: 8.3731 - mae: 8.3731\n",
            "Epoch 73/100\n",
            "1/1 [==============================] - 0s 9ms/step - loss: 8.2609 - mae: 8.2609\n",
            "Epoch 74/100\n",
            "1/1 [==============================] - 0s 9ms/step - loss: 8.1476 - mae: 8.1476\n",
            "Epoch 75/100\n",
            "1/1 [==============================] - 0s 9ms/step - loss: 8.0332 - mae: 8.0332\n",
            "Epoch 76/100\n",
            "1/1 [==============================] - 0s 10ms/step - loss: 7.9177 - mae: 7.9177\n",
            "Epoch 77/100\n",
            "1/1 [==============================] - 0s 12ms/step - loss: 7.8010 - mae: 7.8010\n",
            "Epoch 78/100\n",
            "1/1 [==============================] - 0s 9ms/step - loss: 7.6833 - mae: 7.6833\n",
            "Epoch 79/100\n",
            "1/1 [==============================] - 0s 10ms/step - loss: 7.5644 - mae: 7.5644\n",
            "Epoch 80/100\n",
            "1/1 [==============================] - 0s 10ms/step - loss: 7.4443 - mae: 7.4443\n",
            "Epoch 81/100\n",
            "1/1 [==============================] - 0s 10ms/step - loss: 7.3231 - mae: 7.3231\n",
            "Epoch 82/100\n",
            "1/1 [==============================] - 0s 10ms/step - loss: 7.2007 - mae: 7.2007\n",
            "Epoch 83/100\n",
            "1/1 [==============================] - 0s 10ms/step - loss: 7.0770 - mae: 7.0770\n",
            "Epoch 84/100\n",
            "1/1 [==============================] - 0s 9ms/step - loss: 6.9522 - mae: 6.9522\n",
            "Epoch 85/100\n",
            "1/1 [==============================] - 0s 9ms/step - loss: 6.8344 - mae: 6.8344\n",
            "Epoch 86/100\n",
            "1/1 [==============================] - 0s 9ms/step - loss: 6.8222 - mae: 6.8222\n",
            "Epoch 87/100\n",
            "1/1 [==============================] - 0s 9ms/step - loss: 6.8103 - mae: 6.8103\n",
            "Epoch 88/100\n",
            "1/1 [==============================] - 0s 9ms/step - loss: 6.7987 - mae: 6.7987\n",
            "Epoch 89/100\n",
            "1/1 [==============================] - 0s 9ms/step - loss: 6.7873 - mae: 6.7873\n",
            "Epoch 90/100\n",
            "1/1 [==============================] - 0s 13ms/step - loss: 6.7761 - mae: 6.7761\n",
            "Epoch 91/100\n",
            "1/1 [==============================] - 0s 10ms/step - loss: 6.7652 - mae: 6.7652\n",
            "Epoch 92/100\n",
            "1/1 [==============================] - 0s 11ms/step - loss: 6.7544 - mae: 6.7544\n",
            "Epoch 93/100\n",
            "1/1 [==============================] - 0s 11ms/step - loss: 6.7612 - mae: 6.7612\n",
            "Epoch 94/100\n",
            "1/1 [==============================] - 0s 9ms/step - loss: 6.7847 - mae: 6.7847\n",
            "Epoch 95/100\n",
            "1/1 [==============================] - 0s 10ms/step - loss: 6.7977 - mae: 6.7977\n",
            "Epoch 96/100\n",
            "1/1 [==============================] - 0s 12ms/step - loss: 6.8015 - mae: 6.8015\n",
            "Epoch 97/100\n",
            "1/1 [==============================] - 0s 10ms/step - loss: 6.7969 - mae: 6.7969\n",
            "Epoch 98/100\n",
            "1/1 [==============================] - 0s 10ms/step - loss: 6.7848 - mae: 6.7848\n",
            "Epoch 99/100\n",
            "1/1 [==============================] - 0s 9ms/step - loss: 6.7659 - mae: 6.7659\n",
            "Epoch 100/100\n",
            "1/1 [==============================] - 0s 9ms/step - loss: 6.7412 - mae: 6.7412\n"
          ]
        },
        {
          "output_type": "execute_result",
          "data": {
            "text/plain": [
              "<keras.src.callbacks.History at 0x7cfb080ac370>"
            ]
          },
          "metadata": {},
          "execution_count": 14
        }
      ]
    },
    {
      "cell_type": "code",
      "source": [
        "# Lets predict the output\n",
        "model.predict([11.0])"
      ],
      "metadata": {
        "colab": {
          "base_uri": "https://localhost:8080/"
        },
        "id": "fhYsVuXmfQfH",
        "outputId": "0b548d64-77ea-4249-d428-495a47c03107"
      },
      "execution_count": 15,
      "outputs": [
        {
          "output_type": "stream",
          "name": "stdout",
          "text": [
            "1/1 [==============================] - 0s 100ms/step\n"
          ]
        },
        {
          "output_type": "execute_result",
          "data": {
            "text/plain": [
              "array([[21.122175]], dtype=float32)"
            ]
          },
          "metadata": {},
          "execution_count": 15
        }
      ]
    },
    {
      "cell_type": "code",
      "source": [
        "model.predict([17.0])"
      ],
      "metadata": {
        "colab": {
          "base_uri": "https://localhost:8080/"
        },
        "id": "zshTph5EfY3U",
        "outputId": "28e914d4-f402-4994-b899-397d78929c29"
      },
      "execution_count": 16,
      "outputs": [
        {
          "output_type": "stream",
          "name": "stdout",
          "text": [
            "1/1 [==============================] - 0s 35ms/step\n"
          ]
        },
        {
          "output_type": "execute_result",
          "data": {
            "text/plain": [
              "array([[32.047382]], dtype=float32)"
            ]
          },
          "metadata": {},
          "execution_count": 16
        }
      ]
    },
    {
      "cell_type": "markdown",
      "source": [
        "**Warning**: What do you notice in previous 2 predictions?. The model predicts the 11's answer exactly correct but 17's wrong. Because the Model gets overfitted during training and memorizes the data points"
      ],
      "metadata": {
        "id": "AEcVAfyHgEWP"
      }
    },
    {
      "cell_type": "markdown",
      "source": [
        "# Evaluating the Model\n",
        "In practice, a typical workflow you'll go through when building neural networks is:\n",
        "\n",
        "Build a model  -> fit it -> evaluate it -> tweak a model -> fit it -> evaluate it -> tweak a model -> fit it -> evaluate it...\n",
        "When it comes to evaluation... there are 3 words you should memorize:\n",
        "\n",
        "\"Visualize, visualize, visualize\"\n",
        "\n",
        "It's a good idea to visualize:\n",
        "\n",
        "* The data - what data are we working with? What does it look like?\n",
        "* The model itself - what does our model look like?\n",
        "* The training of a model - how does a model perform while it learns?\n",
        "* The predictions of the model - how do the predictions of a model line up against the ground truth (the original labels)?"
      ],
      "metadata": {
        "id": "RW-7Kzm1grO2"
      }
    },
    {
      "cell_type": "markdown",
      "source": [
        "#Making the Bigger Data"
      ],
      "metadata": {
        "id": "tZzTNkRPk8Di"
      }
    },
    {
      "cell_type": "code",
      "source": [
        "data = tf.range(-100,100,4)"
      ],
      "metadata": {
        "id": "wIrRYYiYk-hW"
      },
      "execution_count": 17,
      "outputs": []
    },
    {
      "cell_type": "code",
      "source": [
        "data"
      ],
      "metadata": {
        "colab": {
          "base_uri": "https://localhost:8080/"
        },
        "id": "skkjv3YllGut",
        "outputId": "1d287615-6645-4428-c0e1-d5c90fd09bb3"
      },
      "execution_count": 18,
      "outputs": [
        {
          "output_type": "execute_result",
          "data": {
            "text/plain": [
              "<tf.Tensor: shape=(50,), dtype=int32, numpy=\n",
              "array([-100,  -96,  -92,  -88,  -84,  -80,  -76,  -72,  -68,  -64,  -60,\n",
              "        -56,  -52,  -48,  -44,  -40,  -36,  -32,  -28,  -24,  -20,  -16,\n",
              "        -12,   -8,   -4,    0,    4,    8,   12,   16,   20,   24,   28,\n",
              "         32,   36,   40,   44,   48,   52,   56,   60,   64,   68,   72,\n",
              "         76,   80,   84,   88,   92,   96], dtype=int32)>"
            ]
          },
          "metadata": {},
          "execution_count": 18
        }
      ]
    },
    {
      "cell_type": "code",
      "source": [
        "# Labeling the data with specific pattern\n",
        "y = data+10\n",
        "y"
      ],
      "metadata": {
        "colab": {
          "base_uri": "https://localhost:8080/"
        },
        "id": "NybranRZmIvP",
        "outputId": "37793f8b-b3ec-41f5-9903-cd46bcfd7f92"
      },
      "execution_count": 19,
      "outputs": [
        {
          "output_type": "execute_result",
          "data": {
            "text/plain": [
              "<tf.Tensor: shape=(50,), dtype=int32, numpy=\n",
              "array([-90, -86, -82, -78, -74, -70, -66, -62, -58, -54, -50, -46, -42,\n",
              "       -38, -34, -30, -26, -22, -18, -14, -10,  -6,  -2,   2,   6,  10,\n",
              "        14,  18,  22,  26,  30,  34,  38,  42,  46,  50,  54,  58,  62,\n",
              "        66,  70,  74,  78,  82,  86,  90,  94,  98, 102, 106], dtype=int32)>"
            ]
          },
          "metadata": {},
          "execution_count": 19
        }
      ]
    },
    {
      "cell_type": "code",
      "source": [
        "# Viualize the data\n",
        "plt.scatter(data,y)"
      ],
      "metadata": {
        "colab": {
          "base_uri": "https://localhost:8080/",
          "height": 447
        },
        "id": "bfn1mP82mkXI",
        "outputId": "38e41790-b0ad-4ff1-b123-4337e29f1c79"
      },
      "execution_count": 20,
      "outputs": [
        {
          "output_type": "execute_result",
          "data": {
            "text/plain": [
              "<matplotlib.collections.PathCollection at 0x7cfb01778ac0>"
            ]
          },
          "metadata": {},
          "execution_count": 20
        },
        {
          "output_type": "display_data",
          "data": {
            "text/plain": [
              "<Figure size 640x480 with 1 Axes>"
            ],
            "image/png": "[encoded data removed]"
          },
          "metadata": {}
        }
      ]
    },
    {
      "cell_type": "code",
      "source": [
        "X_train = data[:40]\n",
        "y_train = y[:40]\n",
        "X_test = data[40:]\n",
        "y_test = y[40:]"
      ],
      "metadata": {
        "id": "RvMHrsm0mvLu"
      },
      "execution_count": 21,
      "outputs": []
    },
    {
      "cell_type": "code",
      "source": [
        "X_train = tf.reshape(tf.constant(X_train),shape=(40,1))\n",
        "X_train.shape"
      ],
      "metadata": {
        "colab": {
          "base_uri": "https://localhost:8080/"
        },
        "id": "rRnetX2_2UDp",
        "outputId": "fd58154a-59e0-4cfe-fc46-15988f7f4a54"
      },
      "execution_count": 22,
      "outputs": [
        {
          "output_type": "execute_result",
          "data": {
            "text/plain": [
              "TensorShape([40, 1])"
            ]
          },
          "metadata": {},
          "execution_count": 22
        }
      ]
    },
    {
      "cell_type": "code",
      "source": [
        "X_test = tf.reshape(tf.constant(X_test),shape=(10,1))\n",
        "X_test"
      ],
      "metadata": {
        "colab": {
          "base_uri": "https://localhost:8080/"
        },
        "id": "k7eqp7l02t5T",
        "outputId": "230da916-58ef-4e31-f062-aa17242377f8"
      },
      "execution_count": 23,
      "outputs": [
        {
          "output_type": "execute_result",
          "data": {
            "text/plain": [
              "<tf.Tensor: shape=(10, 1), dtype=int32, numpy=\n",
              "array([[60],\n",
              "       [64],\n",
              "       [68],\n",
              "       [72],\n",
              "       [76],\n",
              "       [80],\n",
              "       [84],\n",
              "       [88],\n",
              "       [92],\n",
              "       [96]], dtype=int32)>"
            ]
          },
          "metadata": {},
          "execution_count": 23
        }
      ]
    },
    {
      "cell_type": "markdown",
      "source": [
        "# The 3 Sets\n",
        "* **Training set** - the model learns from this data, which is typically 70-80% of the total data you have available.\n",
        "* **Validation set** - the model gets tuned on this data, which is typically 10-15% of the data available.\n",
        "* **Test set** - the model gets evaluated on this data to test what is has learned, this set is typically 10-15% of the total data available."
      ],
      "metadata": {
        "id": "JADy_5rRngv6"
      }
    },
    {
      "cell_type": "code",
      "source": [
        "len(X_train), len(X_test)"
      ],
      "metadata": {
        "colab": {
          "base_uri": "https://localhost:8080/"
        },
        "id": "WLJ0TP08veaw",
        "outputId": "e28ec54c-0adf-414a-d312-edc5c7c2db53"
      },
      "execution_count": 24,
      "outputs": [
        {
          "output_type": "execute_result",
          "data": {
            "text/plain": [
              "(40, 10)"
            ]
          },
          "metadata": {},
          "execution_count": 24
        }
      ]
    },
    {
      "cell_type": "code",
      "source": [
        "# Plotting Testing and Training data\n",
        "plt.figure(figsize=(5,5))\n",
        "plt.scatter(X_train,y_train,c='b',label=\"Training Data\")\n",
        "plt.scatter(X_test,y_test,c='g',label=\"Testing Data\")\n",
        "plt.legend()"
      ],
      "metadata": {
        "colab": {
          "base_uri": "https://localhost:8080/",
          "height": 462
        },
        "id": "3VNfgHyVnw04",
        "outputId": "e9a8f5fc-ea25-46c0-8a72-c790beba6182"
      },
      "execution_count": 25,
      "outputs": [
        {
          "output_type": "execute_result",
          "data": {
            "text/plain": [
              "<matplotlib.legend.Legend at 0x7cfb01178d90>"
            ]
          },
          "metadata": {},
          "execution_count": 25
        },
        {
          "output_type": "display_data",
          "data": {
            "text/plain": [
              "<Figure size 500x500 with 1 Axes>"
            ],
            "image/png": "[encoded data removed]"
          },
          "metadata": {}
        }
      ]
    },
    {
      "cell_type": "code",
      "source": [
        "# Let's create a neural network for our model\n",
        "tf.random.set_seed(42)\n",
        "model = tf.keras.Sequential([\n",
        "    tf.keras.layers.Dense(units=1,name=\"input_layer\"),\n",
        "    tf.keras.layers.Dense(units=1,name=\"output_layer\")\n",
        "],name=\"MyModel\")\n",
        "\n",
        "model.compile(loss=tf.keras.losses.MAE,optimizer=tf.keras.optimizers.SGD(),metrics=['mae'])\n",
        "\n",
        "model.fit(X_train,y_train,epochs=100)"
      ],
      "metadata": {
        "id": "Rq6Oy17jtmqF",
        "colab": {
          "base_uri": "https://localhost:8080/"
        },
        "outputId": "a82ef679-2d01-4976-aed7-486eeabbf51f"
      },
      "execution_count": 28,
      "outputs": [
        {
          "output_type": "stream",
          "name": "stdout",
          "text": [
            "Epoch 1/100\n",
            "2/2 [==============================] - 1s 15ms/step - loss: 57.8723 - mae: 57.8723\n",
            "Epoch 2/100\n",
            "2/2 [==============================] - 0s 9ms/step - loss: 40.8363 - mae: 40.8363\n",
            "Epoch 3/100\n",
            "2/2 [==============================] - 0s 15ms/step - loss: 32.0037 - mae: 32.0037\n",
            "Epoch 4/100\n",
            "2/2 [==============================] - 0s 22ms/step - loss: 11.8560 - mae: 11.8560\n",
            "Epoch 5/100\n",
            "2/2 [==============================] - 0s 15ms/step - loss: 17.1087 - mae: 17.1087\n",
            "Epoch 6/100\n",
            "2/2 [==============================] - 0s 9ms/step - loss: 12.0038 - mae: 12.0038\n",
            "Epoch 7/100\n",
            "2/2 [==============================] - 0s 15ms/step - loss: 11.2629 - mae: 11.2629\n",
            "Epoch 8/100\n",
            "2/2 [==============================] - 0s 9ms/step - loss: 11.0890 - mae: 11.0890\n",
            "Epoch 9/100\n",
            "2/2 [==============================] - 0s 8ms/step - loss: 40.1413 - mae: 40.1413\n",
            "Epoch 10/100\n",
            "2/2 [==============================] - 0s 8ms/step - loss: 27.5665 - mae: 27.5665\n",
            "Epoch 11/100\n",
            "2/2 [==============================] - 0s 9ms/step - loss: 10.2794 - mae: 10.2794\n",
            "Epoch 12/100\n",
            "2/2 [==============================] - 0s 14ms/step - loss: 25.3398 - mae: 25.3398\n",
            "Epoch 13/100\n",
            "2/2 [==============================] - 0s 15ms/step - loss: 16.8312 - mae: 16.8312\n",
            "Epoch 14/100\n",
            "2/2 [==============================] - 0s 12ms/step - loss: 25.5801 - mae: 25.5801\n",
            "Epoch 15/100\n",
            "2/2 [==============================] - 0s 11ms/step - loss: 17.4884 - mae: 17.4884\n",
            "Epoch 16/100\n",
            "2/2 [==============================] - 0s 10ms/step - loss: 10.0504 - mae: 10.0504\n",
            "Epoch 17/100\n",
            "2/2 [==============================] - 0s 17ms/step - loss: 18.5041 - mae: 18.5041\n",
            "Epoch 18/100\n",
            "2/2 [==============================] - 0s 15ms/step - loss: 11.3650 - mae: 11.3650\n",
            "Epoch 19/100\n",
            "2/2 [==============================] - 0s 19ms/step - loss: 13.8994 - mae: 13.8994\n",
            "Epoch 20/100\n",
            "2/2 [==============================] - 0s 16ms/step - loss: 11.2095 - mae: 11.2095\n",
            "Epoch 21/100\n",
            "2/2 [==============================] - 0s 12ms/step - loss: 17.1934 - mae: 17.1934\n",
            "Epoch 22/100\n",
            "2/2 [==============================] - 0s 17ms/step - loss: 15.4333 - mae: 15.4333\n",
            "Epoch 23/100\n",
            "2/2 [==============================] - 0s 11ms/step - loss: 9.2890 - mae: 9.2890\n",
            "Epoch 24/100\n",
            "2/2 [==============================] - 0s 13ms/step - loss: 17.3363 - mae: 17.3363\n",
            "Epoch 25/100\n",
            "2/2 [==============================] - 0s 12ms/step - loss: 16.0043 - mae: 16.0043\n",
            "Epoch 26/100\n",
            "2/2 [==============================] - 0s 15ms/step - loss: 21.0504 - mae: 21.0504\n",
            "Epoch 27/100\n",
            "2/2 [==============================] - 0s 11ms/step - loss: 25.7081 - mae: 25.7081\n",
            "Epoch 28/100\n",
            "2/2 [==============================] - 0s 27ms/step - loss: 18.2438 - mae: 18.2438\n",
            "Epoch 29/100\n",
            "2/2 [==============================] - 0s 11ms/step - loss: 9.2767 - mae: 9.2767\n",
            "Epoch 30/100\n",
            "2/2 [==============================] - 0s 11ms/step - loss: 28.8104 - mae: 28.8104\n",
            "Epoch 31/100\n",
            "2/2 [==============================] - 0s 12ms/step - loss: 52.1557 - mae: 52.1557\n",
            "Epoch 32/100\n",
            "2/2 [==============================] - 0s 12ms/step - loss: 11.5061 - mae: 11.5061\n",
            "Epoch 33/100\n",
            "2/2 [==============================] - 0s 12ms/step - loss: 12.2423 - mae: 12.2423\n",
            "Epoch 34/100\n",
            "2/2 [==============================] - 0s 17ms/step - loss: 24.0137 - mae: 24.0137\n",
            "Epoch 35/100\n",
            "2/2 [==============================] - 0s 18ms/step - loss: 12.0428 - mae: 12.0428\n",
            "Epoch 36/100\n",
            "2/2 [==============================] - 0s 10ms/step - loss: 22.3868 - mae: 22.3868\n",
            "Epoch 37/100\n",
            "2/2 [==============================] - 0s 19ms/step - loss: 17.1145 - mae: 17.1145\n",
            "Epoch 38/100\n",
            "2/2 [==============================] - 0s 17ms/step - loss: 10.5975 - mae: 10.5975\n",
            "Epoch 39/100\n",
            "2/2 [==============================] - 0s 10ms/step - loss: 11.1090 - mae: 11.1090\n",
            "Epoch 40/100\n",
            "2/2 [==============================] - 0s 37ms/step - loss: 17.3771 - mae: 17.3771\n",
            "Epoch 41/100\n",
            "2/2 [==============================] - 0s 12ms/step - loss: 11.4027 - mae: 11.4027\n",
            "Epoch 42/100\n",
            "2/2 [==============================] - 0s 17ms/step - loss: 9.6283 - mae: 9.6283\n",
            "Epoch 43/100\n",
            "2/2 [==============================] - 0s 24ms/step - loss: 9.7281 - mae: 9.7281\n",
            "Epoch 44/100\n",
            "2/2 [==============================] - 0s 25ms/step - loss: 29.0444 - mae: 29.0444\n",
            "Epoch 45/100\n",
            "2/2 [==============================] - 0s 17ms/step - loss: 11.6212 - mae: 11.6212\n",
            "Epoch 46/100\n",
            "2/2 [==============================] - 0s 13ms/step - loss: 14.9082 - mae: 14.9082\n",
            "Epoch 47/100\n",
            "2/2 [==============================] - 0s 15ms/step - loss: 14.4711 - mae: 14.4711\n",
            "Epoch 48/100\n",
            "2/2 [==============================] - 0s 17ms/step - loss: 17.9885 - mae: 17.9885\n",
            "Epoch 49/100\n",
            "2/2 [==============================] - 0s 18ms/step - loss: 9.1298 - mae: 9.1298\n",
            "Epoch 50/100\n",
            "2/2 [==============================] - 0s 14ms/step - loss: 12.9813 - mae: 12.9813\n",
            "Epoch 51/100\n",
            "2/2 [==============================] - 0s 10ms/step - loss: 11.3084 - mae: 11.3084\n",
            "Epoch 52/100\n",
            "2/2 [==============================] - 0s 11ms/step - loss: 28.1258 - mae: 28.1258\n",
            "Epoch 53/100\n",
            "2/2 [==============================] - 0s 13ms/step - loss: 13.4996 - mae: 13.4996\n",
            "Epoch 54/100\n",
            "2/2 [==============================] - 0s 12ms/step - loss: 25.8996 - mae: 25.8996\n",
            "Epoch 55/100\n",
            "2/2 [==============================] - 0s 8ms/step - loss: 25.3089 - mae: 25.3089\n",
            "Epoch 56/100\n",
            "2/2 [==============================] - 0s 9ms/step - loss: 11.6199 - mae: 11.6199\n",
            "Epoch 57/100\n",
            "2/2 [==============================] - 0s 20ms/step - loss: 13.7086 - mae: 13.7086\n",
            "Epoch 58/100\n",
            "2/2 [==============================] - 0s 10ms/step - loss: 10.1586 - mae: 10.1586\n",
            "Epoch 59/100\n",
            "2/2 [==============================] - 0s 16ms/step - loss: 14.5990 - mae: 14.5990\n",
            "Epoch 60/100\n",
            "2/2 [==============================] - 0s 19ms/step - loss: 10.0935 - mae: 10.0935\n",
            "Epoch 61/100\n",
            "2/2 [==============================] - 0s 7ms/step - loss: 15.1016 - mae: 15.1016\n",
            "Epoch 62/100\n",
            "2/2 [==============================] - 0s 7ms/step - loss: 12.0362 - mae: 12.0362\n",
            "Epoch 63/100\n",
            "2/2 [==============================] - 0s 7ms/step - loss: 10.3677 - mae: 10.3677\n",
            "Epoch 64/100\n",
            "2/2 [==============================] - 0s 10ms/step - loss: 23.9926 - mae: 23.9926\n",
            "Epoch 65/100\n",
            "2/2 [==============================] - 0s 8ms/step - loss: 10.5420 - mae: 10.5420\n",
            "Epoch 66/100\n",
            "2/2 [==============================] - 0s 6ms/step - loss: 21.0114 - mae: 21.0114\n",
            "Epoch 67/100\n",
            "2/2 [==============================] - 0s 7ms/step - loss: 10.5133 - mae: 10.5133\n",
            "Epoch 68/100\n",
            "2/2 [==============================] - 0s 7ms/step - loss: 14.2258 - mae: 14.2258\n",
            "Epoch 69/100\n",
            "2/2 [==============================] - 0s 7ms/step - loss: 10.5735 - mae: 10.5735\n",
            "Epoch 70/100\n",
            "2/2 [==============================] - 0s 6ms/step - loss: 12.6441 - mae: 12.6441\n",
            "Epoch 71/100\n",
            "2/2 [==============================] - 0s 6ms/step - loss: 13.0576 - mae: 13.0576\n",
            "Epoch 72/100\n",
            "2/2 [==============================] - 0s 8ms/step - loss: 19.3376 - mae: 19.3376\n",
            "Epoch 73/100\n",
            "2/2 [==============================] - 0s 7ms/step - loss: 11.1695 - mae: 11.1695\n",
            "Epoch 74/100\n",
            "2/2 [==============================] - 0s 7ms/step - loss: 21.3710 - mae: 21.3710\n",
            "Epoch 75/100\n",
            "2/2 [==============================] - 0s 6ms/step - loss: 9.4834 - mae: 9.4834\n",
            "Epoch 76/100\n",
            "2/2 [==============================] - 0s 6ms/step - loss: 12.2981 - mae: 12.2981\n",
            "Epoch 77/100\n",
            "2/2 [==============================] - 0s 7ms/step - loss: 16.2371 - mae: 16.2371\n",
            "Epoch 78/100\n",
            "2/2 [==============================] - 0s 7ms/step - loss: 9.0465 - mae: 9.0465\n",
            "Epoch 79/100\n",
            "2/2 [==============================] - 0s 7ms/step - loss: 23.4168 - mae: 23.4168\n",
            "Epoch 80/100\n",
            "2/2 [==============================] - 0s 8ms/step - loss: 26.0845 - mae: 26.0845\n",
            "Epoch 81/100\n",
            "2/2 [==============================] - 0s 5ms/step - loss: 11.4047 - mae: 11.4047\n",
            "Epoch 82/100\n",
            "2/2 [==============================] - 0s 6ms/step - loss: 12.5180 - mae: 12.5180\n",
            "Epoch 83/100\n",
            "2/2 [==============================] - 0s 6ms/step - loss: 17.2188 - mae: 17.2188\n",
            "Epoch 84/100\n",
            "2/2 [==============================] - 0s 6ms/step - loss: 6.6333 - mae: 6.6333\n",
            "Epoch 85/100\n",
            "2/2 [==============================] - 0s 7ms/step - loss: 20.2334 - mae: 20.2334\n",
            "Epoch 86/100\n",
            "2/2 [==============================] - 0s 6ms/step - loss: 10.1857 - mae: 10.1857\n",
            "Epoch 87/100\n",
            "2/2 [==============================] - 0s 8ms/step - loss: 24.2520 - mae: 24.2520\n",
            "Epoch 88/100\n",
            "2/2 [==============================] - 0s 6ms/step - loss: 18.9183 - mae: 18.9183\n",
            "Epoch 89/100\n",
            "2/2 [==============================] - 0s 7ms/step - loss: 7.6960 - mae: 7.6960\n",
            "Epoch 90/100\n",
            "2/2 [==============================] - 0s 6ms/step - loss: 17.3417 - mae: 17.3417\n",
            "Epoch 91/100\n",
            "2/2 [==============================] - 0s 7ms/step - loss: 12.4507 - mae: 12.4507\n",
            "Epoch 92/100\n",
            "2/2 [==============================] - 0s 5ms/step - loss: 24.8190 - mae: 24.8190\n",
            "Epoch 93/100\n",
            "2/2 [==============================] - 0s 10ms/step - loss: 15.4449 - mae: 15.4449\n",
            "Epoch 94/100\n",
            "2/2 [==============================] - 0s 7ms/step - loss: 9.7552 - mae: 9.7552\n",
            "Epoch 95/100\n",
            "2/2 [==============================] - 0s 7ms/step - loss: 18.3458 - mae: 18.3458\n",
            "Epoch 96/100\n",
            "2/2 [==============================] - 0s 6ms/step - loss: 10.3968 - mae: 10.3968\n",
            "Epoch 97/100\n",
            "2/2 [==============================] - 0s 8ms/step - loss: 14.1145 - mae: 14.1145\n",
            "Epoch 98/100\n",
            "2/2 [==============================] - 0s 8ms/step - loss: 9.6287 - mae: 9.6287\n",
            "Epoch 99/100\n",
            "2/2 [==============================] - 0s 8ms/step - loss: 11.3291 - mae: 11.3291\n",
            "Epoch 100/100\n",
            "2/2 [==============================] - 0s 6ms/step - loss: 29.1321 - mae: 29.1321\n"
          ]
        },
        {
          "output_type": "execute_result",
          "data": {
            "text/plain": [
              "<keras.src.callbacks.History at 0x7cfb011ac880>"
            ]
          },
          "metadata": {},
          "execution_count": 28
        }
      ]
    },
    {
      "cell_type": "markdown",
      "source": [
        "# Visualize the Model"
      ],
      "metadata": {
        "id": "fSbKTpHzxbDc"
      }
    },
    {
      "cell_type": "code",
      "source": [
        "model.summary()"
      ],
      "metadata": {
        "colab": {
          "base_uri": "https://localhost:8080/"
        },
        "id": "D6hyPFNRxkD7",
        "outputId": "3eb5693a-b32a-4a25-fbbb-ce1172757783"
      },
      "execution_count": 29,
      "outputs": [
        {
          "output_type": "stream",
          "name": "stdout",
          "text": [
            "Model: \"MyModel\"\n",
            "_________________________________________________________________\n",
            " Layer (type)                Output Shape              Param #   \n",
            "=================================================================\n",
            " input_layer (Dense)         (None, 1)                 2         \n",
            "                                                                 \n",
            " output_layer (Dense)        (None, 1)                 2         \n",
            "                                                                 \n",
            "=================================================================\n",
            "Total params: 4 (16.00 Byte)\n",
            "Trainable params: 4 (16.00 Byte)\n",
            "Non-trainable params: 0 (0.00 Byte)\n",
            "_________________________________________________________________\n"
          ]
        }
      ]
    },
    {
      "cell_type": "markdown",
      "source": [
        "**Total params** - total number of parameters in the model.\n",
        "**Trainable parameters** - these are the parameters (patterns) the model can update as it trains.\n",
        "**Non-trainable params** - these parameters aren't updated during training (this is typical when you bring in already learn patterns or parameters from other models during transfer learning).\n",
        "📖 **Resource:** For a more in-depth overview of the trainable parameters within a layer, check out MIT's introduction to deep learning video.\n",
        "\n",
        "🛠 **Exercise:** Try playing around with the number of hidden units in the dense layer, see how that effects the number of parameters (total and trainable) by calling model.summary()."
      ],
      "metadata": {
        "id": "A-YkjgKoxmNj"
      }
    },
    {
      "cell_type": "code",
      "source": [
        "#Lets fit the model to the data\n",
        "model.fit(X_train,y_train,epochs=100,verbose=0)"
      ],
      "metadata": {
        "colab": {
          "base_uri": "https://localhost:8080/"
        },
        "id": "6kyePxqHz4XP",
        "outputId": "ce9dc24b-b072-4a99-a279-939fed648f02"
      },
      "execution_count": 54,
      "outputs": [
        {
          "output_type": "execute_result",
          "data": {
            "text/plain": [
              "<keras.src.callbacks.History at 0x7a1cb6a8bb50>"
            ]
          },
          "metadata": {},
          "execution_count": 54
        }
      ]
    },
    {
      "cell_type": "code",
      "source": [
        "# Let's plot the model\n",
        "from tensorflow.keras.utils import plot_model"
      ],
      "metadata": {
        "id": "4Bz0XW-V2ucL"
      },
      "execution_count": 75,
      "outputs": []
    },
    {
      "cell_type": "code",
      "source": [
        "plot_model(model=model,show_shapes=True)"
      ],
      "metadata": {
        "colab": {
          "base_uri": "https://localhost:8080/",
          "height": 312
        },
        "id": "Xl-6RprS3oOF",
        "outputId": "f4ad2aa2-bc1f-44c4-db60-f714ddf15491"
      },
      "execution_count": 56,
      "outputs": [
        {
          "output_type": "execute_result",
          "data": {
            "image/png": "[encoded data removed]",
            "text/plain": [
              "<IPython.core.display.Image object>"
            ]
          },
          "metadata": {},
          "execution_count": 56
        }
      ]
    },
    {
      "cell_type": "markdown",
      "source": [
        "# Visualizing our Model's Predictions"
      ],
      "metadata": {
        "id": "TNnoBIqJ38EV"
      }
    },
    {
      "cell_type": "markdown",
      "source": [
        "To visualize predictions, it's a good idea to plot them against the ground truth labels.\n",
        "\n",
        "Often you'll see this in the form of y_test or y_true versus y_pred (ground truth versus your model's predictions)."
      ],
      "metadata": {
        "id": "qWkFIrlK6FFa"
      }
    },
    {
      "cell_type": "code",
      "source": [
        "# Make Some Predictions\n",
        "y_predictions = model.predict(X_test)\n",
        "y_predictions"
      ],
      "metadata": {
        "colab": {
          "base_uri": "https://localhost:8080/"
        },
        "id": "d_Tp3mluLxAw",
        "outputId": "238fa42d-e324-495d-c764-240ba970aeaf"
      },
      "execution_count": 30,
      "outputs": [
        {
          "output_type": "stream",
          "name": "stdout",
          "text": [
            "1/1 [==============================] - 0s 68ms/step\n"
          ]
        },
        {
          "output_type": "execute_result",
          "data": {
            "text/plain": [
              "array([[ 76.6897  ],\n",
              "       [ 81.69184 ],\n",
              "       [ 86.693985],\n",
              "       [ 91.69611 ],\n",
              "       [ 96.69826 ],\n",
              "       [101.700386],\n",
              "       [106.70253 ],\n",
              "       [111.70467 ],\n",
              "       [116.7068  ],\n",
              "       [121.70895 ]], dtype=float32)"
            ]
          },
          "metadata": {},
          "execution_count": 30
        }
      ]
    },
    {
      "cell_type": "markdown",
      "source": [
        "🔑 Note: If you feel like you're going to reuse some kind of functionality in the future, it's a good idea to turn it into a function."
      ],
      "metadata": {
        "id": "iJbqcysxM03U"
      }
    },
    {
      "cell_type": "code",
      "source": [
        "y_test"
      ],
      "metadata": {
        "colab": {
          "base_uri": "https://localhost:8080/"
        },
        "id": "RgJIJb6OOBVD",
        "outputId": "9ac7dee0-c31f-432c-8167-9d0df92c0367"
      },
      "execution_count": 31,
      "outputs": [
        {
          "output_type": "execute_result",
          "data": {
            "text/plain": [
              "<tf.Tensor: shape=(10,), dtype=int32, numpy=array([ 70,  74,  78,  82,  86,  90,  94,  98, 102, 106], dtype=int32)>"
            ]
          },
          "metadata": {},
          "execution_count": 31
        }
      ]
    },
    {
      "cell_type": "code",
      "source": [
        "# Making Plot predictions\n",
        "def plot_predictions(train_data=X_train,train_labels=y_train,test_data=X_test,test_labels=y_test,predictions=y_predictions):\n",
        "  plt.figure(figsize=(5,5))\n",
        "\n",
        "  plt.scatter(train_data,train_labels,c='b',label=\"Training Data\")\n",
        "  plt.scatter(test_data,test_labels,c='g',label=\"Testing Data\")\n",
        "  plt.scatter(test_data,predictions,c='r',label=\"Predictions\")\n",
        "  plt.legend()\n",
        "  plt.show()"
      ],
      "metadata": {
        "id": "r_tntnUaOCE_"
      },
      "execution_count": 32,
      "outputs": []
    },
    {
      "cell_type": "code",
      "source": [
        "plot_predictions(X_train,y_train,X_test,y_test,y_predictions)"
      ],
      "metadata": {
        "colab": {
          "base_uri": "https://localhost:8080/",
          "height": 445
        },
        "id": "xGdSn3L1P4BI",
        "outputId": "8db1d770-8341-4925-cc22-7be2076b5834"
      },
      "execution_count": 33,
      "outputs": [
        {
          "output_type": "display_data",
          "data": {
            "text/plain": [
              "<Figure size 500x500 with 1 Axes>"
            ],
            "image/png": "[encoded data removed]"
          },
          "metadata": {}
        }
      ]
    },
    {
      "cell_type": "markdown",
      "source": [
        "# Evaluting our model's predictions with regression evaluation metrics\n",
        "Depending on the problem you're working on, there will be different evaluation metrics to evaluate your model's performance.\n",
        "\n",
        "Since we're working on a regression, two of the main metrics:\n",
        "\n",
        "* MAE - mean absolute error, \"on average, how wrong is each of my model's predictions\"\n",
        "* MSE - mean square error, \"square the average errors\""
      ],
      "metadata": {
        "id": "z5Sy4AREQPTp"
      }
    },
    {
      "cell_type": "code",
      "source": [
        "# Evaluating metrics\n",
        "model.evaluate(X_test,y_test)"
      ],
      "metadata": {
        "colab": {
          "base_uri": "https://localhost:8080/"
        },
        "id": "GY3JjLE5RCBB",
        "outputId": "2ed6c3e6-d909-4891-be24-7a65c6284f23"
      },
      "execution_count": 34,
      "outputs": [
        {
          "output_type": "stream",
          "name": "stdout",
          "text": [
            "1/1 [==============================] - 0s 142ms/step - loss: 11.1993 - mae: 11.1993\n"
          ]
        },
        {
          "output_type": "execute_result",
          "data": {
            "text/plain": [
              "[11.199323654174805, 11.199323654174805]"
            ]
          },
          "metadata": {},
          "execution_count": 34
        }
      ]
    },
    {
      "cell_type": "code",
      "source": [
        "mae = tf.metrics.mean_absolute_error(y_true=y_test,y_pred=y_predictions)"
      ],
      "metadata": {
        "id": "OpDJjha6Tsr-"
      },
      "execution_count": 35,
      "outputs": []
    },
    {
      "cell_type": "code",
      "source": [
        "mae"
      ],
      "metadata": {
        "colab": {
          "base_uri": "https://localhost:8080/"
        },
        "id": "N8q879aZWEt3",
        "outputId": "851907d8-ceea-4358-af08-8120bafb362e"
      },
      "execution_count": 36,
      "outputs": [
        {
          "output_type": "execute_result",
          "data": {
            "text/plain": [
              "<tf.Tensor: shape=(10,), dtype=float32, numpy=\n",
              "array([13.186182, 10.923264, 10.      , 10.339223, 11.879303, 14.620232,\n",
              "       18.70253 , 23.704674, 28.706802, 33.708946], dtype=float32)>"
            ]
          },
          "metadata": {},
          "execution_count": 36
        }
      ]
    },
    {
      "cell_type": "code",
      "source": [
        "y_test"
      ],
      "metadata": {
        "colab": {
          "base_uri": "https://localhost:8080/"
        },
        "id": "h0Y2zxKkWoRR",
        "outputId": "a6318fa3-4620-4939-985e-d410dc7ef5f3"
      },
      "execution_count": 37,
      "outputs": [
        {
          "output_type": "execute_result",
          "data": {
            "text/plain": [
              "<tf.Tensor: shape=(10,), dtype=int32, numpy=array([ 70,  74,  78,  82,  86,  90,  94,  98, 102, 106], dtype=int32)>"
            ]
          },
          "metadata": {},
          "execution_count": 37
        }
      ]
    },
    {
      "cell_type": "code",
      "source": [
        "y_predictions = tf.squeeze(tf.constant(y_predictions))\n",
        "y_predictions"
      ],
      "metadata": {
        "colab": {
          "base_uri": "https://localhost:8080/"
        },
        "id": "0oN-fdNeW8Dl",
        "outputId": "528d91ab-c567-45b6-be21-bd89fd7d631f"
      },
      "execution_count": 38,
      "outputs": [
        {
          "output_type": "execute_result",
          "data": {
            "text/plain": [
              "<tf.Tensor: shape=(10,), dtype=float32, numpy=\n",
              "array([ 76.6897  ,  81.69184 ,  86.693985,  91.69611 ,  96.69826 ,\n",
              "       101.700386, 106.70253 , 111.70467 , 116.7068  , 121.70895 ],\n",
              "      dtype=float32)>"
            ]
          },
          "metadata": {},
          "execution_count": 38
        }
      ]
    },
    {
      "cell_type": "code",
      "source": [
        "mae = tf.metrics.mean_absolute_error(y_true=y_test,y_pred=y_predictions)\n",
        "mae"
      ],
      "metadata": {
        "colab": {
          "base_uri": "https://localhost:8080/"
        },
        "id": "oaE5osuXXSyp",
        "outputId": "020d7bb5-a56d-4733-9477-52ead49cb17e"
      },
      "execution_count": 39,
      "outputs": [
        {
          "output_type": "execute_result",
          "data": {
            "text/plain": [
              "<tf.Tensor: shape=(), dtype=float32, numpy=11.199324>"
            ]
          },
          "metadata": {},
          "execution_count": 39
        }
      ]
    },
    {
      "cell_type": "code",
      "source": [
        "# Mean Square Error\n",
        "m = tf.metrics.MeanSquaredError()\n",
        "m.update_state(y_test,y_predictions)\n",
        "m.result().numpy()"
      ],
      "metadata": {
        "colab": {
          "base_uri": "https://localhost:8080/"
        },
        "id": "BGOZpQ70XcaO",
        "outputId": "5d66bcee-d35a-4add-9f38-e4225d8091a4"
      },
      "execution_count": 40,
      "outputs": [
        {
          "output_type": "execute_result",
          "data": {
            "text/plain": [
              "133.71016"
            ]
          },
          "metadata": {},
          "execution_count": 40
        }
      ]
    },
    {
      "cell_type": "markdown",
      "source": [
        "# Running experiments to improve our model\n",
        "Build a model -> fit it -> evaluate it -> tweak it -> fit it -> evaluate it -> tweak it -> fit it -> evaluate it ...\n",
        "Get more data - get more examples for your model to train on (more opportunities to learn patterns or relationships between features and labels).\n",
        "Make your model larger (using a more complex model) - this might come in the form of more layers or more hidden units in each layer.\n",
        "Train for longer - give your model more of a chance to find patterns in the data.\n",
        "Let's do 3 modelling experiments:\n",
        "\n",
        "1. model_1 - same as the original model, 1 layer, trained for 100 epochs\n",
        "2. model_2 - 2 layers, trained for 100 epochs\n",
        "3. model_3 - 2 layers, trained for 500 epochs\n",
        "**Build model_1**"
      ],
      "metadata": {
        "id": "5nH5s5nAYxAt"
      }
    },
    {
      "cell_type": "code",
      "source": [
        "# Creating a Model\n",
        "model_1 = tf.keras.Sequential([\n",
        "    tf.keras.layers.Dense(units=1)\n",
        "],name=\"Model_1\")\n",
        "\n",
        "# Compile the Model\n",
        "model_1.compile(loss=tf.keras.losses.mae,optimizer=tf.keras.optimizers.SGD(),metrics=['mae'])\n",
        "\n",
        "model_1.fit(X_train,y_train,epochs=100)\n"
      ],
      "metadata": {
        "colab": {
          "base_uri": "https://localhost:8080/"
        },
        "id": "UUOHiYX_cjYx",
        "outputId": "3862f10f-6fee-4021-f404-6d5532f1070b"
      },
      "execution_count": 41,
      "outputs": [
        {
          "output_type": "stream",
          "name": "stdout",
          "text": [
            "Epoch 1/100\n",
            "2/2 [==============================] - 0s 8ms/step - loss: 44.0539 - mae: 44.0539\n",
            "Epoch 2/100\n",
            "2/2 [==============================] - 0s 7ms/step - loss: 14.0794 - mae: 14.0794\n",
            "Epoch 3/100\n",
            "2/2 [==============================] - 0s 7ms/step - loss: 12.9736 - mae: 12.9736\n",
            "Epoch 4/100\n",
            "2/2 [==============================] - 0s 6ms/step - loss: 7.9896 - mae: 7.9896\n",
            "Epoch 5/100\n",
            "2/2 [==============================] - 0s 6ms/step - loss: 12.7591 - mae: 12.7591\n",
            "Epoch 6/100\n",
            "2/2 [==============================] - 0s 6ms/step - loss: 7.8984 - mae: 7.8984\n",
            "Epoch 7/100\n",
            "2/2 [==============================] - 0s 6ms/step - loss: 12.1559 - mae: 12.1559\n",
            "Epoch 8/100\n",
            "2/2 [==============================] - 0s 6ms/step - loss: 7.8532 - mae: 7.8532\n",
            "Epoch 9/100\n",
            "2/2 [==============================] - 0s 6ms/step - loss: 19.1746 - mae: 19.1746\n",
            "Epoch 10/100\n",
            "2/2 [==============================] - 0s 7ms/step - loss: 14.0881 - mae: 14.0881\n",
            "Epoch 11/100\n",
            "2/2 [==============================] - 0s 7ms/step - loss: 8.2862 - mae: 8.2862\n",
            "Epoch 12/100\n",
            "2/2 [==============================] - 0s 6ms/step - loss: 10.4251 - mae: 10.4251\n",
            "Epoch 13/100\n",
            "2/2 [==============================] - 0s 7ms/step - loss: 9.7079 - mae: 9.7079\n",
            "Epoch 14/100\n",
            "2/2 [==============================] - 0s 7ms/step - loss: 15.5373 - mae: 15.5373\n",
            "Epoch 15/100\n",
            "2/2 [==============================] - 0s 7ms/step - loss: 11.3665 - mae: 11.3665\n",
            "Epoch 16/100\n",
            "2/2 [==============================] - 0s 6ms/step - loss: 8.5602 - mae: 8.5602\n",
            "Epoch 17/100\n",
            "2/2 [==============================] - 0s 7ms/step - loss: 13.6748 - mae: 13.6748\n",
            "Epoch 18/100\n",
            "2/2 [==============================] - 0s 6ms/step - loss: 11.5110 - mae: 11.5110\n",
            "Epoch 19/100\n",
            "2/2 [==============================] - 0s 8ms/step - loss: 17.8717 - mae: 17.8717\n",
            "Epoch 20/100\n",
            "2/2 [==============================] - 0s 7ms/step - loss: 15.0067 - mae: 15.0067\n",
            "Epoch 21/100\n",
            "2/2 [==============================] - 0s 7ms/step - loss: 10.8798 - mae: 10.8798\n",
            "Epoch 22/100\n",
            "2/2 [==============================] - 0s 11ms/step - loss: 8.6343 - mae: 8.6343\n",
            "Epoch 23/100\n",
            "2/2 [==============================] - 0s 7ms/step - loss: 9.6941 - mae: 9.6941\n",
            "Epoch 24/100\n",
            "2/2 [==============================] - 0s 7ms/step - loss: 8.5883 - mae: 8.5883\n",
            "Epoch 25/100\n",
            "2/2 [==============================] - 0s 7ms/step - loss: 11.5981 - mae: 11.5981\n",
            "Epoch 26/100\n",
            "2/2 [==============================] - 0s 7ms/step - loss: 15.1431 - mae: 15.1431\n",
            "Epoch 27/100\n",
            "2/2 [==============================] - 0s 7ms/step - loss: 11.8880 - mae: 11.8880\n",
            "Epoch 28/100\n",
            "2/2 [==============================] - 0s 7ms/step - loss: 13.9342 - mae: 13.9342\n",
            "Epoch 29/100\n",
            "2/2 [==============================] - 0s 7ms/step - loss: 9.6139 - mae: 9.6139\n",
            "Epoch 30/100\n",
            "2/2 [==============================] - 0s 6ms/step - loss: 17.1935 - mae: 17.1935\n",
            "Epoch 31/100\n",
            "2/2 [==============================] - 0s 7ms/step - loss: 22.8732 - mae: 22.8732\n",
            "Epoch 32/100\n",
            "2/2 [==============================] - 0s 7ms/step - loss: 7.9215 - mae: 7.9215\n",
            "Epoch 33/100\n",
            "2/2 [==============================] - 0s 6ms/step - loss: 14.1400 - mae: 14.1400\n",
            "Epoch 34/100\n",
            "2/2 [==============================] - 0s 7ms/step - loss: 12.3860 - mae: 12.3860\n",
            "Epoch 35/100\n",
            "2/2 [==============================] - 0s 6ms/step - loss: 8.2656 - mae: 8.2656\n",
            "Epoch 36/100\n",
            "2/2 [==============================] - 0s 7ms/step - loss: 10.4853 - mae: 10.4853\n",
            "Epoch 37/100\n",
            "2/2 [==============================] - 0s 7ms/step - loss: 10.1309 - mae: 10.1309\n",
            "Epoch 38/100\n",
            "2/2 [==============================] - 0s 7ms/step - loss: 11.3235 - mae: 11.3235\n",
            "Epoch 39/100\n",
            "2/2 [==============================] - 0s 7ms/step - loss: 14.7628 - mae: 14.7628\n",
            "Epoch 40/100\n",
            "2/2 [==============================] - 0s 7ms/step - loss: 12.8931 - mae: 12.8931\n",
            "Epoch 41/100\n",
            "2/2 [==============================] - 0s 7ms/step - loss: 9.2835 - mae: 9.2835\n",
            "Epoch 42/100\n",
            "2/2 [==============================] - 0s 7ms/step - loss: 11.0055 - mae: 11.0055\n",
            "Epoch 43/100\n",
            "2/2 [==============================] - 0s 6ms/step - loss: 8.3380 - mae: 8.3380\n",
            "Epoch 44/100\n",
            "2/2 [==============================] - 0s 7ms/step - loss: 13.0462 - mae: 13.0462\n",
            "Epoch 45/100\n",
            "2/2 [==============================] - 0s 7ms/step - loss: 13.6841 - mae: 13.6841\n",
            "Epoch 46/100\n",
            "2/2 [==============================] - 0s 6ms/step - loss: 8.2935 - mae: 8.2935\n",
            "Epoch 47/100\n",
            "2/2 [==============================] - 0s 6ms/step - loss: 8.7270 - mae: 8.7270\n",
            "Epoch 48/100\n",
            "2/2 [==============================] - 0s 7ms/step - loss: 10.0263 - mae: 10.0263\n",
            "Epoch 49/100\n",
            "2/2 [==============================] - 0s 6ms/step - loss: 8.5118 - mae: 8.5118\n",
            "Epoch 50/100\n",
            "2/2 [==============================] - 0s 9ms/step - loss: 9.0165 - mae: 9.0165\n",
            "Epoch 51/100\n",
            "2/2 [==============================] - 0s 8ms/step - loss: 9.3773 - mae: 9.3773\n",
            "Epoch 52/100\n",
            "2/2 [==============================] - 0s 9ms/step - loss: 14.1659 - mae: 14.1659\n",
            "Epoch 53/100\n",
            "2/2 [==============================] - 0s 6ms/step - loss: 14.8935 - mae: 14.8935\n",
            "Epoch 54/100\n",
            "2/2 [==============================] - 0s 6ms/step - loss: 14.8329 - mae: 14.8329\n",
            "Epoch 55/100\n",
            "2/2 [==============================] - 0s 9ms/step - loss: 12.6151 - mae: 12.6151\n",
            "Epoch 56/100\n",
            "2/2 [==============================] - 0s 6ms/step - loss: 7.6022 - mae: 7.6022\n",
            "Epoch 57/100\n",
            "2/2 [==============================] - 0s 7ms/step - loss: 8.7916 - mae: 8.7916\n",
            "Epoch 58/100\n",
            "2/2 [==============================] - 0s 7ms/step - loss: 8.3808 - mae: 8.3808\n",
            "Epoch 59/100\n",
            "2/2 [==============================] - 0s 7ms/step - loss: 9.1763 - mae: 9.1763\n",
            "Epoch 60/100\n",
            "2/2 [==============================] - 0s 7ms/step - loss: 9.1201 - mae: 9.1201\n",
            "Epoch 61/100\n",
            "2/2 [==============================] - 0s 7ms/step - loss: 10.6572 - mae: 10.6572\n",
            "Epoch 62/100\n",
            "2/2 [==============================] - 0s 6ms/step - loss: 7.4423 - mae: 7.4423\n",
            "Epoch 63/100\n",
            "2/2 [==============================] - 0s 7ms/step - loss: 10.5375 - mae: 10.5375\n",
            "Epoch 64/100\n",
            "2/2 [==============================] - 0s 7ms/step - loss: 12.1470 - mae: 12.1470\n",
            "Epoch 65/100\n",
            "2/2 [==============================] - 0s 7ms/step - loss: 9.4686 - mae: 9.4686\n",
            "Epoch 66/100\n",
            "2/2 [==============================] - 0s 7ms/step - loss: 11.5540 - mae: 11.5540\n",
            "Epoch 67/100\n",
            "2/2 [==============================] - 0s 7ms/step - loss: 8.0252 - mae: 8.0252\n",
            "Epoch 68/100\n",
            "2/2 [==============================] - 0s 7ms/step - loss: 8.5596 - mae: 8.5596\n",
            "Epoch 69/100\n",
            "2/2 [==============================] - 0s 6ms/step - loss: 12.2251 - mae: 12.2251\n",
            "Epoch 70/100\n",
            "2/2 [==============================] - 0s 7ms/step - loss: 8.9420 - mae: 8.9420\n",
            "Epoch 71/100\n",
            "2/2 [==============================] - 0s 7ms/step - loss: 9.9149 - mae: 9.9149\n",
            "Epoch 72/100\n",
            "2/2 [==============================] - 0s 6ms/step - loss: 9.9587 - mae: 9.9587\n",
            "Epoch 73/100\n",
            "2/2 [==============================] - 0s 6ms/step - loss: 12.4073 - mae: 12.4073\n",
            "Epoch 74/100\n",
            "2/2 [==============================] - 0s 6ms/step - loss: 10.6149 - mae: 10.6149\n",
            "Epoch 75/100\n",
            "2/2 [==============================] - 0s 6ms/step - loss: 9.6151 - mae: 9.6151\n",
            "Epoch 76/100\n",
            "2/2 [==============================] - 0s 7ms/step - loss: 11.0739 - mae: 11.0739\n",
            "Epoch 77/100\n",
            "2/2 [==============================] - 0s 6ms/step - loss: 8.2649 - mae: 8.2649\n",
            "Epoch 78/100\n",
            "2/2 [==============================] - 0s 7ms/step - loss: 8.9411 - mae: 8.9411\n",
            "Epoch 79/100\n",
            "2/2 [==============================] - 0s 6ms/step - loss: 19.8463 - mae: 19.8463\n",
            "Epoch 80/100\n",
            "2/2 [==============================] - 0s 7ms/step - loss: 17.7746 - mae: 17.7746\n",
            "Epoch 81/100\n",
            "2/2 [==============================] - 0s 6ms/step - loss: 7.1027 - mae: 7.1027\n",
            "Epoch 82/100\n",
            "2/2 [==============================] - 0s 7ms/step - loss: 10.3893 - mae: 10.3893\n",
            "Epoch 83/100\n",
            "2/2 [==============================] - 0s 7ms/step - loss: 9.8073 - mae: 9.8073\n",
            "Epoch 84/100\n",
            "2/2 [==============================] - 0s 7ms/step - loss: 7.9547 - mae: 7.9547\n",
            "Epoch 85/100\n",
            "2/2 [==============================] - 0s 7ms/step - loss: 9.4721 - mae: 9.4721\n",
            "Epoch 86/100\n",
            "2/2 [==============================] - 0s 6ms/step - loss: 9.5134 - mae: 9.5134\n",
            "Epoch 87/100\n",
            "2/2 [==============================] - 0s 7ms/step - loss: 11.4677 - mae: 11.4677\n",
            "Epoch 88/100\n",
            "2/2 [==============================] - 0s 7ms/step - loss: 9.9657 - mae: 9.9657\n",
            "Epoch 89/100\n",
            "2/2 [==============================] - 0s 7ms/step - loss: 7.2579 - mae: 7.2579\n",
            "Epoch 90/100\n",
            "2/2 [==============================] - 0s 7ms/step - loss: 12.7315 - mae: 12.7315\n",
            "Epoch 91/100\n",
            "2/2 [==============================] - 0s 7ms/step - loss: 7.3270 - mae: 7.3270\n",
            "Epoch 92/100\n",
            "2/2 [==============================] - 0s 7ms/step - loss: 7.6930 - mae: 7.6930\n",
            "Epoch 93/100\n",
            "2/2 [==============================] - 0s 10ms/step - loss: 7.1209 - mae: 7.1209\n",
            "Epoch 94/100\n",
            "2/2 [==============================] - 0s 9ms/step - loss: 12.5760 - mae: 12.5760\n",
            "Epoch 95/100\n",
            "2/2 [==============================] - 0s 7ms/step - loss: 9.9509 - mae: 9.9509\n",
            "Epoch 96/100\n",
            "2/2 [==============================] - 0s 8ms/step - loss: 9.1309 - mae: 9.1309\n",
            "Epoch 97/100\n",
            "2/2 [==============================] - 0s 7ms/step - loss: 12.0575 - mae: 12.0575\n",
            "Epoch 98/100\n",
            "2/2 [==============================] - 0s 7ms/step - loss: 9.0969 - mae: 9.0969\n",
            "Epoch 99/100\n",
            "2/2 [==============================] - 0s 8ms/step - loss: 8.4930 - mae: 8.4930\n",
            "Epoch 100/100\n",
            "2/2 [==============================] - 0s 7ms/step - loss: 14.4227 - mae: 14.4227\n"
          ]
        },
        {
          "output_type": "execute_result",
          "data": {
            "text/plain": [
              "<keras.src.callbacks.History at 0x7cfb02614160>"
            ]
          },
          "metadata": {},
          "execution_count": 41
        }
      ]
    },
    {
      "cell_type": "code",
      "source": [
        "y_pred = model_1.predict([X_test])\n",
        "plot_predictions(X_train,y_train,X_test,y_test,y_pred)"
      ],
      "metadata": {
        "colab": {
          "base_uri": "https://localhost:8080/",
          "height": 500
        },
        "id": "35jV0TxGfQor",
        "outputId": "8690a8d2-1e71-4f59-c878-aa817c0014ab"
      },
      "execution_count": 42,
      "outputs": [
        {
          "output_type": "stream",
          "name": "stderr",
          "text": [
            "WARNING:tensorflow:5 out of the last 6 calls to <function Model.make_predict_function.<locals>.predict_function at 0x7cfb02600820> triggered tf.function retracing. Tracing is expensive and the excessive number of tracings could be due to (1) creating @tf.function repeatedly in a loop, (2) passing tensors with different shapes, (3) passing Python objects instead of tensors. For (1), please define your @tf.function outside of the loop. For (2), @tf.function has reduce_retracing=True option that can avoid unnecessary retracing. For (3), please refer to https://www.tensorflow.org/guide/function#controlling_retracing and https://www.tensorflow.org/api_docs/python/tf/function for  more details.\n"
          ]
        },
        {
          "output_type": "stream",
          "name": "stdout",
          "text": [
            "1/1 [==============================] - 0s 45ms/step\n"
          ]
        },
        {
          "output_type": "display_data",
          "data": {
            "text/plain": [
              "<Figure size 500x500 with 1 Axes>"
            ],
            "image/png": "[encoded data removed]"
          },
          "metadata": {}
        }
      ]
    },
    {
      "cell_type": "code",
      "source": [
        "model_1.evaluate(X_test,y_test)"
      ],
      "metadata": {
        "colab": {
          "base_uri": "https://localhost:8080/"
        },
        "id": "lBckbbaIf2o_",
        "outputId": "52d777f1-05ab-4a00-e72b-bf616119a80e"
      },
      "execution_count": 43,
      "outputs": [
        {
          "output_type": "stream",
          "name": "stdout",
          "text": [
            "1/1 [==============================] - 0s 103ms/step - loss: 30.6990 - mae: 30.6990\n"
          ]
        },
        {
          "output_type": "execute_result",
          "data": {
            "text/plain": [
              "[30.698965072631836, 30.698965072631836]"
            ]
          },
          "metadata": {},
          "execution_count": 43
        }
      ]
    },
    {
      "cell_type": "code",
      "source": [
        "mae_1 = tf.metrics.mean_absolute_error(y_true=y_test,y_pred=tf.squeeze(tf.constant(y_pred)))\n",
        "mae_1"
      ],
      "metadata": {
        "colab": {
          "base_uri": "https://localhost:8080/"
        },
        "id": "E80MG-esf7P4",
        "outputId": "256b57c9-a55e-42d3-9638-ed111351492f"
      },
      "execution_count": 67,
      "outputs": [
        {
          "output_type": "execute_result",
          "data": {
            "text/plain": [
              "<tf.Tensor: shape=(), dtype=float32, numpy=30.698965>"
            ]
          },
          "metadata": {},
          "execution_count": 67
        }
      ]
    },
    {
      "cell_type": "code",
      "source": [
        "y_pred"
      ],
      "metadata": {
        "colab": {
          "base_uri": "https://localhost:8080/"
        },
        "id": "uJPDevWVkSSN",
        "outputId": "54bc606a-c4a2-4fa6-b505-57d92623d768"
      },
      "execution_count": 45,
      "outputs": [
        {
          "output_type": "execute_result",
          "data": {
            "text/plain": [
              "array([[44.376854],\n",
              "       [47.248894],\n",
              "       [50.120934],\n",
              "       [52.992973],\n",
              "       [55.865013],\n",
              "       [58.737053],\n",
              "       [61.609097],\n",
              "       [64.48114 ],\n",
              "       [67.35317 ],\n",
              "       [70.22522 ]], dtype=float32)"
            ]
          },
          "metadata": {},
          "execution_count": 45
        }
      ]
    },
    {
      "cell_type": "code",
      "source": [
        "mse_1 = tf.metrics.mean_squared_error(y_test,tf.squeeze(tf.constant(y_pred)))\n",
        "mse_1"
      ],
      "metadata": {
        "colab": {
          "base_uri": "https://localhost:8080/"
        },
        "id": "lj9Rs9Hrkb0i",
        "outputId": "0b212ee4-491b-4321-b27d-449fa888eb53"
      },
      "execution_count": 68,
      "outputs": [
        {
          "output_type": "execute_result",
          "data": {
            "text/plain": [
              "<tf.Tensor: shape=(), dtype=float32, numpy=952.92285>"
            ]
          },
          "metadata": {},
          "execution_count": 68
        }
      ]
    },
    {
      "cell_type": "markdown",
      "source": [
        "**Build model_2**\n",
        "\n",
        "2 dense layers, trained for 100 epochs"
      ],
      "metadata": {
        "id": "caqfiu2fl5WU"
      }
    },
    {
      "cell_type": "code",
      "source": [
        "# Creating again model\n",
        "tf.random.set_seed(42)\n",
        "model_2 = tf.keras.Sequential([\n",
        "    tf.keras.layers.Dense(units=10,activation='linear'),\n",
        "    tf.keras.layers.Dense(units=1,activation='linear')\n",
        "])\n",
        "\n",
        "# Compile the model\n",
        "model_2.compile(loss=tf.keras.losses.mae,optimizer=tf.keras.optimizers.Adam(lr=0.01),metrics=['mae'])\n",
        "\n",
        "# Fitting the Model\n",
        "model_2.fit(X_train,y_train,epochs=100)"
      ],
      "metadata": {
        "colab": {
          "base_uri": "https://localhost:8080/"
        },
        "id": "pRdBUv-SmpJz",
        "outputId": "7cc5d8d7-5ec9-4115-e766-7521ed06ddd6"
      },
      "execution_count": 52,
      "outputs": [
        {
          "output_type": "stream",
          "name": "stderr",
          "text": [
            "WARNING:absl:`lr` is deprecated in Keras optimizer, please use `learning_rate` or use the legacy optimizer, e.g.,tf.keras.optimizers.legacy.Adam.\n"
          ]
        },
        {
          "output_type": "stream",
          "name": "stdout",
          "text": [
            "Epoch 1/100\n",
            "2/2 [==============================] - 1s 12ms/step - loss: 35.5123 - mae: 35.5123\n",
            "Epoch 2/100\n",
            "2/2 [==============================] - 0s 8ms/step - loss: 35.0697 - mae: 35.0697\n",
            "Epoch 3/100\n",
            "2/2 [==============================] - 0s 7ms/step - loss: 34.6443 - mae: 34.6443\n",
            "Epoch 4/100\n",
            "2/2 [==============================] - 0s 7ms/step - loss: 34.2082 - mae: 34.2082\n",
            "Epoch 5/100\n",
            "2/2 [==============================] - 0s 7ms/step - loss: 33.7833 - mae: 33.7833\n",
            "Epoch 6/100\n",
            "2/2 [==============================] - 0s 6ms/step - loss: 33.3629 - mae: 33.3629\n",
            "Epoch 7/100\n",
            "2/2 [==============================] - 0s 6ms/step - loss: 32.9331 - mae: 32.9331\n",
            "Epoch 8/100\n",
            "2/2 [==============================] - 0s 6ms/step - loss: 32.4922 - mae: 32.4922\n",
            "Epoch 9/100\n",
            "2/2 [==============================] - 0s 6ms/step - loss: 32.0790 - mae: 32.0790\n",
            "Epoch 10/100\n",
            "2/2 [==============================] - 0s 8ms/step - loss: 31.6649 - mae: 31.6649\n",
            "Epoch 11/100\n",
            "2/2 [==============================] - 0s 8ms/step - loss: 31.2167 - mae: 31.2167\n",
            "Epoch 12/100\n",
            "2/2 [==============================] - 0s 8ms/step - loss: 30.7949 - mae: 30.7949\n",
            "Epoch 13/100\n",
            "2/2 [==============================] - 0s 6ms/step - loss: 30.3489 - mae: 30.3489\n",
            "Epoch 14/100\n",
            "2/2 [==============================] - 0s 9ms/step - loss: 29.9228 - mae: 29.9228\n",
            "Epoch 15/100\n",
            "2/2 [==============================] - 0s 6ms/step - loss: 29.4950 - mae: 29.4950\n",
            "Epoch 16/100\n",
            "2/2 [==============================] - 0s 6ms/step - loss: 29.0462 - mae: 29.0462\n",
            "Epoch 17/100\n",
            "2/2 [==============================] - 0s 6ms/step - loss: 28.6036 - mae: 28.6036\n",
            "Epoch 18/100\n",
            "2/2 [==============================] - 0s 7ms/step - loss: 28.1670 - mae: 28.1670\n",
            "Epoch 19/100\n",
            "2/2 [==============================] - 0s 7ms/step - loss: 27.7337 - mae: 27.7337\n",
            "Epoch 20/100\n",
            "2/2 [==============================] - 0s 7ms/step - loss: 27.2794 - mae: 27.2794\n",
            "Epoch 21/100\n",
            "2/2 [==============================] - 0s 6ms/step - loss: 26.8376 - mae: 26.8376\n",
            "Epoch 22/100\n",
            "2/2 [==============================] - 0s 6ms/step - loss: 26.4042 - mae: 26.4042\n",
            "Epoch 23/100\n",
            "2/2 [==============================] - 0s 6ms/step - loss: 25.9599 - mae: 25.9599\n",
            "Epoch 24/100\n",
            "2/2 [==============================] - 0s 6ms/step - loss: 25.5028 - mae: 25.5028\n",
            "Epoch 25/100\n",
            "2/2 [==============================] - 0s 6ms/step - loss: 25.0553 - mae: 25.0553\n",
            "Epoch 26/100\n",
            "2/2 [==============================] - 0s 6ms/step - loss: 24.6211 - mae: 24.6211\n",
            "Epoch 27/100\n",
            "2/2 [==============================] - 0s 6ms/step - loss: 24.1604 - mae: 24.1604\n",
            "Epoch 28/100\n",
            "2/2 [==============================] - 0s 7ms/step - loss: 23.7233 - mae: 23.7233\n",
            "Epoch 29/100\n",
            "2/2 [==============================] - 0s 7ms/step - loss: 23.2348 - mae: 23.2348\n",
            "Epoch 30/100\n",
            "2/2 [==============================] - 0s 6ms/step - loss: 22.7589 - mae: 22.7589\n",
            "Epoch 31/100\n",
            "2/2 [==============================] - 0s 7ms/step - loss: 22.3184 - mae: 22.3184\n",
            "Epoch 32/100\n",
            "2/2 [==============================] - 0s 7ms/step - loss: 21.8337 - mae: 21.8337\n",
            "Epoch 33/100\n",
            "2/2 [==============================] - 0s 6ms/step - loss: 21.3448 - mae: 21.3448\n",
            "Epoch 34/100\n",
            "2/2 [==============================] - 0s 7ms/step - loss: 20.8811 - mae: 20.8811\n",
            "Epoch 35/100\n",
            "2/2 [==============================] - 0s 8ms/step - loss: 20.3880 - mae: 20.3880\n",
            "Epoch 36/100\n",
            "2/2 [==============================] - 0s 7ms/step - loss: 19.9465 - mae: 19.9465\n",
            "Epoch 37/100\n",
            "2/2 [==============================] - 0s 7ms/step - loss: 19.4665 - mae: 19.4665\n",
            "Epoch 38/100\n",
            "2/2 [==============================] - 0s 7ms/step - loss: 19.0186 - mae: 19.0186\n",
            "Epoch 39/100\n",
            "2/2 [==============================] - 0s 6ms/step - loss: 18.5535 - mae: 18.5535\n",
            "Epoch 40/100\n",
            "2/2 [==============================] - 0s 7ms/step - loss: 18.0954 - mae: 18.0954\n",
            "Epoch 41/100\n",
            "2/2 [==============================] - 0s 9ms/step - loss: 17.6348 - mae: 17.6348\n",
            "Epoch 42/100\n",
            "2/2 [==============================] - 0s 7ms/step - loss: 17.1751 - mae: 17.1751\n",
            "Epoch 43/100\n",
            "2/2 [==============================] - 0s 7ms/step - loss: 16.6829 - mae: 16.6829\n",
            "Epoch 44/100\n",
            "2/2 [==============================] - 0s 6ms/step - loss: 16.2524 - mae: 16.2524\n",
            "Epoch 45/100\n",
            "2/2 [==============================] - 0s 6ms/step - loss: 15.7793 - mae: 15.7793\n",
            "Epoch 46/100\n",
            "2/2 [==============================] - 0s 7ms/step - loss: 15.3447 - mae: 15.3447\n",
            "Epoch 47/100\n",
            "2/2 [==============================] - 0s 7ms/step - loss: 14.8630 - mae: 14.8630\n",
            "Epoch 48/100\n",
            "2/2 [==============================] - 0s 7ms/step - loss: 14.4263 - mae: 14.4263\n",
            "Epoch 49/100\n",
            "2/2 [==============================] - 0s 7ms/step - loss: 13.9899 - mae: 13.9899\n",
            "Epoch 50/100\n",
            "2/2 [==============================] - 0s 6ms/step - loss: 13.5574 - mae: 13.5574\n",
            "Epoch 51/100\n",
            "2/2 [==============================] - 0s 8ms/step - loss: 13.0966 - mae: 13.0966\n",
            "Epoch 52/100\n",
            "2/2 [==============================] - 0s 6ms/step - loss: 12.6775 - mae: 12.6775\n",
            "Epoch 53/100\n",
            "2/2 [==============================] - 0s 7ms/step - loss: 12.2158 - mae: 12.2158\n",
            "Epoch 54/100\n",
            "2/2 [==============================] - 0s 8ms/step - loss: 11.7670 - mae: 11.7670\n",
            "Epoch 55/100\n",
            "2/2 [==============================] - 0s 7ms/step - loss: 11.3458 - mae: 11.3458\n",
            "Epoch 56/100\n",
            "2/2 [==============================] - 0s 7ms/step - loss: 10.8937 - mae: 10.8937\n",
            "Epoch 57/100\n",
            "2/2 [==============================] - 0s 7ms/step - loss: 10.4703 - mae: 10.4703\n",
            "Epoch 58/100\n",
            "2/2 [==============================] - 0s 10ms/step - loss: 10.0706 - mae: 10.0706\n",
            "Epoch 59/100\n",
            "2/2 [==============================] - 0s 8ms/step - loss: 9.7132 - mae: 9.7132\n",
            "Epoch 60/100\n",
            "2/2 [==============================] - 0s 7ms/step - loss: 9.3273 - mae: 9.3273\n",
            "Epoch 61/100\n",
            "2/2 [==============================] - 0s 7ms/step - loss: 9.0099 - mae: 9.0099\n",
            "Epoch 62/100\n",
            "2/2 [==============================] - 0s 7ms/step - loss: 8.7260 - mae: 8.7260\n",
            "Epoch 63/100\n",
            "2/2 [==============================] - 0s 7ms/step - loss: 8.4430 - mae: 8.4430\n",
            "Epoch 64/100\n",
            "2/2 [==============================] - 0s 7ms/step - loss: 8.2105 - mae: 8.2105\n",
            "Epoch 65/100\n",
            "2/2 [==============================] - 0s 6ms/step - loss: 8.0065 - mae: 8.0065\n",
            "Epoch 66/100\n",
            "2/2 [==============================] - 0s 7ms/step - loss: 7.8634 - mae: 7.8634\n",
            "Epoch 67/100\n",
            "2/2 [==============================] - 0s 6ms/step - loss: 7.7350 - mae: 7.7350\n",
            "Epoch 68/100\n",
            "2/2 [==============================] - 0s 7ms/step - loss: 7.6714 - mae: 7.6714\n",
            "Epoch 69/100\n",
            "2/2 [==============================] - 0s 7ms/step - loss: 7.6363 - mae: 7.6363\n",
            "Epoch 70/100\n",
            "2/2 [==============================] - 0s 7ms/step - loss: 7.6263 - mae: 7.6263\n",
            "Epoch 71/100\n",
            "2/2 [==============================] - 0s 7ms/step - loss: 7.6422 - mae: 7.6422\n",
            "Epoch 72/100\n",
            "2/2 [==============================] - 0s 7ms/step - loss: 7.6725 - mae: 7.6725\n",
            "Epoch 73/100\n",
            "2/2 [==============================] - 0s 6ms/step - loss: 7.7019 - mae: 7.7019\n",
            "Epoch 74/100\n",
            "2/2 [==============================] - 0s 7ms/step - loss: 7.7101 - mae: 7.7101\n",
            "Epoch 75/100\n",
            "2/2 [==============================] - 0s 6ms/step - loss: 7.6920 - mae: 7.6920\n",
            "Epoch 76/100\n",
            "2/2 [==============================] - 0s 7ms/step - loss: 7.6548 - mae: 7.6548\n",
            "Epoch 77/100\n",
            "2/2 [==============================] - 0s 10ms/step - loss: 7.6120 - mae: 7.6120\n",
            "Epoch 78/100\n",
            "2/2 [==============================] - 0s 7ms/step - loss: 7.5648 - mae: 7.5648\n",
            "Epoch 79/100\n",
            "2/2 [==============================] - 0s 10ms/step - loss: 7.5362 - mae: 7.5362\n",
            "Epoch 80/100\n",
            "2/2 [==============================] - 0s 7ms/step - loss: 7.5038 - mae: 7.5038\n",
            "Epoch 81/100\n",
            "2/2 [==============================] - 0s 7ms/step - loss: 7.4923 - mae: 7.4923\n",
            "Epoch 82/100\n",
            "2/2 [==============================] - 0s 7ms/step - loss: 7.4818 - mae: 7.4818\n",
            "Epoch 83/100\n",
            "2/2 [==============================] - 0s 7ms/step - loss: 7.4764 - mae: 7.4764\n",
            "Epoch 84/100\n",
            "2/2 [==============================] - 0s 7ms/step - loss: 7.4835 - mae: 7.4835\n",
            "Epoch 85/100\n",
            "2/2 [==============================] - 0s 7ms/step - loss: 7.4750 - mae: 7.4750\n",
            "Epoch 86/100\n",
            "2/2 [==============================] - 0s 7ms/step - loss: 7.4692 - mae: 7.4692\n",
            "Epoch 87/100\n",
            "2/2 [==============================] - 0s 7ms/step - loss: 7.4566 - mae: 7.4566\n",
            "Epoch 88/100\n",
            "2/2 [==============================] - 0s 7ms/step - loss: 7.4377 - mae: 7.4377\n",
            "Epoch 89/100\n",
            "2/2 [==============================] - 0s 7ms/step - loss: 7.4170 - mae: 7.4170\n",
            "Epoch 90/100\n",
            "2/2 [==============================] - 0s 7ms/step - loss: 7.4085 - mae: 7.4085\n",
            "Epoch 91/100\n",
            "2/2 [==============================] - 0s 7ms/step - loss: 7.3897 - mae: 7.3897\n",
            "Epoch 92/100\n",
            "2/2 [==============================] - 0s 7ms/step - loss: 7.3835 - mae: 7.3835\n",
            "Epoch 93/100\n",
            "2/2 [==============================] - 0s 7ms/step - loss: 7.3743 - mae: 7.3743\n",
            "Epoch 94/100\n",
            "2/2 [==============================] - 0s 7ms/step - loss: 7.3664 - mae: 7.3664\n",
            "Epoch 95/100\n",
            "2/2 [==============================] - 0s 7ms/step - loss: 7.3536 - mae: 7.3536\n",
            "Epoch 96/100\n",
            "2/2 [==============================] - 0s 7ms/step - loss: 7.3474 - mae: 7.3474\n",
            "Epoch 97/100\n",
            "2/2 [==============================] - 0s 6ms/step - loss: 7.3332 - mae: 7.3332\n",
            "Epoch 98/100\n",
            "2/2 [==============================] - 0s 6ms/step - loss: 7.3235 - mae: 7.3235\n",
            "Epoch 99/100\n",
            "2/2 [==============================] - 0s 6ms/step - loss: 7.3147 - mae: 7.3147\n",
            "Epoch 100/100\n",
            "2/2 [==============================] - 0s 7ms/step - loss: 7.3043 - mae: 7.3043\n"
          ]
        },
        {
          "output_type": "execute_result",
          "data": {
            "text/plain": [
              "<keras.src.callbacks.History at 0x7cfb026f2920>"
            ]
          },
          "metadata": {},
          "execution_count": 52
        }
      ]
    },
    {
      "cell_type": "code",
      "source": [
        "### Evaluating the Model\n",
        "model_2.evaluate(X_test,y_test)"
      ],
      "metadata": {
        "colab": {
          "base_uri": "https://localhost:8080/"
        },
        "id": "9LMU--kAnHDS",
        "outputId": "f863f3c5-aa84-4a92-911e-eb325db33e37"
      },
      "execution_count": 53,
      "outputs": [
        {
          "output_type": "stream",
          "name": "stdout",
          "text": [
            "1/1 [==============================] - 0s 159ms/step - loss: 18.4628 - mae: 18.4628\n"
          ]
        },
        {
          "output_type": "execute_result",
          "data": {
            "text/plain": [
              "[18.4627742767334, 18.4627742767334]"
            ]
          },
          "metadata": {},
          "execution_count": 53
        }
      ]
    },
    {
      "cell_type": "code",
      "source": [
        "#Checking the metrics\n",
        "y_pred2 = model_2.predict([X_test])"
      ],
      "metadata": {
        "colab": {
          "base_uri": "https://localhost:8080/"
        },
        "id": "8jvQhudPncYE",
        "outputId": "e7dc2c22-f4bd-4d4d-ea02-ea1093b937c0"
      },
      "execution_count": 54,
      "outputs": [
        {
          "output_type": "stream",
          "name": "stdout",
          "text": [
            "1/1 [==============================] - 0s 48ms/step\n"
          ]
        }
      ]
    },
    {
      "cell_type": "code",
      "source": [
        "y_pred2"
      ],
      "metadata": {
        "colab": {
          "base_uri": "https://localhost:8080/"
        },
        "id": "w4WW8BjTn58p",
        "outputId": "333a97c4-ea93-450f-ba52-82399ab5ea46"
      },
      "execution_count": 55,
      "outputs": [
        {
          "output_type": "execute_result",
          "data": {
            "text/plain": [
              "array([[53.58801 ],\n",
              "       [57.132282],\n",
              "       [60.676556],\n",
              "       [64.22082 ],\n",
              "       [67.76509 ],\n",
              "       [71.30936 ],\n",
              "       [74.85363 ],\n",
              "       [78.3979  ],\n",
              "       [81.94218 ],\n",
              "       [85.48645 ]], dtype=float32)"
            ]
          },
          "metadata": {},
          "execution_count": 55
        }
      ]
    },
    {
      "cell_type": "code",
      "source": [
        "plot_predictions(X_train,y_train,X_test,y_test,y_pred2)"
      ],
      "metadata": {
        "colab": {
          "base_uri": "https://localhost:8080/",
          "height": 445
        },
        "id": "XPPLyNwIoI3c",
        "outputId": "2a6e6d29-db27-4b19-c872-41fb35875f94"
      },
      "execution_count": 56,
      "outputs": [
        {
          "output_type": "display_data",
          "data": {
            "text/plain": [
              "<Figure size 500x500 with 1 Axes>"
            ],
            "image/png": "[encoded data removed]"
          },
          "metadata": {}
        }
      ]
    },
    {
      "cell_type": "code",
      "source": [
        "mse_2 = tf.metrics.mean_squared_error(y_test,tf.squeeze(tf.constant(y_pred2)))"
      ],
      "metadata": {
        "id": "uGQnLoAry_OS"
      },
      "execution_count": 69,
      "outputs": []
    },
    {
      "cell_type": "code",
      "source": [
        "mae_2 = tf.metrics.mean_absolute_error(y_test,tf.squeeze(tf.constant(y_pred2)))"
      ],
      "metadata": {
        "id": "WTcoxz-Ezr_S"
      },
      "execution_count": 70,
      "outputs": []
    },
    {
      "cell_type": "markdown",
      "source": [
        "**Build model_3**\n",
        "\n",
        "* 2 layers, trained for 500 epochs"
      ],
      "metadata": {
        "id": "iucZrJQSQKWn"
      }
    },
    {
      "cell_type": "code",
      "source": [
        "# Again create another model_3\n",
        "\n",
        "model_3 = tf.keras.Sequential([\n",
        "    tf.keras.layers.Dense(units=1,activation='linear'),\n",
        "    tf.keras.layers.Dense(units=10,activation='linear'),\n",
        "    tf.keras.layers.Dense(units=10,activation='linear'),\n",
        "    tf.keras.layers.Dense(units=1,activation='linear')\n",
        "])\n",
        "\n",
        "# Compile the Model\n",
        "\n",
        "model_3.compile(loss=tf.keras.losses.MSE,optimizer=tf.keras.optimizers.Adam(lr=0.001),metrics=['mae'])\n",
        "\n",
        "# Fitting the Model\n",
        "model_3.fit(X_train,y_train,epochs=500)"
      ],
      "metadata": {
        "colab": {
          "base_uri": "https://localhost:8080/"
        },
        "id": "lFbtBUWWQzDP",
        "outputId": "58de54a0-6bdb-4655-de8f-4e553ee0597e"
      },
      "execution_count": 65,
      "outputs": [
        {
          "output_type": "stream",
          "name": "stderr",
          "text": [
            "WARNING:absl:`lr` is deprecated in Keras optimizer, please use `learning_rate` or use the legacy optimizer, e.g.,tf.keras.optimizers.legacy.Adam.\n"
          ]
        },
        {
          "output_type": "stream",
          "name": "stdout",
          "text": [
            "Epoch 1/500\n",
            "2/2 [==============================] - 1s 8ms/step - loss: 1033.1078 - mae: 26.2802\n",
            "Epoch 2/500\n",
            "2/2 [==============================] - 0s 7ms/step - loss: 806.1334 - mae: 23.1799\n",
            "Epoch 3/500\n",
            "2/2 [==============================] - 0s 7ms/step - loss: 622.0076 - mae: 20.3476\n",
            "Epoch 4/500\n",
            "2/2 [==============================] - 0s 7ms/step - loss: 466.4186 - mae: 17.6993\n",
            "Epoch 5/500\n",
            "2/2 [==============================] - 0s 8ms/step - loss: 345.3692 - mae: 15.4624\n",
            "Epoch 6/500\n",
            "2/2 [==============================] - 0s 9ms/step - loss: 246.5871 - mae: 13.5756\n",
            "Epoch 7/500\n",
            "2/2 [==============================] - 0s 7ms/step - loss: 177.0275 - mae: 12.2734\n",
            "Epoch 8/500\n",
            "2/2 [==============================] - 0s 7ms/step - loss: 125.6179 - mae: 10.9279\n",
            "Epoch 9/500\n",
            "2/2 [==============================] - 0s 7ms/step - loss: 100.9983 - mae: 10.0354\n",
            "Epoch 10/500\n",
            "2/2 [==============================] - 0s 9ms/step - loss: 85.0477 - mae: 9.0390\n",
            "Epoch 11/500\n",
            "2/2 [==============================] - 0s 7ms/step - loss: 76.9416 - mae: 8.0155\n",
            "Epoch 12/500\n",
            "2/2 [==============================] - 0s 8ms/step - loss: 79.5081 - mae: 7.4768\n",
            "Epoch 13/500\n",
            "2/2 [==============================] - 0s 8ms/step - loss: 84.3804 - mae: 7.5569\n",
            "Epoch 14/500\n",
            "2/2 [==============================] - 0s 9ms/step - loss: 89.5580 - mae: 7.7361\n",
            "Epoch 15/500\n",
            "2/2 [==============================] - 0s 7ms/step - loss: 93.5236 - mae: 7.9221\n",
            "Epoch 16/500\n",
            "2/2 [==============================] - 0s 7ms/step - loss: 95.6024 - mae: 8.0289\n",
            "Epoch 17/500\n",
            "2/2 [==============================] - 0s 9ms/step - loss: 95.6560 - mae: 8.0386\n",
            "Epoch 18/500\n",
            "2/2 [==============================] - 0s 8ms/step - loss: 93.9120 - mae: 7.9431\n",
            "Epoch 19/500\n",
            "2/2 [==============================] - 0s 8ms/step - loss: 90.5220 - mae: 7.7824\n",
            "Epoch 20/500\n",
            "2/2 [==============================] - 0s 7ms/step - loss: 86.6856 - mae: 7.6046\n",
            "Epoch 21/500\n",
            "2/2 [==============================] - 0s 8ms/step - loss: 83.2740 - mae: 7.4524\n",
            "Epoch 22/500\n",
            "2/2 [==============================] - 0s 8ms/step - loss: 79.9768 - mae: 7.3303\n",
            "Epoch 23/500\n",
            "2/2 [==============================] - 0s 8ms/step - loss: 78.0603 - mae: 7.3616\n",
            "Epoch 24/500\n",
            "2/2 [==============================] - 0s 7ms/step - loss: 75.7676 - mae: 7.4105\n",
            "Epoch 25/500\n",
            "2/2 [==============================] - 0s 9ms/step - loss: 75.0991 - mae: 7.6061\n",
            "Epoch 26/500\n",
            "2/2 [==============================] - 0s 8ms/step - loss: 74.4294 - mae: 7.7635\n",
            "Epoch 27/500\n",
            "2/2 [==============================] - 0s 8ms/step - loss: 74.3064 - mae: 7.8982\n",
            "Epoch 28/500\n",
            "2/2 [==============================] - 0s 9ms/step - loss: 74.1879 - mae: 7.9786\n",
            "Epoch 29/500\n",
            "2/2 [==============================] - 0s 7ms/step - loss: 74.1670 - mae: 8.0334\n",
            "Epoch 30/500\n",
            "2/2 [==============================] - 0s 7ms/step - loss: 73.8232 - mae: 8.0181\n",
            "Epoch 31/500\n",
            "2/2 [==============================] - 0s 7ms/step - loss: 73.4181 - mae: 7.9579\n",
            "Epoch 32/500\n",
            "2/2 [==============================] - 0s 8ms/step - loss: 72.9424 - mae: 7.8630\n",
            "Epoch 33/500\n",
            "2/2 [==============================] - 0s 7ms/step - loss: 72.6234 - mae: 7.7588\n",
            "Epoch 34/500\n",
            "2/2 [==============================] - 0s 8ms/step - loss: 72.3797 - mae: 7.6535\n",
            "Epoch 35/500\n",
            "2/2 [==============================] - 0s 8ms/step - loss: 72.0875 - mae: 7.5491\n",
            "Epoch 36/500\n",
            "2/2 [==============================] - 0s 8ms/step - loss: 72.0619 - mae: 7.4631\n",
            "Epoch 37/500\n",
            "2/2 [==============================] - 0s 8ms/step - loss: 71.9778 - mae: 7.3713\n",
            "Epoch 38/500\n",
            "2/2 [==============================] - 0s 9ms/step - loss: 71.8121 - mae: 7.3182\n",
            "Epoch 39/500\n",
            "2/2 [==============================] - 0s 7ms/step - loss: 71.6050 - mae: 7.2870\n",
            "Epoch 40/500\n",
            "2/2 [==============================] - 0s 7ms/step - loss: 71.3870 - mae: 7.2614\n",
            "Epoch 41/500\n",
            "2/2 [==============================] - 0s 7ms/step - loss: 71.1407 - mae: 7.2421\n",
            "Epoch 42/500\n",
            "2/2 [==============================] - 0s 7ms/step - loss: 70.7829 - mae: 7.2569\n",
            "Epoch 43/500\n",
            "2/2 [==============================] - 0s 7ms/step - loss: 70.3526 - mae: 7.3152\n",
            "Epoch 44/500\n",
            "2/2 [==============================] - 0s 7ms/step - loss: 69.9307 - mae: 7.3485\n",
            "Epoch 45/500\n",
            "2/2 [==============================] - 0s 7ms/step - loss: 69.5429 - mae: 7.3680\n",
            "Epoch 46/500\n",
            "2/2 [==============================] - 0s 7ms/step - loss: 69.2480 - mae: 7.3827\n",
            "Epoch 47/500\n",
            "2/2 [==============================] - 0s 8ms/step - loss: 68.9173 - mae: 7.3946\n",
            "Epoch 48/500\n",
            "2/2 [==============================] - 0s 7ms/step - loss: 68.6042 - mae: 7.3984\n",
            "Epoch 49/500\n",
            "2/2 [==============================] - 0s 8ms/step - loss: 68.3783 - mae: 7.4191\n",
            "Epoch 50/500\n",
            "2/2 [==============================] - 0s 8ms/step - loss: 68.0209 - mae: 7.4250\n",
            "Epoch 51/500\n",
            "2/2 [==============================] - 0s 8ms/step - loss: 67.7360 - mae: 7.4311\n",
            "Epoch 52/500\n",
            "2/2 [==============================] - 0s 7ms/step - loss: 67.5392 - mae: 7.4524\n",
            "Epoch 53/500\n",
            "2/2 [==============================] - 0s 8ms/step - loss: 67.1866 - mae: 7.4395\n",
            "Epoch 54/500\n",
            "2/2 [==============================] - 0s 13ms/step - loss: 66.8480 - mae: 7.3734\n",
            "Epoch 55/500\n",
            "2/2 [==============================] - 0s 8ms/step - loss: 66.6502 - mae: 7.2886\n",
            "Epoch 56/500\n",
            "2/2 [==============================] - 0s 8ms/step - loss: 66.5549 - mae: 7.2039\n",
            "Epoch 57/500\n",
            "2/2 [==============================] - 0s 7ms/step - loss: 66.2724 - mae: 7.1525\n",
            "Epoch 58/500\n",
            "2/2 [==============================] - 0s 7ms/step - loss: 66.0085 - mae: 7.1583\n",
            "Epoch 59/500\n",
            "2/2 [==============================] - 0s 7ms/step - loss: 65.6222 - mae: 7.1677\n",
            "Epoch 60/500\n",
            "2/2 [==============================] - 0s 7ms/step - loss: 65.3289 - mae: 7.1769\n",
            "Epoch 61/500\n",
            "2/2 [==============================] - 0s 7ms/step - loss: 65.0012 - mae: 7.1836\n",
            "Epoch 62/500\n",
            "2/2 [==============================] - 0s 8ms/step - loss: 64.7075 - mae: 7.1925\n",
            "Epoch 63/500\n",
            "2/2 [==============================] - 0s 7ms/step - loss: 64.4676 - mae: 7.2076\n",
            "Epoch 64/500\n",
            "2/2 [==============================] - 0s 7ms/step - loss: 64.1287 - mae: 7.1890\n",
            "Epoch 65/500\n",
            "2/2 [==============================] - 0s 8ms/step - loss: 63.8645 - mae: 7.1599\n",
            "Epoch 66/500\n",
            "2/2 [==============================] - 0s 7ms/step - loss: 63.5960 - mae: 7.1271\n",
            "Epoch 67/500\n",
            "2/2 [==============================] - 0s 7ms/step - loss: 63.3339 - mae: 7.0952\n",
            "Epoch 68/500\n",
            "2/2 [==============================] - 0s 8ms/step - loss: 63.0741 - mae: 7.0718\n",
            "Epoch 69/500\n",
            "2/2 [==============================] - 0s 7ms/step - loss: 62.8090 - mae: 7.0332\n",
            "Epoch 70/500\n",
            "2/2 [==============================] - 0s 7ms/step - loss: 62.6238 - mae: 6.9870\n",
            "Epoch 71/500\n",
            "2/2 [==============================] - 0s 8ms/step - loss: 62.2886 - mae: 6.9699\n",
            "Epoch 72/500\n",
            "2/2 [==============================] - 0s 7ms/step - loss: 61.9532 - mae: 7.0034\n",
            "Epoch 73/500\n",
            "2/2 [==============================] - 0s 9ms/step - loss: 61.5630 - mae: 7.0540\n",
            "Epoch 74/500\n",
            "2/2 [==============================] - 0s 8ms/step - loss: 61.3112 - mae: 7.1165\n",
            "Epoch 75/500\n",
            "2/2 [==============================] - 0s 8ms/step - loss: 61.1136 - mae: 7.1945\n",
            "Epoch 76/500\n",
            "2/2 [==============================] - 0s 8ms/step - loss: 60.9768 - mae: 7.2582\n",
            "Epoch 77/500\n",
            "2/2 [==============================] - 0s 8ms/step - loss: 60.9284 - mae: 7.3123\n",
            "Epoch 78/500\n",
            "2/2 [==============================] - 0s 8ms/step - loss: 60.8781 - mae: 7.3485\n",
            "Epoch 79/500\n",
            "2/2 [==============================] - 0s 7ms/step - loss: 60.3870 - mae: 7.2948\n",
            "Epoch 80/500\n",
            "2/2 [==============================] - 0s 7ms/step - loss: 59.9453 - mae: 7.1944\n",
            "Epoch 81/500\n",
            "2/2 [==============================] - 0s 7ms/step - loss: 59.4630 - mae: 7.0815\n",
            "Epoch 82/500\n",
            "2/2 [==============================] - 0s 7ms/step - loss: 59.1127 - mae: 6.9833\n",
            "Epoch 83/500\n",
            "2/2 [==============================] - 0s 7ms/step - loss: 58.7771 - mae: 6.9168\n",
            "Epoch 84/500\n",
            "2/2 [==============================] - 0s 9ms/step - loss: 58.5512 - mae: 6.8617\n",
            "Epoch 85/500\n",
            "2/2 [==============================] - 0s 7ms/step - loss: 58.2492 - mae: 6.8263\n",
            "Epoch 86/500\n",
            "2/2 [==============================] - 0s 8ms/step - loss: 57.9838 - mae: 6.8137\n",
            "Epoch 87/500\n",
            "2/2 [==============================] - 0s 13ms/step - loss: 57.7116 - mae: 6.7849\n",
            "Epoch 88/500\n",
            "2/2 [==============================] - 0s 8ms/step - loss: 57.4304 - mae: 6.7647\n",
            "Epoch 89/500\n",
            "2/2 [==============================] - 0s 8ms/step - loss: 57.1503 - mae: 6.7635\n",
            "Epoch 90/500\n",
            "2/2 [==============================] - 0s 8ms/step - loss: 56.8641 - mae: 6.7630\n",
            "Epoch 91/500\n",
            "2/2 [==============================] - 0s 7ms/step - loss: 56.5759 - mae: 6.7652\n",
            "Epoch 92/500\n",
            "2/2 [==============================] - 0s 7ms/step - loss: 56.3171 - mae: 6.7855\n",
            "Epoch 93/500\n",
            "2/2 [==============================] - 0s 7ms/step - loss: 56.0887 - mae: 6.8174\n",
            "Epoch 94/500\n",
            "2/2 [==============================] - 0s 8ms/step - loss: 55.7954 - mae: 6.8160\n",
            "Epoch 95/500\n",
            "2/2 [==============================] - 0s 8ms/step - loss: 55.5176 - mae: 6.7916\n",
            "Epoch 96/500\n",
            "2/2 [==============================] - 0s 8ms/step - loss: 55.2782 - mae: 6.7554\n",
            "Epoch 97/500\n",
            "2/2 [==============================] - 0s 7ms/step - loss: 54.9596 - mae: 6.7324\n",
            "Epoch 98/500\n",
            "2/2 [==============================] - 0s 7ms/step - loss: 54.6943 - mae: 6.7364\n",
            "Epoch 99/500\n",
            "2/2 [==============================] - 0s 7ms/step - loss: 54.4589 - mae: 6.7491\n",
            "Epoch 100/500\n",
            "2/2 [==============================] - 0s 7ms/step - loss: 54.1972 - mae: 6.7506\n",
            "Epoch 101/500\n",
            "2/2 [==============================] - 0s 8ms/step - loss: 53.9378 - mae: 6.7416\n",
            "Epoch 102/500\n",
            "2/2 [==============================] - 0s 8ms/step - loss: 53.6889 - mae: 6.7236\n",
            "Epoch 103/500\n",
            "2/2 [==============================] - 0s 10ms/step - loss: 53.4433 - mae: 6.7186\n",
            "Epoch 104/500\n",
            "2/2 [==============================] - 0s 7ms/step - loss: 53.1397 - mae: 6.6993\n",
            "Epoch 105/500\n",
            "2/2 [==============================] - 0s 8ms/step - loss: 52.8332 - mae: 6.6569\n",
            "Epoch 106/500\n",
            "2/2 [==============================] - 0s 8ms/step - loss: 52.5330 - mae: 6.6015\n",
            "Epoch 107/500\n",
            "2/2 [==============================] - 0s 7ms/step - loss: 52.2356 - mae: 6.5332\n",
            "Epoch 108/500\n",
            "2/2 [==============================] - 0s 8ms/step - loss: 51.9864 - mae: 6.4466\n",
            "Epoch 109/500\n",
            "2/2 [==============================] - 0s 7ms/step - loss: 51.8842 - mae: 6.3525\n",
            "Epoch 110/500\n",
            "2/2 [==============================] - 0s 7ms/step - loss: 51.7879 - mae: 6.2643\n",
            "Epoch 111/500\n",
            "2/2 [==============================] - 0s 7ms/step - loss: 51.5744 - mae: 6.2240\n",
            "Epoch 112/500\n",
            "2/2 [==============================] - 0s 7ms/step - loss: 51.2864 - mae: 6.2628\n",
            "Epoch 113/500\n",
            "2/2 [==============================] - 0s 8ms/step - loss: 50.8700 - mae: 6.3170\n",
            "Epoch 114/500\n",
            "2/2 [==============================] - 0s 11ms/step - loss: 50.5175 - mae: 6.3340\n",
            "Epoch 115/500\n",
            "2/2 [==============================] - 0s 8ms/step - loss: 50.2395 - mae: 6.3408\n",
            "Epoch 116/500\n",
            "2/2 [==============================] - 0s 8ms/step - loss: 49.9596 - mae: 6.3459\n",
            "Epoch 117/500\n",
            "2/2 [==============================] - 0s 8ms/step - loss: 49.6859 - mae: 6.3689\n",
            "Epoch 118/500\n",
            "2/2 [==============================] - 0s 8ms/step - loss: 49.4445 - mae: 6.4115\n",
            "Epoch 119/500\n",
            "2/2 [==============================] - 0s 8ms/step - loss: 49.4268 - mae: 6.4797\n",
            "Epoch 120/500\n",
            "2/2 [==============================] - 0s 8ms/step - loss: 49.0477 - mae: 6.4599\n",
            "Epoch 121/500\n",
            "2/2 [==============================] - 0s 7ms/step - loss: 48.7331 - mae: 6.4040\n",
            "Epoch 122/500\n",
            "2/2 [==============================] - 0s 12ms/step - loss: 48.3982 - mae: 6.3056\n",
            "Epoch 123/500\n",
            "2/2 [==============================] - 0s 12ms/step - loss: 48.2209 - mae: 6.1850\n",
            "Epoch 124/500\n",
            "2/2 [==============================] - 0s 9ms/step - loss: 48.1640 - mae: 6.0811\n",
            "Epoch 125/500\n",
            "2/2 [==============================] - 0s 11ms/step - loss: 48.0734 - mae: 6.0063\n",
            "Epoch 126/500\n",
            "2/2 [==============================] - 0s 10ms/step - loss: 47.7715 - mae: 5.9977\n",
            "Epoch 127/500\n",
            "2/2 [==============================] - 0s 8ms/step - loss: 47.5529 - mae: 6.0556\n",
            "Epoch 128/500\n",
            "2/2 [==============================] - 0s 8ms/step - loss: 47.0846 - mae: 6.0646\n",
            "Epoch 129/500\n",
            "2/2 [==============================] - 0s 8ms/step - loss: 46.9052 - mae: 6.0720\n",
            "Epoch 130/500\n",
            "2/2 [==============================] - 0s 9ms/step - loss: 46.5831 - mae: 6.0492\n",
            "Epoch 131/500\n",
            "2/2 [==============================] - 0s 8ms/step - loss: 46.3861 - mae: 6.0163\n",
            "Epoch 132/500\n",
            "2/2 [==============================] - 0s 8ms/step - loss: 46.1664 - mae: 5.9778\n",
            "Epoch 133/500\n",
            "2/2 [==============================] - 0s 14ms/step - loss: 46.0014 - mae: 5.9336\n",
            "Epoch 134/500\n",
            "2/2 [==============================] - 0s 11ms/step - loss: 45.8845 - mae: 5.8768\n",
            "Epoch 135/500\n",
            "2/2 [==============================] - 0s 9ms/step - loss: 45.6966 - mae: 5.8340\n",
            "Epoch 136/500\n",
            "2/2 [==============================] - 0s 11ms/step - loss: 45.3254 - mae: 5.8638\n",
            "Epoch 137/500\n",
            "2/2 [==============================] - 0s 11ms/step - loss: 44.8143 - mae: 5.9262\n",
            "Epoch 138/500\n",
            "2/2 [==============================] - 0s 8ms/step - loss: 44.4556 - mae: 6.0408\n",
            "Epoch 139/500\n",
            "2/2 [==============================] - 0s 7ms/step - loss: 44.5133 - mae: 6.2150\n",
            "Epoch 140/500\n",
            "2/2 [==============================] - 0s 8ms/step - loss: 44.7484 - mae: 6.3537\n",
            "Epoch 141/500\n",
            "2/2 [==============================] - 0s 8ms/step - loss: 45.1246 - mae: 6.4527\n",
            "Epoch 142/500\n",
            "2/2 [==============================] - 0s 8ms/step - loss: 44.6382 - mae: 6.4095\n",
            "Epoch 143/500\n",
            "2/2 [==============================] - 0s 7ms/step - loss: 44.1246 - mae: 6.2872\n",
            "Epoch 144/500\n",
            "2/2 [==============================] - 0s 11ms/step - loss: 43.2216 - mae: 6.1066\n",
            "Epoch 145/500\n",
            "2/2 [==============================] - 0s 11ms/step - loss: 42.8809 - mae: 5.9596\n",
            "Epoch 146/500\n",
            "2/2 [==============================] - 0s 12ms/step - loss: 42.8292 - mae: 5.8161\n",
            "Epoch 147/500\n",
            "2/2 [==============================] - 0s 12ms/step - loss: 42.6177 - mae: 5.6930\n",
            "Epoch 148/500\n",
            "2/2 [==============================] - 0s 8ms/step - loss: 42.6061 - mae: 5.6200\n",
            "Epoch 149/500\n",
            "2/2 [==============================] - 0s 13ms/step - loss: 42.3995 - mae: 5.5718\n",
            "Epoch 150/500\n",
            "2/2 [==============================] - 0s 10ms/step - loss: 42.1714 - mae: 5.6027\n",
            "Epoch 151/500\n",
            "2/2 [==============================] - 0s 10ms/step - loss: 41.6987 - mae: 5.6149\n",
            "Epoch 152/500\n",
            "2/2 [==============================] - 0s 8ms/step - loss: 41.3915 - mae: 5.6328\n",
            "Epoch 153/500\n",
            "2/2 [==============================] - 0s 8ms/step - loss: 41.0306 - mae: 5.6670\n",
            "Epoch 154/500\n",
            "2/2 [==============================] - 0s 10ms/step - loss: 40.7939 - mae: 5.7438\n",
            "Epoch 155/500\n",
            "2/2 [==============================] - 0s 12ms/step - loss: 40.5495 - mae: 5.8145\n",
            "Epoch 156/500\n",
            "2/2 [==============================] - 0s 16ms/step - loss: 40.3951 - mae: 5.8546\n",
            "Epoch 157/500\n",
            "2/2 [==============================] - 0s 12ms/step - loss: 40.1383 - mae: 5.8429\n",
            "Epoch 158/500\n",
            "2/2 [==============================] - 0s 10ms/step - loss: 39.9194 - mae: 5.7821\n",
            "Epoch 159/500\n",
            "2/2 [==============================] - 0s 8ms/step - loss: 39.6055 - mae: 5.7038\n",
            "Epoch 160/500\n",
            "2/2 [==============================] - 0s 8ms/step - loss: 39.3834 - mae: 5.6506\n",
            "Epoch 161/500\n",
            "2/2 [==============================] - 0s 8ms/step - loss: 39.1845 - mae: 5.5959\n",
            "Epoch 162/500\n",
            "2/2 [==============================] - 0s 9ms/step - loss: 38.9707 - mae: 5.5639\n",
            "Epoch 163/500\n",
            "2/2 [==============================] - 0s 11ms/step - loss: 38.7510 - mae: 5.5419\n",
            "Epoch 164/500\n",
            "2/2 [==============================] - 0s 8ms/step - loss: 38.4978 - mae: 5.5387\n",
            "Epoch 165/500\n",
            "2/2 [==============================] - 0s 8ms/step - loss: 38.2318 - mae: 5.5676\n",
            "Epoch 166/500\n",
            "2/2 [==============================] - 0s 7ms/step - loss: 38.1257 - mae: 5.6267\n",
            "Epoch 167/500\n",
            "2/2 [==============================] - 0s 7ms/step - loss: 37.8361 - mae: 5.6421\n",
            "Epoch 168/500\n",
            "2/2 [==============================] - 0s 11ms/step - loss: 37.6185 - mae: 5.6320\n",
            "Epoch 169/500\n",
            "2/2 [==============================] - 0s 11ms/step - loss: 37.4015 - mae: 5.6202\n",
            "Epoch 170/500\n",
            "2/2 [==============================] - 0s 8ms/step - loss: 37.1523 - mae: 5.5852\n",
            "Epoch 171/500\n",
            "2/2 [==============================] - 0s 8ms/step - loss: 36.9561 - mae: 5.5254\n",
            "Epoch 172/500\n",
            "2/2 [==============================] - 0s 8ms/step - loss: 36.7027 - mae: 5.4813\n",
            "Epoch 173/500\n",
            "2/2 [==============================] - 0s 8ms/step - loss: 36.4621 - mae: 5.4374\n",
            "Epoch 174/500\n",
            "2/2 [==============================] - 0s 7ms/step - loss: 36.2707 - mae: 5.3747\n",
            "Epoch 175/500\n",
            "2/2 [==============================] - 0s 8ms/step - loss: 36.0827 - mae: 5.3282\n",
            "Epoch 176/500\n",
            "2/2 [==============================] - 0s 8ms/step - loss: 35.9015 - mae: 5.2798\n",
            "Epoch 177/500\n",
            "2/2 [==============================] - 0s 9ms/step - loss: 35.7653 - mae: 5.2244\n",
            "Epoch 178/500\n",
            "2/2 [==============================] - 0s 7ms/step - loss: 35.5816 - mae: 5.1914\n",
            "Epoch 179/500\n",
            "2/2 [==============================] - 0s 7ms/step - loss: 35.2986 - mae: 5.1900\n",
            "Epoch 180/500\n",
            "2/2 [==============================] - 0s 7ms/step - loss: 35.0540 - mae: 5.2583\n",
            "Epoch 181/500\n",
            "2/2 [==============================] - 0s 7ms/step - loss: 34.7692 - mae: 5.3289\n",
            "Epoch 182/500\n",
            "2/2 [==============================] - 0s 9ms/step - loss: 34.5066 - mae: 5.3548\n",
            "Epoch 183/500\n",
            "2/2 [==============================] - 0s 7ms/step - loss: 34.4497 - mae: 5.4018\n",
            "Epoch 184/500\n",
            "2/2 [==============================] - 0s 7ms/step - loss: 34.1301 - mae: 5.3830\n",
            "Epoch 185/500\n",
            "2/2 [==============================] - 0s 8ms/step - loss: 33.8692 - mae: 5.3195\n",
            "Epoch 186/500\n",
            "2/2 [==============================] - 0s 7ms/step - loss: 33.7247 - mae: 5.2448\n",
            "Epoch 187/500\n",
            "2/2 [==============================] - 0s 7ms/step - loss: 33.4734 - mae: 5.1787\n",
            "Epoch 188/500\n",
            "2/2 [==============================] - 0s 10ms/step - loss: 33.2831 - mae: 5.1446\n",
            "Epoch 189/500\n",
            "2/2 [==============================] - 0s 13ms/step - loss: 33.0664 - mae: 5.1221\n",
            "Epoch 190/500\n",
            "2/2 [==============================] - 0s 8ms/step - loss: 32.8358 - mae: 5.1281\n",
            "Epoch 191/500\n",
            "2/2 [==============================] - 0s 9ms/step - loss: 32.6013 - mae: 5.1354\n",
            "Epoch 192/500\n",
            "2/2 [==============================] - 0s 10ms/step - loss: 32.4470 - mae: 5.1623\n",
            "Epoch 193/500\n",
            "2/2 [==============================] - 0s 8ms/step - loss: 32.1905 - mae: 5.1536\n",
            "Epoch 194/500\n",
            "2/2 [==============================] - 0s 67ms/step - loss: 31.9755 - mae: 5.1316\n",
            "Epoch 195/500\n",
            "2/2 [==============================] - 0s 81ms/step - loss: 31.7710 - mae: 5.1197\n",
            "Epoch 196/500\n",
            "2/2 [==============================] - 0s 41ms/step - loss: 31.6184 - mae: 5.0992\n",
            "Epoch 197/500\n",
            "2/2 [==============================] - 0s 26ms/step - loss: 31.3253 - mae: 5.1045\n",
            "Epoch 198/500\n",
            "2/2 [==============================] - 0s 8ms/step - loss: 31.2832 - mae: 5.1765\n",
            "Epoch 199/500\n",
            "2/2 [==============================] - 0s 7ms/step - loss: 31.0438 - mae: 5.1806\n",
            "Epoch 200/500\n",
            "2/2 [==============================] - 0s 8ms/step - loss: 30.7999 - mae: 5.1449\n",
            "Epoch 201/500\n",
            "2/2 [==============================] - 0s 9ms/step - loss: 30.5289 - mae: 5.0873\n",
            "Epoch 202/500\n",
            "2/2 [==============================] - 0s 12ms/step - loss: 30.3267 - mae: 4.9864\n",
            "Epoch 203/500\n",
            "2/2 [==============================] - 0s 10ms/step - loss: 30.2147 - mae: 4.8695\n",
            "Epoch 204/500\n",
            "2/2 [==============================] - 0s 10ms/step - loss: 30.0091 - mae: 4.8139\n",
            "Epoch 205/500\n",
            "2/2 [==============================] - 0s 7ms/step - loss: 29.7686 - mae: 4.8112\n",
            "Epoch 206/500\n",
            "2/2 [==============================] - 0s 7ms/step - loss: 29.5065 - mae: 4.8543\n",
            "Epoch 207/500\n",
            "2/2 [==============================] - 0s 12ms/step - loss: 29.3798 - mae: 4.9349\n",
            "Epoch 208/500\n",
            "2/2 [==============================] - 0s 9ms/step - loss: 29.1338 - mae: 4.9611\n",
            "Epoch 209/500\n",
            "2/2 [==============================] - 0s 8ms/step - loss: 29.0567 - mae: 4.9916\n",
            "Epoch 210/500\n",
            "2/2 [==============================] - 0s 11ms/step - loss: 28.7725 - mae: 4.9634\n",
            "Epoch 211/500\n",
            "2/2 [==============================] - 0s 8ms/step - loss: 28.5929 - mae: 4.8888\n",
            "Epoch 212/500\n",
            "2/2 [==============================] - 0s 8ms/step - loss: 28.3238 - mae: 4.8312\n",
            "Epoch 213/500\n",
            "2/2 [==============================] - 0s 10ms/step - loss: 28.1225 - mae: 4.7927\n",
            "Epoch 214/500\n",
            "2/2 [==============================] - 0s 9ms/step - loss: 27.9512 - mae: 4.7299\n",
            "Epoch 215/500\n",
            "2/2 [==============================] - 0s 8ms/step - loss: 27.7990 - mae: 4.6698\n",
            "Epoch 216/500\n",
            "2/2 [==============================] - 0s 9ms/step - loss: 27.6479 - mae: 4.6281\n",
            "Epoch 217/500\n",
            "2/2 [==============================] - 0s 10ms/step - loss: 27.4829 - mae: 4.5983\n",
            "Epoch 218/500\n",
            "2/2 [==============================] - 0s 11ms/step - loss: 27.2599 - mae: 4.5910\n",
            "Epoch 219/500\n",
            "2/2 [==============================] - 0s 12ms/step - loss: 27.0607 - mae: 4.6345\n",
            "Epoch 220/500\n",
            "2/2 [==============================] - 0s 11ms/step - loss: 26.8488 - mae: 4.6671\n",
            "Epoch 221/500\n",
            "2/2 [==============================] - 0s 12ms/step - loss: 26.6228 - mae: 4.6246\n",
            "Epoch 222/500\n",
            "2/2 [==============================] - 0s 14ms/step - loss: 26.4520 - mae: 4.5777\n",
            "Epoch 223/500\n",
            "2/2 [==============================] - 0s 7ms/step - loss: 26.2876 - mae: 4.5550\n",
            "Epoch 224/500\n",
            "2/2 [==============================] - 0s 9ms/step - loss: 26.0063 - mae: 4.5888\n",
            "Epoch 225/500\n",
            "2/2 [==============================] - 0s 7ms/step - loss: 25.9965 - mae: 4.6851\n",
            "Epoch 226/500\n",
            "2/2 [==============================] - 0s 10ms/step - loss: 25.7814 - mae: 4.7270\n",
            "Epoch 227/500\n",
            "2/2 [==============================] - 0s 8ms/step - loss: 25.5805 - mae: 4.6997\n",
            "Epoch 228/500\n",
            "2/2 [==============================] - 0s 7ms/step - loss: 25.3846 - mae: 4.6496\n",
            "Epoch 229/500\n",
            "2/2 [==============================] - 0s 7ms/step - loss: 25.1478 - mae: 4.6203\n",
            "Epoch 230/500\n",
            "2/2 [==============================] - 0s 7ms/step - loss: 24.9846 - mae: 4.6115\n",
            "Epoch 231/500\n",
            "2/2 [==============================] - 0s 7ms/step - loss: 24.7470 - mae: 4.5415\n",
            "Epoch 232/500\n",
            "2/2 [==============================] - 0s 7ms/step - loss: 24.5649 - mae: 4.4382\n",
            "Epoch 233/500\n",
            "2/2 [==============================] - 0s 7ms/step - loss: 24.4293 - mae: 4.3659\n",
            "Epoch 234/500\n",
            "2/2 [==============================] - 0s 7ms/step - loss: 24.3052 - mae: 4.3167\n",
            "Epoch 235/500\n",
            "2/2 [==============================] - 0s 8ms/step - loss: 24.2040 - mae: 4.2695\n",
            "Epoch 236/500\n",
            "2/2 [==============================] - 0s 7ms/step - loss: 24.0373 - mae: 4.2512\n",
            "Epoch 237/500\n",
            "2/2 [==============================] - 0s 7ms/step - loss: 23.7608 - mae: 4.2650\n",
            "Epoch 238/500\n",
            "2/2 [==============================] - 0s 9ms/step - loss: 23.5521 - mae: 4.3176\n",
            "Epoch 239/500\n",
            "2/2 [==============================] - 0s 8ms/step - loss: 23.3161 - mae: 4.3785\n",
            "Epoch 240/500\n",
            "2/2 [==============================] - 0s 7ms/step - loss: 23.1423 - mae: 4.4164\n",
            "Epoch 241/500\n",
            "2/2 [==============================] - 0s 6ms/step - loss: 23.0112 - mae: 4.4511\n",
            "Epoch 242/500\n",
            "2/2 [==============================] - 0s 6ms/step - loss: 22.9408 - mae: 4.4902\n",
            "Epoch 243/500\n",
            "2/2 [==============================] - 0s 7ms/step - loss: 22.8167 - mae: 4.4997\n",
            "Epoch 244/500\n",
            "2/2 [==============================] - 0s 7ms/step - loss: 22.6418 - mae: 4.4843\n",
            "Epoch 245/500\n",
            "2/2 [==============================] - 0s 7ms/step - loss: 22.4362 - mae: 4.4429\n",
            "Epoch 246/500\n",
            "2/2 [==============================] - 0s 7ms/step - loss: 22.1463 - mae: 4.3716\n",
            "Epoch 247/500\n",
            "2/2 [==============================] - 0s 7ms/step - loss: 21.9033 - mae: 4.3066\n",
            "Epoch 248/500\n",
            "2/2 [==============================] - 0s 7ms/step - loss: 21.7044 - mae: 4.2185\n",
            "Epoch 249/500\n",
            "2/2 [==============================] - 0s 7ms/step - loss: 21.5740 - mae: 4.1174\n",
            "Epoch 250/500\n",
            "2/2 [==============================] - 0s 8ms/step - loss: 21.4871 - mae: 4.0370\n",
            "Epoch 251/500\n",
            "2/2 [==============================] - 0s 7ms/step - loss: 21.4431 - mae: 3.9646\n",
            "Epoch 252/500\n",
            "2/2 [==============================] - 0s 7ms/step - loss: 21.3742 - mae: 3.9277\n",
            "Epoch 253/500\n",
            "2/2 [==============================] - 0s 7ms/step - loss: 21.1863 - mae: 3.9167\n",
            "Epoch 254/500\n",
            "2/2 [==============================] - 0s 7ms/step - loss: 20.9499 - mae: 3.9618\n",
            "Epoch 255/500\n",
            "2/2 [==============================] - 0s 8ms/step - loss: 20.6018 - mae: 4.0101\n",
            "Epoch 256/500\n",
            "2/2 [==============================] - 0s 7ms/step - loss: 20.3595 - mae: 4.0647\n",
            "Epoch 257/500\n",
            "2/2 [==============================] - 0s 7ms/step - loss: 20.2469 - mae: 4.1535\n",
            "Epoch 258/500\n",
            "2/2 [==============================] - 0s 6ms/step - loss: 20.3157 - mae: 4.2547\n",
            "Epoch 259/500\n",
            "2/2 [==============================] - 0s 8ms/step - loss: 20.2498 - mae: 4.2856\n",
            "Epoch 260/500\n",
            "2/2 [==============================] - 0s 7ms/step - loss: 19.9757 - mae: 4.2359\n",
            "Epoch 261/500\n",
            "2/2 [==============================] - 0s 7ms/step - loss: 19.8597 - mae: 4.1377\n",
            "Epoch 262/500\n",
            "2/2 [==============================] - 0s 8ms/step - loss: 19.4836 - mae: 4.0027\n",
            "Epoch 263/500\n",
            "2/2 [==============================] - 0s 10ms/step - loss: 19.2735 - mae: 3.9694\n",
            "Epoch 264/500\n",
            "2/2 [==============================] - 0s 7ms/step - loss: 19.1018 - mae: 3.9749\n",
            "Epoch 265/500\n",
            "2/2 [==============================] - 0s 7ms/step - loss: 18.9291 - mae: 4.0042\n",
            "Epoch 266/500\n",
            "2/2 [==============================] - 0s 7ms/step - loss: 18.9016 - mae: 4.0734\n",
            "Epoch 267/500\n",
            "2/2 [==============================] - 0s 7ms/step - loss: 18.8612 - mae: 4.1197\n",
            "Epoch 268/500\n",
            "2/2 [==============================] - 0s 9ms/step - loss: 18.6852 - mae: 4.0999\n",
            "Epoch 269/500\n",
            "2/2 [==============================] - 0s 10ms/step - loss: 18.3727 - mae: 4.0170\n",
            "Epoch 270/500\n",
            "2/2 [==============================] - 0s 7ms/step - loss: 18.2017 - mae: 3.9021\n",
            "Epoch 271/500\n",
            "2/2 [==============================] - 0s 7ms/step - loss: 17.9817 - mae: 3.7725\n",
            "Epoch 272/500\n",
            "2/2 [==============================] - 0s 7ms/step - loss: 17.9049 - mae: 3.7043\n",
            "Epoch 273/500\n",
            "2/2 [==============================] - 0s 7ms/step - loss: 17.7721 - mae: 3.6637\n",
            "Epoch 274/500\n",
            "2/2 [==============================] - 0s 9ms/step - loss: 17.6560 - mae: 3.6854\n",
            "Epoch 275/500\n",
            "2/2 [==============================] - 0s 6ms/step - loss: 17.4179 - mae: 3.6687\n",
            "Epoch 276/500\n",
            "2/2 [==============================] - 0s 12ms/step - loss: 17.2963 - mae: 3.6382\n",
            "Epoch 277/500\n",
            "2/2 [==============================] - 0s 7ms/step - loss: 17.1064 - mae: 3.6359\n",
            "Epoch 278/500\n",
            "2/2 [==============================] - 0s 7ms/step - loss: 16.9609 - mae: 3.6921\n",
            "Epoch 279/500\n",
            "2/2 [==============================] - 0s 8ms/step - loss: 16.7981 - mae: 3.7439\n",
            "Epoch 280/500\n",
            "2/2 [==============================] - 0s 7ms/step - loss: 16.6398 - mae: 3.7443\n",
            "Epoch 281/500\n",
            "2/2 [==============================] - 0s 7ms/step - loss: 16.4920 - mae: 3.7203\n",
            "Epoch 282/500\n",
            "2/2 [==============================] - 0s 9ms/step - loss: 16.3445 - mae: 3.6833\n",
            "Epoch 283/500\n",
            "2/2 [==============================] - 0s 7ms/step - loss: 16.1969 - mae: 3.6434\n",
            "Epoch 284/500\n",
            "2/2 [==============================] - 0s 8ms/step - loss: 16.0559 - mae: 3.6076\n",
            "Epoch 285/500\n",
            "2/2 [==============================] - 0s 6ms/step - loss: 15.9227 - mae: 3.5689\n",
            "Epoch 286/500\n",
            "2/2 [==============================] - 0s 7ms/step - loss: 15.8010 - mae: 3.5202\n",
            "Epoch 287/500\n",
            "2/2 [==============================] - 0s 8ms/step - loss: 15.7309 - mae: 3.4600\n",
            "Epoch 288/500\n",
            "2/2 [==============================] - 0s 7ms/step - loss: 15.6282 - mae: 3.4227\n",
            "Epoch 289/500\n",
            "2/2 [==============================] - 0s 7ms/step - loss: 15.4708 - mae: 3.4143\n",
            "Epoch 290/500\n",
            "2/2 [==============================] - 0s 8ms/step - loss: 15.3219 - mae: 3.4293\n",
            "Epoch 291/500\n",
            "2/2 [==============================] - 0s 8ms/step - loss: 15.1177 - mae: 3.4483\n",
            "Epoch 292/500\n",
            "2/2 [==============================] - 0s 8ms/step - loss: 15.0241 - mae: 3.4802\n",
            "Epoch 293/500\n",
            "2/2 [==============================] - 0s 9ms/step - loss: 14.8285 - mae: 3.4750\n",
            "Epoch 294/500\n",
            "2/2 [==============================] - 0s 7ms/step - loss: 14.7034 - mae: 3.4265\n",
            "Epoch 295/500\n",
            "2/2 [==============================] - 0s 10ms/step - loss: 14.6055 - mae: 3.3709\n",
            "Epoch 296/500\n",
            "2/2 [==============================] - 0s 7ms/step - loss: 14.4920 - mae: 3.3382\n",
            "Epoch 297/500\n",
            "2/2 [==============================] - 0s 7ms/step - loss: 14.3559 - mae: 3.3299\n",
            "Epoch 298/500\n",
            "2/2 [==============================] - 0s 10ms/step - loss: 14.2131 - mae: 3.3414\n",
            "Epoch 299/500\n",
            "2/2 [==============================] - 0s 9ms/step - loss: 14.0766 - mae: 3.3555\n",
            "Epoch 300/500\n",
            "2/2 [==============================] - 0s 7ms/step - loss: 13.9261 - mae: 3.3335\n",
            "Epoch 301/500\n",
            "2/2 [==============================] - 0s 7ms/step - loss: 13.9001 - mae: 3.2748\n",
            "Epoch 302/500\n",
            "2/2 [==============================] - 0s 9ms/step - loss: 13.7453 - mae: 3.2341\n",
            "Epoch 303/500\n",
            "2/2 [==============================] - 0s 9ms/step - loss: 13.5611 - mae: 3.2522\n",
            "Epoch 304/500\n",
            "2/2 [==============================] - 0s 11ms/step - loss: 13.3700 - mae: 3.2813\n",
            "Epoch 305/500\n",
            "2/2 [==============================] - 0s 8ms/step - loss: 13.3221 - mae: 3.3763\n",
            "Epoch 306/500\n",
            "2/2 [==============================] - 0s 7ms/step - loss: 13.2960 - mae: 3.4534\n",
            "Epoch 307/500\n",
            "2/2 [==============================] - 0s 7ms/step - loss: 13.2656 - mae: 3.4822\n",
            "Epoch 308/500\n",
            "2/2 [==============================] - 0s 6ms/step - loss: 13.1632 - mae: 3.4766\n",
            "Epoch 309/500\n",
            "2/2 [==============================] - 0s 6ms/step - loss: 12.9756 - mae: 3.4368\n",
            "Epoch 310/500\n",
            "2/2 [==============================] - 0s 11ms/step - loss: 12.7336 - mae: 3.3569\n",
            "Epoch 311/500\n",
            "2/2 [==============================] - 0s 7ms/step - loss: 12.4727 - mae: 3.2415\n",
            "Epoch 312/500\n",
            "2/2 [==============================] - 0s 8ms/step - loss: 12.3816 - mae: 3.1216\n",
            "Epoch 313/500\n",
            "2/2 [==============================] - 0s 7ms/step - loss: 12.4667 - mae: 3.0200\n",
            "Epoch 314/500\n",
            "2/2 [==============================] - 0s 7ms/step - loss: 12.3432 - mae: 2.9766\n",
            "Epoch 315/500\n",
            "2/2 [==============================] - 0s 7ms/step - loss: 12.1094 - mae: 2.9995\n",
            "Epoch 316/500\n",
            "2/2 [==============================] - 0s 8ms/step - loss: 11.9521 - mae: 3.0859\n",
            "Epoch 317/500\n",
            "2/2 [==============================] - 0s 7ms/step - loss: 11.7551 - mae: 3.1233\n",
            "Epoch 318/500\n",
            "2/2 [==============================] - 0s 7ms/step - loss: 11.6860 - mae: 3.1590\n",
            "Epoch 319/500\n",
            "2/2 [==============================] - 0s 7ms/step - loss: 11.5821 - mae: 3.1732\n",
            "Epoch 320/500\n",
            "2/2 [==============================] - 0s 7ms/step - loss: 11.4692 - mae: 3.1622\n",
            "Epoch 321/500\n",
            "2/2 [==============================] - 0s 7ms/step - loss: 11.3645 - mae: 3.1413\n",
            "Epoch 322/500\n",
            "2/2 [==============================] - 0s 10ms/step - loss: 11.2221 - mae: 3.1193\n",
            "Epoch 323/500\n",
            "2/2 [==============================] - 0s 8ms/step - loss: 11.1086 - mae: 3.1081\n",
            "Epoch 324/500\n",
            "2/2 [==============================] - 0s 10ms/step - loss: 10.9675 - mae: 3.0726\n",
            "Epoch 325/500\n",
            "2/2 [==============================] - 0s 7ms/step - loss: 10.8614 - mae: 3.0044\n",
            "Epoch 326/500\n",
            "2/2 [==============================] - 0s 8ms/step - loss: 10.7184 - mae: 2.9321\n",
            "Epoch 327/500\n",
            "2/2 [==============================] - 0s 6ms/step - loss: 10.6221 - mae: 2.8942\n",
            "Epoch 328/500\n",
            "2/2 [==============================] - 0s 8ms/step - loss: 10.5008 - mae: 2.8745\n",
            "Epoch 329/500\n",
            "2/2 [==============================] - 0s 8ms/step - loss: 10.3617 - mae: 2.8919\n",
            "Epoch 330/500\n",
            "2/2 [==============================] - 0s 6ms/step - loss: 10.2779 - mae: 2.9442\n",
            "Epoch 331/500\n",
            "2/2 [==============================] - 0s 8ms/step - loss: 10.2013 - mae: 2.9729\n",
            "Epoch 332/500\n",
            "2/2 [==============================] - 0s 6ms/step - loss: 10.0759 - mae: 2.9428\n",
            "Epoch 333/500\n",
            "2/2 [==============================] - 0s 9ms/step - loss: 9.9360 - mae: 2.8911\n",
            "Epoch 334/500\n",
            "2/2 [==============================] - 0s 7ms/step - loss: 9.8238 - mae: 2.8535\n",
            "Epoch 335/500\n",
            "2/2 [==============================] - 0s 7ms/step - loss: 9.7331 - mae: 2.8411\n",
            "Epoch 336/500\n",
            "2/2 [==============================] - 0s 8ms/step - loss: 9.6074 - mae: 2.7996\n",
            "Epoch 337/500\n",
            "2/2 [==============================] - 0s 7ms/step - loss: 9.5451 - mae: 2.7516\n",
            "Epoch 338/500\n",
            "2/2 [==============================] - 0s 8ms/step - loss: 9.3718 - mae: 2.7455\n",
            "Epoch 339/500\n",
            "2/2 [==============================] - 0s 9ms/step - loss: 9.2732 - mae: 2.8111\n",
            "Epoch 340/500\n",
            "2/2 [==============================] - 0s 8ms/step - loss: 9.3077 - mae: 2.9009\n",
            "Epoch 341/500\n",
            "2/2 [==============================] - 0s 7ms/step - loss: 9.3341 - mae: 2.9462\n",
            "Epoch 342/500\n",
            "2/2 [==============================] - 0s 8ms/step - loss: 9.2680 - mae: 2.9404\n",
            "Epoch 343/500\n",
            "2/2 [==============================] - 0s 7ms/step - loss: 9.0996 - mae: 2.9006\n",
            "Epoch 344/500\n",
            "2/2 [==============================] - 0s 9ms/step - loss: 8.9591 - mae: 2.8683\n",
            "Epoch 345/500\n",
            "2/2 [==============================] - 0s 10ms/step - loss: 8.7294 - mae: 2.7729\n",
            "Epoch 346/500\n",
            "2/2 [==============================] - 0s 7ms/step - loss: 8.5679 - mae: 2.6172\n",
            "Epoch 347/500\n",
            "2/2 [==============================] - 0s 7ms/step - loss: 8.5429 - mae: 2.5135\n",
            "Epoch 348/500\n",
            "2/2 [==============================] - 0s 7ms/step - loss: 8.5045 - mae: 2.4716\n",
            "Epoch 349/500\n",
            "2/2 [==============================] - 0s 8ms/step - loss: 8.3997 - mae: 2.4643\n",
            "Epoch 350/500\n",
            "2/2 [==============================] - 0s 8ms/step - loss: 8.2767 - mae: 2.4906\n",
            "Epoch 351/500\n",
            "2/2 [==============================] - 0s 10ms/step - loss: 8.1293 - mae: 2.4924\n",
            "Epoch 352/500\n",
            "2/2 [==============================] - 0s 9ms/step - loss: 8.0278 - mae: 2.4759\n",
            "Epoch 353/500\n",
            "2/2 [==============================] - 0s 7ms/step - loss: 7.9320 - mae: 2.4640\n",
            "Epoch 354/500\n",
            "2/2 [==============================] - 0s 8ms/step - loss: 7.8015 - mae: 2.4841\n",
            "Epoch 355/500\n",
            "2/2 [==============================] - 0s 8ms/step - loss: 7.6974 - mae: 2.5390\n",
            "Epoch 356/500\n",
            "2/2 [==============================] - 0s 8ms/step - loss: 7.7436 - mae: 2.6303\n",
            "Epoch 357/500\n",
            "2/2 [==============================] - 0s 6ms/step - loss: 7.6784 - mae: 2.6469\n",
            "Epoch 358/500\n",
            "2/2 [==============================] - 0s 8ms/step - loss: 7.5047 - mae: 2.5794\n",
            "Epoch 359/500\n",
            "2/2 [==============================] - 0s 8ms/step - loss: 7.3315 - mae: 2.4590\n",
            "Epoch 360/500\n",
            "2/2 [==============================] - 0s 7ms/step - loss: 7.3492 - mae: 2.3513\n",
            "Epoch 361/500\n",
            "2/2 [==============================] - 0s 7ms/step - loss: 7.3692 - mae: 2.2834\n",
            "Epoch 362/500\n",
            "2/2 [==============================] - 0s 7ms/step - loss: 7.3260 - mae: 2.2610\n",
            "Epoch 363/500\n",
            "2/2 [==============================] - 0s 10ms/step - loss: 7.1946 - mae: 2.2620\n",
            "Epoch 364/500\n",
            "2/2 [==============================] - 0s 8ms/step - loss: 7.0046 - mae: 2.2833\n",
            "Epoch 365/500\n",
            "2/2 [==============================] - 0s 8ms/step - loss: 6.8448 - mae: 2.3402\n",
            "Epoch 366/500\n",
            "2/2 [==============================] - 0s 7ms/step - loss: 6.8920 - mae: 2.4561\n",
            "Epoch 367/500\n",
            "2/2 [==============================] - 0s 7ms/step - loss: 6.8064 - mae: 2.4778\n",
            "Epoch 368/500\n",
            "2/2 [==============================] - 0s 7ms/step - loss: 6.7016 - mae: 2.4302\n",
            "Epoch 369/500\n",
            "2/2 [==============================] - 0s 14ms/step - loss: 6.5594 - mae: 2.3534\n",
            "Epoch 370/500\n",
            "2/2 [==============================] - 0s 9ms/step - loss: 6.4803 - mae: 2.2955\n",
            "Epoch 371/500\n",
            "2/2 [==============================] - 0s 10ms/step - loss: 6.4050 - mae: 2.2562\n",
            "Epoch 372/500\n",
            "2/2 [==============================] - 0s 11ms/step - loss: 6.3284 - mae: 2.2502\n",
            "Epoch 373/500\n",
            "2/2 [==============================] - 0s 7ms/step - loss: 6.2414 - mae: 2.2495\n",
            "Epoch 374/500\n",
            "2/2 [==============================] - 0s 7ms/step - loss: 6.1623 - mae: 2.2367\n",
            "Epoch 375/500\n",
            "2/2 [==============================] - 0s 10ms/step - loss: 6.0794 - mae: 2.2285\n",
            "Epoch 376/500\n",
            "2/2 [==============================] - 0s 10ms/step - loss: 5.9984 - mae: 2.2391\n",
            "Epoch 377/500\n",
            "2/2 [==============================] - 0s 10ms/step - loss: 5.9785 - mae: 2.2758\n",
            "Epoch 378/500\n",
            "2/2 [==============================] - 0s 10ms/step - loss: 5.8782 - mae: 2.2667\n",
            "Epoch 379/500\n",
            "2/2 [==============================] - 0s 7ms/step - loss: 5.7773 - mae: 2.2065\n",
            "Epoch 380/500\n",
            "2/2 [==============================] - 0s 9ms/step - loss: 5.7090 - mae: 2.1403\n",
            "Epoch 381/500\n",
            "2/2 [==============================] - 0s 8ms/step - loss: 5.6573 - mae: 2.0859\n",
            "Epoch 382/500\n",
            "2/2 [==============================] - 0s 8ms/step - loss: 5.5919 - mae: 2.0709\n",
            "Epoch 383/500\n",
            "2/2 [==============================] - 0s 8ms/step - loss: 5.4994 - mae: 2.0690\n",
            "Epoch 384/500\n",
            "2/2 [==============================] - 0s 7ms/step - loss: 5.4130 - mae: 2.0715\n",
            "Epoch 385/500\n",
            "2/2 [==============================] - 0s 10ms/step - loss: 5.3381 - mae: 2.1045\n",
            "Epoch 386/500\n",
            "2/2 [==============================] - 0s 10ms/step - loss: 5.2884 - mae: 2.1419\n",
            "Epoch 387/500\n",
            "2/2 [==============================] - 0s 7ms/step - loss: 5.2483 - mae: 2.1606\n",
            "Epoch 388/500\n",
            "2/2 [==============================] - 0s 7ms/step - loss: 5.1705 - mae: 2.1405\n",
            "Epoch 389/500\n",
            "2/2 [==============================] - 0s 8ms/step - loss: 5.0658 - mae: 2.0913\n",
            "Epoch 390/500\n",
            "2/2 [==============================] - 0s 7ms/step - loss: 4.9893 - mae: 2.0101\n",
            "Epoch 391/500\n",
            "2/2 [==============================] - 0s 9ms/step - loss: 4.9776 - mae: 1.9119\n",
            "Epoch 392/500\n",
            "2/2 [==============================] - 0s 9ms/step - loss: 4.9954 - mae: 1.8763\n",
            "Epoch 393/500\n",
            "2/2 [==============================] - 0s 7ms/step - loss: 4.8994 - mae: 1.8704\n",
            "Epoch 394/500\n",
            "2/2 [==============================] - 0s 7ms/step - loss: 4.7648 - mae: 1.9149\n",
            "Epoch 395/500\n",
            "2/2 [==============================] - 0s 7ms/step - loss: 4.6654 - mae: 1.9623\n",
            "Epoch 396/500\n",
            "2/2 [==============================] - 0s 7ms/step - loss: 4.6090 - mae: 1.9937\n",
            "Epoch 397/500\n",
            "2/2 [==============================] - 0s 8ms/step - loss: 4.6002 - mae: 2.0283\n",
            "Epoch 398/500\n",
            "2/2 [==============================] - 0s 9ms/step - loss: 4.5409 - mae: 2.0239\n",
            "Epoch 399/500\n",
            "2/2 [==============================] - 0s 8ms/step - loss: 4.4417 - mae: 1.9776\n",
            "Epoch 400/500\n",
            "2/2 [==============================] - 0s 8ms/step - loss: 4.3536 - mae: 1.9104\n",
            "Epoch 401/500\n",
            "2/2 [==============================] - 0s 8ms/step - loss: 4.2968 - mae: 1.8238\n",
            "Epoch 402/500\n",
            "2/2 [==============================] - 0s 10ms/step - loss: 4.3523 - mae: 1.7675\n",
            "Epoch 403/500\n",
            "2/2 [==============================] - 0s 10ms/step - loss: 4.3333 - mae: 1.7415\n",
            "Epoch 404/500\n",
            "2/2 [==============================] - 0s 11ms/step - loss: 4.2254 - mae: 1.7274\n",
            "Epoch 405/500\n",
            "2/2 [==============================] - 0s 9ms/step - loss: 4.1303 - mae: 1.7414\n",
            "Epoch 406/500\n",
            "2/2 [==============================] - 0s 9ms/step - loss: 4.0267 - mae: 1.7740\n",
            "Epoch 407/500\n",
            "2/2 [==============================] - 0s 7ms/step - loss: 3.9633 - mae: 1.8165\n",
            "Epoch 408/500\n",
            "2/2 [==============================] - 0s 9ms/step - loss: 3.9453 - mae: 1.8494\n",
            "Epoch 409/500\n",
            "2/2 [==============================] - 0s 8ms/step - loss: 3.8537 - mae: 1.8205\n",
            "Epoch 410/500\n",
            "2/2 [==============================] - 0s 12ms/step - loss: 3.7911 - mae: 1.7422\n",
            "Epoch 411/500\n",
            "2/2 [==============================] - 0s 12ms/step - loss: 3.8025 - mae: 1.6634\n",
            "Epoch 412/500\n",
            "2/2 [==============================] - 0s 8ms/step - loss: 3.8330 - mae: 1.6278\n",
            "Epoch 413/500\n",
            "2/2 [==============================] - 0s 10ms/step - loss: 3.8192 - mae: 1.6175\n",
            "Epoch 414/500\n",
            "2/2 [==============================] - 0s 10ms/step - loss: 3.7382 - mae: 1.6111\n",
            "Epoch 415/500\n",
            "2/2 [==============================] - 0s 8ms/step - loss: 3.5917 - mae: 1.6128\n",
            "Epoch 416/500\n",
            "2/2 [==============================] - 0s 9ms/step - loss: 3.5040 - mae: 1.6856\n",
            "Epoch 417/500\n",
            "2/2 [==============================] - 0s 9ms/step - loss: 3.5048 - mae: 1.7655\n",
            "Epoch 418/500\n",
            "2/2 [==============================] - 0s 8ms/step - loss: 3.4826 - mae: 1.7910\n",
            "Epoch 419/500\n",
            "2/2 [==============================] - 0s 8ms/step - loss: 3.4113 - mae: 1.7627\n",
            "Epoch 420/500\n",
            "2/2 [==============================] - 0s 6ms/step - loss: 3.3338 - mae: 1.6955\n",
            "Epoch 421/500\n",
            "2/2 [==============================] - 0s 8ms/step - loss: 3.2784 - mae: 1.6152\n",
            "Epoch 422/500\n",
            "2/2 [==============================] - 0s 8ms/step - loss: 3.2305 - mae: 1.5764\n",
            "Epoch 423/500\n",
            "2/2 [==============================] - 0s 10ms/step - loss: 3.1794 - mae: 1.5658\n",
            "Epoch 424/500\n",
            "2/2 [==============================] - 0s 7ms/step - loss: 3.1322 - mae: 1.5636\n",
            "Epoch 425/500\n",
            "2/2 [==============================] - 0s 7ms/step - loss: 3.0791 - mae: 1.5594\n",
            "Epoch 426/500\n",
            "2/2 [==============================] - 0s 7ms/step - loss: 3.0297 - mae: 1.5556\n",
            "Epoch 427/500\n",
            "2/2 [==============================] - 0s 8ms/step - loss: 2.9803 - mae: 1.5740\n",
            "Epoch 428/500\n",
            "2/2 [==============================] - 0s 7ms/step - loss: 2.9620 - mae: 1.6125\n",
            "Epoch 429/500\n",
            "2/2 [==============================] - 0s 10ms/step - loss: 2.9218 - mae: 1.6126\n",
            "Epoch 430/500\n",
            "2/2 [==============================] - 0s 13ms/step - loss: 2.8471 - mae: 1.5561\n",
            "Epoch 431/500\n",
            "2/2 [==============================] - 0s 8ms/step - loss: 2.8115 - mae: 1.4758\n",
            "Epoch 432/500\n",
            "2/2 [==============================] - 0s 9ms/step - loss: 2.8248 - mae: 1.4234\n",
            "Epoch 433/500\n",
            "2/2 [==============================] - 0s 9ms/step - loss: 2.8031 - mae: 1.4027\n",
            "Epoch 434/500\n",
            "2/2 [==============================] - 0s 7ms/step - loss: 2.7312 - mae: 1.4037\n",
            "Epoch 435/500\n",
            "2/2 [==============================] - 0s 6ms/step - loss: 2.6827 - mae: 1.4413\n",
            "Epoch 436/500\n",
            "2/2 [==============================] - 0s 8ms/step - loss: 2.6121 - mae: 1.4503\n",
            "Epoch 437/500\n",
            "2/2 [==============================] - 0s 8ms/step - loss: 2.5710 - mae: 1.4412\n",
            "Epoch 438/500\n",
            "2/2 [==============================] - 0s 9ms/step - loss: 2.5378 - mae: 1.4248\n",
            "Epoch 439/500\n",
            "2/2 [==============================] - 0s 7ms/step - loss: 2.5008 - mae: 1.3949\n",
            "Epoch 440/500\n",
            "2/2 [==============================] - 0s 7ms/step - loss: 2.4815 - mae: 1.3537\n",
            "Epoch 441/500\n",
            "2/2 [==============================] - 0s 8ms/step - loss: 2.4807 - mae: 1.3219\n",
            "Epoch 442/500\n",
            "2/2 [==============================] - 0s 7ms/step - loss: 2.4781 - mae: 1.3083\n",
            "Epoch 443/500\n",
            "2/2 [==============================] - 0s 7ms/step - loss: 2.4225 - mae: 1.3031\n",
            "Epoch 444/500\n",
            "2/2 [==============================] - 0s 7ms/step - loss: 2.3298 - mae: 1.3219\n",
            "Epoch 445/500\n",
            "2/2 [==============================] - 0s 11ms/step - loss: 2.2980 - mae: 1.3913\n",
            "Epoch 446/500\n",
            "2/2 [==============================] - 0s 7ms/step - loss: 2.2730 - mae: 1.4295\n",
            "Epoch 447/500\n",
            "2/2 [==============================] - 0s 8ms/step - loss: 2.2656 - mae: 1.4469\n",
            "Epoch 448/500\n",
            "2/2 [==============================] - 0s 7ms/step - loss: 2.2554 - mae: 1.4559\n",
            "Epoch 449/500\n",
            "2/2 [==============================] - 0s 7ms/step - loss: 2.1971 - mae: 1.4285\n",
            "Epoch 450/500\n",
            "2/2 [==============================] - 0s 7ms/step - loss: 2.1167 - mae: 1.3611\n",
            "Epoch 451/500\n",
            "2/2 [==============================] - 0s 7ms/step - loss: 2.0644 - mae: 1.2734\n",
            "Epoch 452/500\n",
            "2/2 [==============================] - 0s 7ms/step - loss: 2.0793 - mae: 1.2101\n",
            "Epoch 453/500\n",
            "2/2 [==============================] - 0s 7ms/step - loss: 2.1240 - mae: 1.2025\n",
            "Epoch 454/500\n",
            "2/2 [==============================] - 0s 7ms/step - loss: 2.0840 - mae: 1.1919\n",
            "Epoch 455/500\n",
            "2/2 [==============================] - 0s 7ms/step - loss: 1.9867 - mae: 1.1942\n",
            "Epoch 456/500\n",
            "2/2 [==============================] - 0s 7ms/step - loss: 1.9275 - mae: 1.2452\n",
            "Epoch 457/500\n",
            "2/2 [==============================] - 0s 8ms/step - loss: 1.8876 - mae: 1.2757\n",
            "Epoch 458/500\n",
            "2/2 [==============================] - 0s 10ms/step - loss: 1.8782 - mae: 1.2922\n",
            "Epoch 459/500\n",
            "2/2 [==============================] - 0s 7ms/step - loss: 1.8387 - mae: 1.2684\n",
            "Epoch 460/500\n",
            "2/2 [==============================] - 0s 7ms/step - loss: 1.7947 - mae: 1.2225\n",
            "Epoch 461/500\n",
            "2/2 [==============================] - 0s 7ms/step - loss: 1.7663 - mae: 1.1858\n",
            "Epoch 462/500\n",
            "2/2 [==============================] - 0s 7ms/step - loss: 1.7501 - mae: 1.1507\n",
            "Epoch 463/500\n",
            "2/2 [==============================] - 0s 8ms/step - loss: 1.7215 - mae: 1.1353\n",
            "Epoch 464/500\n",
            "2/2 [==============================] - 0s 7ms/step - loss: 1.6786 - mae: 1.1456\n",
            "Epoch 465/500\n",
            "2/2 [==============================] - 0s 7ms/step - loss: 1.6431 - mae: 1.1784\n",
            "Epoch 466/500\n",
            "2/2 [==============================] - 0s 7ms/step - loss: 1.6576 - mae: 1.2321\n",
            "Epoch 467/500\n",
            "2/2 [==============================] - 0s 8ms/step - loss: 1.6536 - mae: 1.2483\n",
            "Epoch 468/500\n",
            "2/2 [==============================] - 0s 7ms/step - loss: 1.6050 - mae: 1.2186\n",
            "Epoch 469/500\n",
            "2/2 [==============================] - 0s 8ms/step - loss: 1.5453 - mae: 1.1602\n",
            "Epoch 470/500\n",
            "2/2 [==============================] - 0s 10ms/step - loss: 1.5218 - mae: 1.0911\n",
            "Epoch 471/500\n",
            "2/2 [==============================] - 0s 10ms/step - loss: 1.5033 - mae: 1.0509\n",
            "Epoch 472/500\n",
            "2/2 [==============================] - 0s 10ms/step - loss: 1.4812 - mae: 1.0362\n",
            "Epoch 473/500\n",
            "2/2 [==============================] - 0s 7ms/step - loss: 1.4479 - mae: 1.0383\n",
            "Epoch 474/500\n",
            "2/2 [==============================] - 0s 10ms/step - loss: 1.4166 - mae: 1.0620\n",
            "Epoch 475/500\n",
            "2/2 [==============================] - 0s 9ms/step - loss: 1.3828 - mae: 1.0738\n",
            "Epoch 476/500\n",
            "2/2 [==============================] - 0s 8ms/step - loss: 1.3666 - mae: 1.0863\n",
            "Epoch 477/500\n",
            "2/2 [==============================] - 0s 11ms/step - loss: 1.3429 - mae: 1.0845\n",
            "Epoch 478/500\n",
            "2/2 [==============================] - 0s 7ms/step - loss: 1.3185 - mae: 1.0592\n",
            "Epoch 479/500\n",
            "2/2 [==============================] - 0s 7ms/step - loss: 1.2888 - mae: 1.0265\n",
            "Epoch 480/500\n",
            "2/2 [==============================] - 0s 7ms/step - loss: 1.2663 - mae: 1.0066\n",
            "Epoch 481/500\n",
            "2/2 [==============================] - 0s 7ms/step - loss: 1.2474 - mae: 0.9828\n",
            "Epoch 482/500\n",
            "2/2 [==============================] - 0s 8ms/step - loss: 1.2296 - mae: 0.9642\n",
            "Epoch 483/500\n",
            "2/2 [==============================] - 0s 9ms/step - loss: 1.2081 - mae: 0.9720\n",
            "Epoch 484/500\n",
            "2/2 [==============================] - 0s 7ms/step - loss: 1.1775 - mae: 0.9772\n",
            "Epoch 485/500\n",
            "2/2 [==============================] - 0s 7ms/step - loss: 1.1647 - mae: 0.9989\n",
            "Epoch 486/500\n",
            "2/2 [==============================] - 0s 7ms/step - loss: 1.1462 - mae: 1.0118\n",
            "Epoch 487/500\n",
            "2/2 [==============================] - 0s 7ms/step - loss: 1.1293 - mae: 1.0095\n",
            "Epoch 488/500\n",
            "2/2 [==============================] - 0s 8ms/step - loss: 1.1084 - mae: 0.9947\n",
            "Epoch 489/500\n",
            "2/2 [==============================] - 0s 9ms/step - loss: 1.0764 - mae: 0.9650\n",
            "Epoch 490/500\n",
            "2/2 [==============================] - 0s 8ms/step - loss: 1.0537 - mae: 0.9498\n",
            "Epoch 491/500\n",
            "2/2 [==============================] - 0s 8ms/step - loss: 1.0326 - mae: 0.9381\n",
            "Epoch 492/500\n",
            "2/2 [==============================] - 0s 7ms/step - loss: 1.0122 - mae: 0.9203\n",
            "Epoch 493/500\n",
            "2/2 [==============================] - 0s 7ms/step - loss: 0.9924 - mae: 0.9026\n",
            "Epoch 494/500\n",
            "2/2 [==============================] - 0s 10ms/step - loss: 0.9763 - mae: 0.8833\n",
            "Epoch 495/500\n",
            "2/2 [==============================] - 0s 14ms/step - loss: 0.9558 - mae: 0.8663\n",
            "Epoch 496/500\n",
            "2/2 [==============================] - 0s 8ms/step - loss: 0.9347 - mae: 0.8704\n",
            "Epoch 497/500\n",
            "2/2 [==============================] - 0s 8ms/step - loss: 0.9239 - mae: 0.8852\n",
            "Epoch 498/500\n",
            "2/2 [==============================] - 0s 8ms/step - loss: 0.9014 - mae: 0.8778\n",
            "Epoch 499/500\n",
            "2/2 [==============================] - 0s 11ms/step - loss: 0.8818 - mae: 0.8569\n",
            "Epoch 500/500\n",
            "2/2 [==============================] - 0s 10ms/step - loss: 0.8644 - mae: 0.8269\n"
          ]
        },
        {
          "output_type": "execute_result",
          "data": {
            "text/plain": [
              "<keras.src.callbacks.History at 0x7cfaf8be7940>"
            ]
          },
          "metadata": {},
          "execution_count": 65
        }
      ]
    },
    {
      "cell_type": "code",
      "source": [
        "y_pred3 = model_3.predict([X_test])\n",
        "plot_predictions(X_train,y_train,X_test,y_test,y_pred3)"
      ],
      "metadata": {
        "colab": {
          "base_uri": "https://localhost:8080/",
          "height": 462
        },
        "id": "bap9CVdgRdjQ",
        "outputId": "508039c0-cf23-4663-d320-0ee5ce9286af"
      },
      "execution_count": 66,
      "outputs": [
        {
          "output_type": "stream",
          "name": "stdout",
          "text": [
            "1/1 [==============================] - 0s 62ms/step\n"
          ]
        },
        {
          "output_type": "display_data",
          "data": {
            "text/plain": [
              "<Figure size 500x500 with 1 Axes>"
            ],
            "image/png": "[encoded data removed]"
          },
          "metadata": {}
        }
      ]
    },
    {
      "cell_type": "markdown",
      "source": [
        "### Comparing the results of our experiments\n",
        "We've run a few experiments, let's compare the results."
      ],
      "metadata": {
        "id": "LaKHp1_KRyQ_"
      }
    },
    {
      "cell_type": "code",
      "source": [
        "mae_3 =  tf.metrics.mean_absolute_error(y_test,tf.squeeze(tf.constant(y_pred3)))\n",
        "mse_3 =  tf.metrics.mean_squared_error(y_test,tf.squeeze(tf.constant(y_pred3)))"
      ],
      "metadata": {
        "id": "TQirBYorWRzI"
      },
      "execution_count": 71,
      "outputs": []
    },
    {
      "cell_type": "code",
      "source": [
        "import pandas as pd\n",
        "model_results = [[\"model_1\",mae_1.numpy(),mse_1.numpy()],[\"model_2\",mae_2.numpy(),mse_2.numpy()],[\"model_3\",mae_3.numpy(),mse_1.numpy()]]\n",
        "model_results = pd.DataFrame(model_results,columns=[\"Models\",\"MAE\",'MSE'])\n",
        "model_results\n"
      ],
      "metadata": {
        "colab": {
          "base_uri": "https://localhost:8080/",
          "height": 143
        },
        "id": "KWfwzW5mVPQz",
        "outputId": "00f4544b-0661-4859-b8f6-994636aeb751"
      },
      "execution_count": 72,
      "outputs": [
        {
          "output_type": "execute_result",
          "data": {
            "text/plain": [
              "    Models        MAE         MSE\n",
              "0  model_1  30.698965  952.922852\n",
              "1  model_2  18.462772  342.587433\n",
              "2  model_3   1.829445  952.922852"
            ],
            "text/html": [
              "\n",
              "  <div id=\"df-9e99c8a2-7468-4f8c-a644-37e6d0729c6b\" class=\"colab-df-container\">\n",
              "    <div>\n",
              "<style scoped>\n",
              "    .dataframe tbody tr th:only-of-type {\n",
              "        vertical-align: middle;\n",
              "    }\n",
              "\n",
              "    .dataframe tbody tr th {\n",
              "        vertical-align: top;\n",
              "    }\n",
              "\n",
              "    .dataframe thead th {\n",
              "        text-align: right;\n",
              "    }\n",
              "</style>\n",
              "<table border=\"1\" class=\"dataframe\">\n",
              "  <thead>\n",
              "    <tr style=\"text-align: right;\">\n",
              "      <th></th>\n",
              "      <th>Models</th>\n",
              "      <th>MAE</th>\n",
              "      <th>MSE</th>\n",
              "    </tr>\n",
              "  </thead>\n",
              "  <tbody>\n",
              "    <tr>\n",
              "      <th>0</th>\n",
              "      <td>model_1</td>\n",
              "      <td>30.698965</td>\n",
              "      <td>952.922852</td>\n",
              "    </tr>\n",
              "    <tr>\n",
              "      <th>1</th>\n",
              "      <td>model_2</td>\n",
              "      <td>18.462772</td>\n",
              "      <td>342.587433</td>\n",
              "    </tr>\n",
              "    <tr>\n",
              "      <th>2</th>\n",
              "      <td>model_3</td>\n",
              "      <td>1.829445</td>\n",
              "      <td>952.922852</td>\n",
              "    </tr>\n",
              "  </tbody>\n",
              "</table>\n",
              "</div>\n",
              "    <div class=\"colab-df-buttons\">\n",
              "\n",
              "  <div class=\"colab-df-container\">\n",
              "    <button class=\"colab-df-convert\" onclick=\"convertToInteractive('df-9e99c8a2-7468-4f8c-a644-37e6d0729c6b')\"\n",
              "            title=\"Convert this dataframe to an interactive table.\"\n",
              "            style=\"display:none;\">\n",
              "\n",
              "  <svg xmlns=\"http://www.w3.org/2000/svg\" height=\"24px\" viewBox=\"0 -960 960 960\">\n",
              "    <path d=\"M120-120v-720h720v720H120Zm60-500h600v-160H180v160Zm220 220h160v-160H400v160Zm0 220h160v-160H400v160ZM180-400h160v-160H180v160Zm440 0h160v-160H620v160ZM180-180h160v-160H180v160Zm440 0h160v-160H620v160Z\"/>\n",
              "  </svg>\n",
              "    </button>\n",
              "\n",
              "  <style>\n",
              "    .colab-df-container {\n",
              "      display:flex;\n",
              "      gap: 12px;\n",
              "    }\n",
              "\n",
              "    .colab-df-convert {\n",
              "      background-color: #E8F0FE;\n",
              "      border: none;\n",
              "      border-radius: 50%;\n",
              "      cursor: pointer;\n",
              "      display: none;\n",
              "      fill: #1967D2;\n",
              "      height: 32px;\n",
              "      padding: 0 0 0 0;\n",
              "      width: 32px;\n",
              "    }\n",
              "\n",
              "    .colab-df-convert:hover {\n",
              "      background-color: #E2EBFA;\n",
              "      box-shadow: 0px 1px 2px rgba(60, 64, 67, 0.3), 0px 1px 3px 1px rgba(60, 64, 67, 0.15);\n",
              "      fill: #174EA6;\n",
              "    }\n",
              "\n",
              "    .colab-df-buttons div {\n",
              "      margin-bottom: 4px;\n",
              "    }\n",
              "\n",
              "    [theme=dark] .colab-df-convert {\n",
              "      background-color: #3B4455;\n",
              "      fill: #D2E3FC;\n",
              "    }\n",
              "\n",
              "    [theme=dark] .colab-df-convert:hover {\n",
              "      background-color: #434B5C;\n",
              "      box-shadow: 0px 1px 3px 1px rgba(0, 0, 0, 0.15);\n",
              "      filter: drop-shadow(0px 1px 2px rgba(0, 0, 0, 0.3));\n",
              "      fill: #FFFFFF;\n",
              "    }\n",
              "  </style>\n",
              "\n",
              "    <script>\n",
              "      const buttonEl =\n",
              "        document.querySelector('#df-9e99c8a2-7468-4f8c-a644-37e6d0729c6b button.colab-df-convert');\n",
              "      buttonEl.style.display =\n",
              "        google.colab.kernel.accessAllowed ? 'block' : 'none';\n",
              "\n",
              "      async function convertToInteractive(key) {\n",
              "        const element = document.querySelector('#df-9e99c8a2-7468-4f8c-a644-37e6d0729c6b');\n",
              "        const dataTable =\n",
              "          await google.colab.kernel.invokeFunction('convertToInteractive',\n",
              "                                                    [key], {});\n",
              "        if (!dataTable) return;\n",
              "\n",
              "        const docLinkHtml = 'Like what you see? Visit the ' +\n",
              "          '<a target=\"_blank\" href=https://colab.research.google.com/notebooks/data_table.ipynb>data table notebook</a>'\n",
              "          + ' to learn more about interactive tables.';\n",
              "        element.innerHTML = '';\n",
              "        dataTable['output_type'] = 'display_data';\n",
              "        await google.colab.output.renderOutput(dataTable, element);\n",
              "        const docLink = document.createElement('div');\n",
              "        docLink.innerHTML = docLinkHtml;\n",
              "        element.appendChild(docLink);\n",
              "      }\n",
              "    </script>\n",
              "  </div>\n",
              "\n",
              "\n",
              "<div id=\"df-202f26da-29d2-4a95-84be-9d4fe66f4b9a\">\n",
              "  <button class=\"colab-df-quickchart\" onclick=\"quickchart('df-202f26da-29d2-4a95-84be-9d4fe66f4b9a')\"\n",
              "            title=\"Suggest charts\"\n",
              "            style=\"display:none;\">\n",
              "\n",
              "<svg xmlns=\"http://www.w3.org/2000/svg\" height=\"24px\"viewBox=\"0 0 24 24\"\n",
              "     width=\"24px\">\n",
              "    <g>\n",
              "        <path d=\"M19 3H5c-1.1 0-2 .9-2 2v14c0 1.1.9 2 2 2h14c1.1 0 2-.9 2-2V5c0-1.1-.9-2-2-2zM9 17H7v-7h2v7zm4 0h-2V7h2v10zm4 0h-2v-4h2v4z\"/>\n",
              "    </g>\n",
              "</svg>\n",
              "  </button>\n",
              "\n",
              "<style>\n",
              "  .colab-df-quickchart {\n",
              "      --bg-color: #E8F0FE;\n",
              "      --fill-color: #1967D2;\n",
              "      --hover-bg-color: #E2EBFA;\n",
              "      --hover-fill-color: #174EA6;\n",
              "      --disabled-fill-color: #AAA;\n",
              "      --disabled-bg-color: #DDD;\n",
              "  }\n",
              "\n",
              "  [theme=dark] .colab-df-quickchart {\n",
              "      --bg-color: #3B4455;\n",
              "      --fill-color: #D2E3FC;\n",
              "      --hover-bg-color: #434B5C;\n",
              "      --hover-fill-color: #FFFFFF;\n",
              "      --disabled-bg-color: #3B4455;\n",
              "      --disabled-fill-color: #666;\n",
              "  }\n",
              "\n",
              "  .colab-df-quickchart {\n",
              "    background-color: var(--bg-color);\n",
              "    border: none;\n",
              "    border-radius: 50%;\n",
              "    cursor: pointer;\n",
              "    display: none;\n",
              "    fill: var(--fill-color);\n",
              "    height: 32px;\n",
              "    padding: 0;\n",
              "    width: 32px;\n",
              "  }\n",
              "\n",
              "  .colab-df-quickchart:hover {\n",
              "    background-color: var(--hover-bg-color);\n",
              "    box-shadow: 0 1px 2px rgba(60, 64, 67, 0.3), 0 1px 3px 1px rgba(60, 64, 67, 0.15);\n",
              "    fill: var(--button-hover-fill-color);\n",
              "  }\n",
              "\n",
              "  .colab-df-quickchart-complete:disabled,\n",
              "  .colab-df-quickchart-complete:disabled:hover {\n",
              "    background-color: var(--disabled-bg-color);\n",
              "    fill: var(--disabled-fill-color);\n",
              "    box-shadow: none;\n",
              "  }\n",
              "\n",
              "  .colab-df-spinner {\n",
              "    border: 2px solid var(--fill-color);\n",
              "    border-color: transparent;\n",
              "    border-bottom-color: var(--fill-color);\n",
              "    animation:\n",
              "      spin 1s steps(1) infinite;\n",
              "  }\n",
              "\n",
              "  @keyframes spin {\n",
              "    0% {\n",
              "      border-color: transparent;\n",
              "      border-bottom-color: var(--fill-color);\n",
              "      border-left-color: var(--fill-color);\n",
              "    }\n",
              "    20% {\n",
              "      border-color: transparent;\n",
              "      border-left-color: var(--fill-color);\n",
              "      border-top-color: var(--fill-color);\n",
              "    }\n",
              "    30% {\n",
              "      border-color: transparent;\n",
              "      border-left-color: var(--fill-color);\n",
              "      border-top-color: var(--fill-color);\n",
              "      border-right-color: var(--fill-color);\n",
              "    }\n",
              "    40% {\n",
              "      border-color: transparent;\n",
              "      border-right-color: var(--fill-color);\n",
              "      border-top-color: var(--fill-color);\n",
              "    }\n",
              "    60% {\n",
              "      border-color: transparent;\n",
              "      border-right-color: var(--fill-color);\n",
              "    }\n",
              "    80% {\n",
              "      border-color: transparent;\n",
              "      border-right-color: var(--fill-color);\n",
              "      border-bottom-color: var(--fill-color);\n",
              "    }\n",
              "    90% {\n",
              "      border-color: transparent;\n",
              "      border-bottom-color: var(--fill-color);\n",
              "    }\n",
              "  }\n",
              "</style>\n",
              "\n",
              "  <script>\n",
              "    async function quickchart(key) {\n",
              "      const quickchartButtonEl =\n",
              "        document.querySelector('#' + key + ' button');\n",
              "      quickchartButtonEl.disabled = true;  // To prevent multiple clicks.\n",
              "      quickchartButtonEl.classList.add('colab-df-spinner');\n",
              "      try {\n",
              "        const charts = await google.colab.kernel.invokeFunction(\n",
              "            'suggestCharts', [key], {});\n",
              "      } catch (error) {\n",
              "        console.error('Error during call to suggestCharts:', error);\n",
              "      }\n",
              "      quickchartButtonEl.classList.remove('colab-df-spinner');\n",
              "      quickchartButtonEl.classList.add('colab-df-quickchart-complete');\n",
              "    }\n",
              "    (() => {\n",
              "      let quickchartButtonEl =\n",
              "        document.querySelector('#df-202f26da-29d2-4a95-84be-9d4fe66f4b9a button');\n",
              "      quickchartButtonEl.style.display =\n",
              "        google.colab.kernel.accessAllowed ? 'block' : 'none';\n",
              "    })();\n",
              "  </script>\n",
              "</div>\n",
              "\n",
              "  <div id=\"id_04ac21a0-797e-4b0d-8530-be3dd5c2d6ab\">\n",
              "    <style>\n",
              "      .colab-df-generate {\n",
              "        background-color: #E8F0FE;\n",
              "        border: none;\n",
              "        border-radius: 50%;\n",
              "        cursor: pointer;\n",
              "        display: none;\n",
              "        fill: #1967D2;\n",
              "        height: 32px;\n",
              "        padding: 0 0 0 0;\n",
              "        width: 32px;\n",
              "      }\n",
              "\n",
              "      .colab-df-generate:hover {\n",
              "        background-color: #E2EBFA;\n",
              "        box-shadow: 0px 1px 2px rgba(60, 64, 67, 0.3), 0px 1px 3px 1px rgba(60, 64, 67, 0.15);\n",
              "        fill: #174EA6;\n",
              "      }\n",
              "\n",
              "      [theme=dark] .colab-df-generate {\n",
              "        background-color: #3B4455;\n",
              "        fill: #D2E3FC;\n",
              "      }\n",
              "\n",
              "      [theme=dark] .colab-df-generate:hover {\n",
              "        background-color: #434B5C;\n",
              "        box-shadow: 0px 1px 3px 1px rgba(0, 0, 0, 0.15);\n",
              "        filter: drop-shadow(0px 1px 2px rgba(0, 0, 0, 0.3));\n",
              "        fill: #FFFFFF;\n",
              "      }\n",
              "    </style>\n",
              "    <button class=\"colab-df-generate\" onclick=\"generateWithVariable('model_results')\"\n",
              "            title=\"Generate code using this dataframe.\"\n",
              "            style=\"display:none;\">\n",
              "\n",
              "  <svg xmlns=\"http://www.w3.org/2000/svg\" height=\"24px\"viewBox=\"0 0 24 24\"\n",
              "       width=\"24px\">\n",
              "    <path d=\"M7,19H8.4L18.45,9,17,7.55,7,17.6ZM5,21V16.75L18.45,3.32a2,2,0,0,1,2.83,0l1.4,1.43a1.91,1.91,0,0,1,.58,1.4,1.91,1.91,0,0,1-.58,1.4L9.25,21ZM18.45,9,17,7.55Zm-12,3A5.31,5.31,0,0,0,4.9,8.1,5.31,5.31,0,0,0,1,6.5,5.31,5.31,0,0,0,4.9,4.9,5.31,5.31,0,0,0,6.5,1,5.31,5.31,0,0,0,8.1,4.9,5.31,5.31,0,0,0,12,6.5,5.46,5.46,0,0,0,6.5,12Z\"/>\n",
              "  </svg>\n",
              "    </button>\n",
              "    <script>\n",
              "      (() => {\n",
              "      const buttonEl =\n",
              "        document.querySelector('#id_04ac21a0-797e-4b0d-8530-be3dd5c2d6ab button.colab-df-generate');\n",
              "      buttonEl.style.display =\n",
              "        google.colab.kernel.accessAllowed ? 'block' : 'none';\n",
              "\n",
              "      buttonEl.onclick = () => {\n",
              "        google.colab.notebook.generateWithVariable('model_results');\n",
              "      }\n",
              "      })();\n",
              "    </script>\n",
              "  </div>\n",
              "\n",
              "    </div>\n",
              "  </div>\n"
            ]
          },
          "metadata": {},
          "execution_count": 72
        }
      ]
    },
    {
      "cell_type": "markdown",
      "source": [
        "Model_3 perform best than othes"
      ],
      "metadata": {
        "id": "fWLiMwelW2BL"
      }
    },
    {
      "cell_type": "code",
      "source": [
        "model_3.summary()"
      ],
      "metadata": {
        "colab": {
          "base_uri": "https://localhost:8080/"
        },
        "id": "F0RLkpT0XHO-",
        "outputId": "0d5980f4-a9f8-4eb6-b569-146a577d9253"
      },
      "execution_count": 73,
      "outputs": [
        {
          "output_type": "stream",
          "name": "stdout",
          "text": [
            "Model: \"sequential_7\"\n",
            "_________________________________________________________________\n",
            " Layer (type)                Output Shape              Param #   \n",
            "=================================================================\n",
            " dense_17 (Dense)            (None, 1)                 2         \n",
            "                                                                 \n",
            " dense_18 (Dense)            (None, 10)                20        \n",
            "                                                                 \n",
            " dense_19 (Dense)            (None, 10)                110       \n",
            "                                                                 \n",
            " dense_20 (Dense)            (None, 1)                 11        \n",
            "                                                                 \n",
            "=================================================================\n",
            "Total params: 143 (572.00 Byte)\n",
            "Trainable params: 143 (572.00 Byte)\n",
            "Non-trainable params: 0 (0.00 Byte)\n",
            "_________________________________________________________________\n"
          ]
        }
      ]
    },
    {
      "cell_type": "code",
      "source": [
        "plot_model(model_3,show_shapes=True)"
      ],
      "metadata": {
        "colab": {
          "base_uri": "https://localhost:8080/",
          "height": 533
        },
        "id": "xpqAxg3kXIuw",
        "outputId": "f72e6a45-3503-4d71-fe53-9911b995c4bd"
      },
      "execution_count": 76,
      "outputs": [
        {
          "output_type": "execute_result",
          "data": {
            "image/png": "[encoded data removed]",
            "text/plain": [
              "<IPython.core.display.Image object>"
            ]
          },
          "metadata": {},
          "execution_count": 76
        }
      ]
    },
    {
      "cell_type": "markdown",
      "source": [
        "🔑 **Note:** One of your main goals should be to minimize the time between your experiments. The more experiments you do, the more things you'll figure out which don't work and in turn, get closer to figuring out what does work. Remember the machine learning practioner's motto: \"experiment, experiment, experiment\"."
      ],
      "metadata": {
        "id": "jYpl0wHRX3n3"
      }
    },
    {
      "cell_type": "markdown",
      "source": [
        "# Tracking your experiments\n",
        "One really good habit in machine learning modelling is to track the results of your experiments.\n",
        "\n",
        "And when doing so, it can be tedious if you're running lots of experiments.\n",
        "\n",
        "Luckily, there are tools to help us!\n",
        "\n",
        "📖 **Resource:** As you build more models, you'll want to look into using:\n",
        "* https://www.tensorflow.org/tensorboard a component of the TensorFlow library to help track modelling experiments (we'll see this one later).\n",
        "* https://wandb.ai/site/ - a tool for tracking all of kinds of machine learning experiments (plugs straight into TensorBoard).\n",
        "\n",
        "# Saving our models\n",
        "Saving our models allows us to use them outside of Google Colab (or wherever they were trained) such as in a web application or a mobile app.\n",
        "\n",
        "There are two main formats we can save our model's too:\n",
        "\n",
        "1.The SavedModel format.\n",
        "\n",
        "2.The HDF5 format"
      ],
      "metadata": {
        "id": "DaqV9vQaa0qg"
      }
    },
    {
      "cell_type": "code",
      "source": [
        "# Saving the Model in SavedModel Format\n",
        "model_3.save(\"Best_Model_SavedModel_Format\")"
      ],
      "metadata": {
        "id": "V6WHECb-a_42"
      },
      "execution_count": 78,
      "outputs": []
    },
    {
      "cell_type": "code",
      "source": [
        "# Saving the Model into the HDF5 Format\n",
        "model_3.save(\"BestModel_HDF5_Format.h5\")"
      ],
      "metadata": {
        "colab": {
          "base_uri": "https://localhost:8080/"
        },
        "id": "tFJ0XED1fz0c",
        "outputId": "9d89bf0a-65ac-4801-b2e9-fa7e6bd2690f"
      },
      "execution_count": 79,
      "outputs": [
        {
          "output_type": "stream",
          "name": "stderr",
          "text": [
            "/usr/local/lib/python3.10/dist-packages/keras/src/engine/training.py:3103: UserWarning: You are saving your model as an HDF5 file via `model.save()`. This file format is considered legacy. We recommend using instead the native Keras format, e.g. `model.save('my_model.keras')`.\n",
            "  saving_api.save_model(\n"
          ]
        }
      ]
    },
    {
      "cell_type": "markdown",
      "source": [
        "# Loading in a saved model"
      ],
      "metadata": {
        "id": "piwFuLUahxgI"
      }
    },
    {
      "cell_type": "code",
      "source": [
        "# Loading the saved model\n",
        "load_saved_model = tf.keras.models.load_model('Best_Model_SavedModel_Format') # In the same way .h5 model can be loaded and used..\n",
        "load_saved_model.summary()"
      ],
      "metadata": {
        "colab": {
          "base_uri": "https://localhost:8080/"
        },
        "id": "wvU14-4ai0zd",
        "outputId": "6ff54604-6923-4af8-c8e9-dad92099bee8"
      },
      "execution_count": 81,
      "outputs": [
        {
          "output_type": "stream",
          "name": "stdout",
          "text": [
            "Model: \"sequential_7\"\n",
            "_________________________________________________________________\n",
            " Layer (type)                Output Shape              Param #   \n",
            "=================================================================\n",
            " dense_17 (Dense)            (None, 1)                 2         \n",
            "                                                                 \n",
            " dense_18 (Dense)            (None, 10)                20        \n",
            "                                                                 \n",
            " dense_19 (Dense)            (None, 10)                110       \n",
            "                                                                 \n",
            " dense_20 (Dense)            (None, 1)                 11        \n",
            "                                                                 \n",
            "=================================================================\n",
            "Total params: 143 (572.00 Byte)\n",
            "Trainable params: 143 (572.00 Byte)\n",
            "Non-trainable params: 0 (0.00 Byte)\n",
            "_________________________________________________________________\n"
          ]
        }
      ]
    },
    {
      "cell_type": "code",
      "source": [
        "loaded_model = load_saved_model.predict([X_test])\n",
        "model_3_prediction = model_3.predict([X_test])\n",
        "loaded_model, model_3_prediction"
      ],
      "metadata": {
        "colab": {
          "base_uri": "https://localhost:8080/"
        },
        "id": "a5jxwMsljCnL",
        "outputId": "2815d3a3-92f4-4dbc-e19b-749e51caf679"
      },
      "execution_count": 82,
      "outputs": [
        {
          "output_type": "stream",
          "name": "stdout",
          "text": [
            "1/1 [==============================] - 0s 74ms/step\n",
            "1/1 [==============================] - 0s 36ms/step\n"
          ]
        },
        {
          "output_type": "execute_result",
          "data": {
            "text/plain": [
              "(array([[ 68.356735],\n",
              "        [ 72.31536 ],\n",
              "        [ 76.274   ],\n",
              "        [ 80.23261 ],\n",
              "        [ 84.19124 ],\n",
              "        [ 88.14987 ],\n",
              "        [ 92.10849 ],\n",
              "        [ 96.06713 ],\n",
              "        [100.02574 ],\n",
              "        [103.98437 ]], dtype=float32),\n",
              " array([[ 68.356735],\n",
              "        [ 72.31536 ],\n",
              "        [ 76.274   ],\n",
              "        [ 80.23261 ],\n",
              "        [ 84.19124 ],\n",
              "        [ 88.14987 ],\n",
              "        [ 92.10849 ],\n",
              "        [ 96.06713 ],\n",
              "        [100.02574 ],\n",
              "        [103.98437 ]], dtype=float32))"
            ]
          },
          "metadata": {},
          "execution_count": 82
        }
      ]
    },
    {
      "cell_type": "code",
      "source": [],
      "metadata": {
        "id": "4PoxB84TkIal"
      },
      "execution_count": null,
      "outputs": []
    }
  ]
}