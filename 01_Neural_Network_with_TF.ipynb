{
  "nbformat": 4,
  "nbformat_minor": 0,
  "metadata": {
    "colab": {
      "provenance": [],
      "authorship_tag": "ABX9TyPP4cTxypIrYET6VHphaMXr",
      "include_colab_link": true
    },
    "kernelspec": {
      "name": "python3",
      "display_name": "Python 3"
    },
    "language_info": {
      "name": "python"
    }
  },
  "cells": [
    {
      "cell_type": "markdown",
      "metadata": {
        "id": "view-in-github",
        "colab_type": "text"
      },
      "source": [
        "<a href=\"https://colab.research.google.com/github/MusadaqTanvir/TensforFlowCodes/blob/main/01_Neural_Network_with_TF.ipynb\" target=\"_parent\"><img src=\"https://colab.research.google.com/assets/colab-badge.svg\" alt=\"Open In Colab\"/></a>"
      ]
    },
    {
      "cell_type": "markdown",
      "source": [
        "# Neural Network With TensorFlow"
      ],
      "metadata": {
        "id": "_yRJFkNMHT5G"
      }
    },
    {
      "cell_type": "markdown",
      "source": [
        "**Hyperparameters**\n",
        "* input layer shape\n",
        "* Hidden Layers\n",
        "* Neuron per hidden layer\n",
        "* Output Layer Shape\n",
        "* Hidden Activation\n",
        "* Output Activation\n",
        "* Loss Function\n",
        "* Optimizer\n",
        "\n",
        "First of all we have to define our model using the parameters given above and then we have to compile our model.\n",
        "There are many definitions for a regression problem but in our case, we're going to simplify it: predicting a numerical variable based on some other combination of variables, even shorter... predicting a number."
      ],
      "metadata": {
        "id": "AQBSl7u0Hl89"
      }
    },
    {
      "cell_type": "code",
      "source": [
        "import tensorflow as tf\n",
        "print(tf.__version__)"
      ],
      "metadata": {
        "colab": {
          "base_uri": "https://localhost:8080/"
        },
        "id": "cOJwQtLsQZRL",
        "outputId": "27734d32-9b60-477e-d74d-fa5c8dcd2df3"
      },
      "execution_count": 1,
      "outputs": [
        {
          "output_type": "stream",
          "name": "stdout",
          "text": [
            "2.15.0\n"
          ]
        }
      ]
    },
    {
      "cell_type": "markdown",
      "source": [
        "#Creating Data to view and fit to it"
      ],
      "metadata": {
        "id": "JjLmUyfXjBeM"
      }
    },
    {
      "cell_type": "code",
      "source": [
        "import numpy as np\n",
        "import matplotlib.pyplot as plt"
      ],
      "metadata": {
        "id": "hiS9dje7j3H0"
      },
      "execution_count": 2,
      "outputs": []
    },
    {
      "cell_type": "code",
      "source": [
        "# Create features\n",
        "X = np.array([-7.0, -4.0, -1.0, 2.0, 5.0, 8.0, 11.0, 14.0])\n",
        "\n",
        "# Create labels\n",
        "y = np.array([3.0, 6.0, 9.0, 12.0, 15.0, 18.0, 21.0, 24.0])\n",
        "plt.scatter(X,y)"
      ],
      "metadata": {
        "colab": {
          "base_uri": "https://localhost:8080/",
          "height": 452
        },
        "id": "9kBbwldrkEdg",
        "outputId": "56a4c109-7a71-4e60-8ff5-522f25a9bc45"
      },
      "execution_count": 3,
      "outputs": [
        {
          "output_type": "execute_result",
          "data": {
            "text/plain": [
              "<matplotlib.collections.PathCollection at 0x7bba8834f2e0>"
            ]
          },
          "metadata": {},
          "execution_count": 3
        },
        {
          "output_type": "display_data",
          "data": {
            "text/plain": [
              "<Figure size 640x480 with 1 Axes>"
            ],
            "image/png": "[encoded data removed]"
          },
          "metadata": {}
        }
      ]
    },
    {
      "cell_type": "markdown",
      "source": [
        "# Input and Output Shape"
      ],
      "metadata": {
        "id": "z-RGsEyKkj5i"
      }
    },
    {
      "cell_type": "code",
      "source": [
        "# Create a demo tensor for our housig price prediction\n",
        "house_info = tf.constant([\"bedroom\", \"bathroom\", \"garage\"])\n",
        "house_price = tf.constant([939700])\n",
        "house_info, house_price"
      ],
      "metadata": {
        "colab": {
          "base_uri": "https://localhost:8080/"
        },
        "id": "gcXC6Hk8lhmD",
        "outputId": "94f93c57-36b4-4213-8baa-b73a43baa335"
      },
      "execution_count": 4,
      "outputs": [
        {
          "output_type": "execute_result",
          "data": {
            "text/plain": [
              "(<tf.Tensor: shape=(3,), dtype=string, numpy=array([b'bedroom', b'bathroom', b'garage'], dtype=object)>,\n",
              " <tf.Tensor: shape=(1,), dtype=int32, numpy=array([939700], dtype=int32)>)"
            ]
          },
          "metadata": {},
          "execution_count": 4
        }
      ]
    },
    {
      "cell_type": "code",
      "source": [
        "X[0],y[0]"
      ],
      "metadata": {
        "colab": {
          "base_uri": "https://localhost:8080/"
        },
        "id": "XUb62pnimNfa",
        "outputId": "18af64d5-6b10-4d3b-b735-65078624db2f"
      },
      "execution_count": 5,
      "outputs": [
        {
          "output_type": "execute_result",
          "data": {
            "text/plain": [
              "(-7.0, 3.0)"
            ]
          },
          "metadata": {},
          "execution_count": 5
        }
      ]
    },
    {
      "cell_type": "code",
      "source": [
        "# Checking the shape of input and output\n",
        "input_shape = X[0].shape\n",
        "output_shape = y[0].shape\n",
        "input_shape, output_shape"
      ],
      "metadata": {
        "colab": {
          "base_uri": "https://localhost:8080/"
        },
        "id": "G-0G3AGjnNy4",
        "outputId": "3c7ea313-1352-4cb8-f84e-05c62723b3fb"
      },
      "execution_count": 6,
      "outputs": [
        {
          "output_type": "execute_result",
          "data": {
            "text/plain": [
              "((), ())"
            ]
          },
          "metadata": {},
          "execution_count": 6
        }
      ]
    },
    {
      "cell_type": "code",
      "source": [
        "# Since both input and output are now scalers in this problem\n",
        "X[0].ndim"
      ],
      "metadata": {
        "colab": {
          "base_uri": "https://localhost:8080/"
        },
        "id": "o9nhX_PpnU8b",
        "outputId": "aa7e136f-b4ae-4994-9789-1242d9509e0a"
      },
      "execution_count": 7,
      "outputs": [
        {
          "output_type": "execute_result",
          "data": {
            "text/plain": [
              "0"
            ]
          },
          "metadata": {},
          "execution_count": 7
        }
      ]
    },
    {
      "cell_type": "code",
      "source": [
        "# Turing Numpy Array into Tensors\n",
        "X = tf.constant(X)\n",
        "y = tf.constant(y)"
      ],
      "metadata": {
        "id": "4fHKAbOSndZP"
      },
      "execution_count": 8,
      "outputs": []
    },
    {
      "cell_type": "code",
      "source": [
        "X.shape, y.shape\n",
        "X.ndim"
      ],
      "metadata": {
        "colab": {
          "base_uri": "https://localhost:8080/"
        },
        "id": "643Vr7snnwkC",
        "outputId": "5d075334-2143-4b67-c577-200a0e1fb9e5"
      },
      "execution_count": 9,
      "outputs": [
        {
          "output_type": "execute_result",
          "data": {
            "text/plain": [
              "1"
            ]
          },
          "metadata": {},
          "execution_count": 9
        }
      ]
    },
    {
      "cell_type": "code",
      "source": [
        "input_shape = X[0].shape\n",
        "output_shape = y[0].shape\n",
        "input_shape, output_shape"
      ],
      "metadata": {
        "colab": {
          "base_uri": "https://localhost:8080/"
        },
        "id": "BA09CubDn0eo",
        "outputId": "03f82477-894a-4823-9323-98f2ee654b22"
      },
      "execution_count": 10,
      "outputs": [
        {
          "output_type": "execute_result",
          "data": {
            "text/plain": [
              "(TensorShape([]), TensorShape([]))"
            ]
          },
          "metadata": {},
          "execution_count": 10
        }
      ]
    },
    {
      "cell_type": "code",
      "source": [
        "plt.scatter(X,y)"
      ],
      "metadata": {
        "colab": {
          "base_uri": "https://localhost:8080/",
          "height": 452
        },
        "id": "BJoUikqKoI8R",
        "outputId": "89af2706-1f80-4aac-eb1e-8ec1a486295c"
      },
      "execution_count": 11,
      "outputs": [
        {
          "output_type": "execute_result",
          "data": {
            "text/plain": [
              "<matplotlib.collections.PathCollection at 0x7bba8628e5f0>"
            ]
          },
          "metadata": {},
          "execution_count": 11
        },
        {
          "output_type": "display_data",
          "data": {
            "text/plain": [
              "<Figure size 640x480 with 1 Axes>"
            ],
            "image/png": "[encoded data removed]"
          },
          "metadata": {}
        }
      ]
    },
    {
      "cell_type": "markdown",
      "source": [
        "### so we have figured that we will have only 1 input feature and 1 output feature(regression)"
      ],
      "metadata": {
        "id": "ou7-kXnQoPjE"
      }
    },
    {
      "cell_type": "markdown",
      "source": [
        "# Steps in Modeling with TensorFlow\n",
        "* **Creating a model** - define the input and output layers, as well as the hidden layers of a deep learning model.\n",
        "* **Compiling a model** - define the loss funtion (in other words, the function which tells our model how wrong it is) and the optimizer (tells our model how to improve the patterns its learning) and evaluation metrics (what we can use to interpret the performance of our model).\n",
        "* **Fitting a model** - letting the model try to find patterns between X & y (features and labels)."
      ],
      "metadata": {
        "id": "YqUWVqNloXYg"
      }
    },
    {
      "cell_type": "code",
      "source": [
        "#X = tf.reshape(X,shape=[X.shape[0],1])\n",
        "X"
      ],
      "metadata": {
        "colab": {
          "base_uri": "https://localhost:8080/"
        },
        "id": "3AgDYX63oeKO",
        "outputId": "58c26479-8e2a-433f-e7f8-21186e35274c"
      },
      "execution_count": 12,
      "outputs": [
        {
          "output_type": "execute_result",
          "data": {
            "text/plain": [
              "<tf.Tensor: shape=(8,), dtype=float64, numpy=array([-7., -4., -1.,  2.,  5.,  8., 11., 14.])>"
            ]
          },
          "metadata": {},
          "execution_count": 12
        }
      ]
    },
    {
      "cell_type": "code",
      "source": [
        "# Create the model using the sequential API\n",
        "\"\"\"\n",
        "We can provide list of model structure as given below as well as we can add sequentially my calling add method of keras class.\n",
        "\"\"\"\n",
        "tf.random.set_seed(42)\n",
        "\n",
        "# 1. Create a model using the Sequential API\n",
        "model = tf.keras.Sequential([\n",
        "  tf.keras.layers.Dense(1,input_shape=(1,))\n",
        "])\n",
        "\n",
        "\n",
        "# 2. Compile the model\n",
        "model.compile(loss=tf.keras.losses.mae, # mae is short for mean absolute error\n",
        "              optimizer=tf.keras.optimizers.SGD(), # sgd is short for stochasitc gradient descent\n",
        "              metrics=[\"mae\"])\n",
        "\n",
        "# 3. Fit the model\n",
        "model.fit(X, y, epochs=5)"
      ],
      "metadata": {
        "colab": {
          "base_uri": "https://localhost:8080/"
        },
        "id": "UfvI4nSnp5uK",
        "outputId": "1d96cb65-1fb1-4be3-d166-4f813509e52e"
      },
      "execution_count": 18,
      "outputs": [
        {
          "output_type": "stream",
          "name": "stdout",
          "text": [
            "Epoch 1/5\n",
            "1/1 [==============================] - 0s 216ms/step - loss: 8.4032 - mae: 8.4032\n",
            "Epoch 2/5\n",
            "1/1 [==============================] - 0s 7ms/step - loss: 8.2707 - mae: 8.2707\n",
            "Epoch 3/5\n",
            "1/1 [==============================] - 0s 6ms/step - loss: 8.1382 - mae: 8.1382\n",
            "Epoch 4/5\n",
            "1/1 [==============================] - 0s 7ms/step - loss: 8.0057 - mae: 8.0057\n",
            "Epoch 5/5\n",
            "1/1 [==============================] - 0s 7ms/step - loss: 7.8732 - mae: 7.8732\n"
          ]
        },
        {
          "output_type": "execute_result",
          "data": {
            "text/plain": [
              "<keras.src.callbacks.History at 0x7bba7510d150>"
            ]
          },
          "metadata": {},
          "execution_count": 18
        }
      ]
    },
    {
      "cell_type": "code",
      "source": [
        "# Check again X and y\n",
        "X, y"
      ],
      "metadata": {
        "colab": {
          "base_uri": "https://localhost:8080/"
        },
        "id": "7UuMt77MtUy_",
        "outputId": "a0e11865-6c86-4418-d77a-98f2a6c731c8"
      },
      "execution_count": 19,
      "outputs": [
        {
          "output_type": "execute_result",
          "data": {
            "text/plain": [
              "(<tf.Tensor: shape=(8,), dtype=float64, numpy=array([-7., -4., -1.,  2.,  5.,  8., 11., 14.])>,\n",
              " <tf.Tensor: shape=(8,), dtype=float64, numpy=array([ 3.,  6.,  9., 12., 15., 18., 21., 24.])>)"
            ]
          },
          "metadata": {},
          "execution_count": 19
        }
      ]
    },
    {
      "cell_type": "code",
      "source": [
        "# Lets make predictions\n",
        "model.predict([11.0])"
      ],
      "metadata": {
        "colab": {
          "base_uri": "https://localhost:8080/"
        },
        "id": "_N1Hw24PPw2x",
        "outputId": "6a1d785d-354c-41aa-cf9f-60b4ba35da5c"
      },
      "execution_count": 22,
      "outputs": [
        {
          "output_type": "stream",
          "name": "stdout",
          "text": [
            "1/1 [==============================] - 0s 102ms/step\n"
          ]
        },
        {
          "output_type": "execute_result",
          "data": {
            "text/plain": [
              "array([[17.993486]], dtype=float32)"
            ]
          },
          "metadata": {},
          "execution_count": 22
        }
      ]
    },
    {
      "cell_type": "markdown",
      "source": [
        "#Improving our model"
      ],
      "metadata": {
        "id": "Zh_lMoGWQUut"
      }
    },
    {
      "cell_type": "markdown",
      "source": [
        "We add just one neuron and same used for ouput also thats why we are getting worse results.\n",
        "We can improve the model by altering the steps we took to create the model.\n",
        "1. **Creating a model** - here we might add more layers, increase the number of hidden units (all called neurons) within each of the hideen layers, change the activation function of each layer.\n",
        "2. **Compiling a model** - here we might change the optimization function or perhaps the learning rate of the optimization function.\n",
        "3. **Fitting a model** - here we might fit a model for more epochs (leave it training for longer) or on more data (give the model more examples to learn from)."
      ],
      "metadata": {
        "id": "XJd-NV5sQ7Cc"
      }
    },
    {
      "cell_type": "code",
      "source": [
        "#1 Lets recreate the model again\n",
        "model = tf.keras.Sequential([\n",
        "    tf.keras.layers.Dense(1,input_shape=(1,))\n",
        "])\n",
        "\n",
        "#2 Compile the model\n",
        "model.compile(loss=tf.keras.losses.mae,optimizer=tf.keras.optimizers.SGD(),metrics=['mae'])\n",
        "\n",
        "#Fit the model\n",
        "model.fit(X,y,epochs=100)"
      ],
      "metadata": {
        "colab": {
          "base_uri": "https://localhost:8080/"
        },
        "id": "8h1YuGVPUuEP",
        "outputId": "4a7b6301-d9f8-41bf-b028-8a55a8f5a13b"
      },
      "execution_count": 27,
      "outputs": [
        {
          "output_type": "stream",
          "name": "stdout",
          "text": [
            "Epoch 1/100\n",
            "1/1 [==============================] - 0s 251ms/step - loss: 18.3137 - mae: 18.3137\n",
            "Epoch 2/100\n",
            "1/1 [==============================] - 0s 7ms/step - loss: 18.0325 - mae: 18.0325\n",
            "Epoch 3/100\n",
            "1/1 [==============================] - 0s 6ms/step - loss: 17.7512 - mae: 17.7512\n",
            "Epoch 4/100\n",
            "1/1 [==============================] - 0s 13ms/step - loss: 17.4700 - mae: 17.4700\n",
            "Epoch 5/100\n",
            "1/1 [==============================] - 0s 9ms/step - loss: 17.1887 - mae: 17.1887\n",
            "Epoch 6/100\n",
            "1/1 [==============================] - 0s 8ms/step - loss: 16.9075 - mae: 16.9075\n",
            "Epoch 7/100\n",
            "1/1 [==============================] - 0s 6ms/step - loss: 16.6262 - mae: 16.6262\n",
            "Epoch 8/100\n",
            "1/1 [==============================] - 0s 6ms/step - loss: 16.3450 - mae: 16.3450\n",
            "Epoch 9/100\n",
            "1/1 [==============================] - 0s 7ms/step - loss: 16.0637 - mae: 16.0637\n",
            "Epoch 10/100\n",
            "1/1 [==============================] - 0s 8ms/step - loss: 15.7825 - mae: 15.7825\n",
            "Epoch 11/100\n",
            "1/1 [==============================] - 0s 8ms/step - loss: 15.5012 - mae: 15.5012\n",
            "Epoch 12/100\n",
            "1/1 [==============================] - 0s 7ms/step - loss: 15.2200 - mae: 15.2200\n",
            "Epoch 13/100\n",
            "1/1 [==============================] - 0s 7ms/step - loss: 14.9387 - mae: 14.9387\n",
            "Epoch 14/100\n",
            "1/1 [==============================] - 0s 7ms/step - loss: 14.7229 - mae: 14.7229\n",
            "Epoch 15/100\n",
            "1/1 [==============================] - 0s 7ms/step - loss: 14.5904 - mae: 14.5904\n",
            "Epoch 16/100\n",
            "1/1 [==============================] - 0s 7ms/step - loss: 14.4579 - mae: 14.4579\n",
            "Epoch 17/100\n",
            "1/1 [==============================] - 0s 8ms/step - loss: 14.3254 - mae: 14.3254\n",
            "Epoch 18/100\n",
            "1/1 [==============================] - 0s 7ms/step - loss: 14.1929 - mae: 14.1929\n",
            "Epoch 19/100\n",
            "1/1 [==============================] - 0s 7ms/step - loss: 14.0604 - mae: 14.0604\n",
            "Epoch 20/100\n",
            "1/1 [==============================] - 0s 8ms/step - loss: 13.9279 - mae: 13.9279\n",
            "Epoch 21/100\n",
            "1/1 [==============================] - 0s 9ms/step - loss: 13.7954 - mae: 13.7954\n",
            "Epoch 22/100\n",
            "1/1 [==============================] - 0s 8ms/step - loss: 13.6629 - mae: 13.6629\n",
            "Epoch 23/100\n",
            "1/1 [==============================] - 0s 7ms/step - loss: 13.5304 - mae: 13.5304\n",
            "Epoch 24/100\n",
            "1/1 [==============================] - 0s 7ms/step - loss: 13.3979 - mae: 13.3979\n",
            "Epoch 25/100\n",
            "1/1 [==============================] - 0s 9ms/step - loss: 13.2654 - mae: 13.2654\n",
            "Epoch 26/100\n",
            "1/1 [==============================] - 0s 8ms/step - loss: 13.1329 - mae: 13.1329\n",
            "Epoch 27/100\n",
            "1/1 [==============================] - 0s 7ms/step - loss: 13.0004 - mae: 13.0004\n",
            "Epoch 28/100\n",
            "1/1 [==============================] - 0s 7ms/step - loss: 12.8679 - mae: 12.8679\n",
            "Epoch 29/100\n",
            "1/1 [==============================] - 0s 7ms/step - loss: 12.7354 - mae: 12.7354\n",
            "Epoch 30/100\n",
            "1/1 [==============================] - 0s 6ms/step - loss: 12.6029 - mae: 12.6029\n",
            "Epoch 31/100\n",
            "1/1 [==============================] - 0s 9ms/step - loss: 12.4704 - mae: 12.4704\n",
            "Epoch 32/100\n",
            "1/1 [==============================] - 0s 9ms/step - loss: 12.3379 - mae: 12.3379\n",
            "Epoch 33/100\n",
            "1/1 [==============================] - 0s 7ms/step - loss: 12.2054 - mae: 12.2054\n",
            "Epoch 34/100\n",
            "1/1 [==============================] - 0s 7ms/step - loss: 12.0729 - mae: 12.0729\n",
            "Epoch 35/100\n",
            "1/1 [==============================] - 0s 7ms/step - loss: 11.9404 - mae: 11.9404\n",
            "Epoch 36/100\n",
            "1/1 [==============================] - 0s 7ms/step - loss: 11.8079 - mae: 11.8079\n",
            "Epoch 37/100\n",
            "1/1 [==============================] - 0s 6ms/step - loss: 11.6754 - mae: 11.6754\n",
            "Epoch 38/100\n",
            "1/1 [==============================] - 0s 7ms/step - loss: 11.5429 - mae: 11.5429\n",
            "Epoch 39/100\n",
            "1/1 [==============================] - 0s 7ms/step - loss: 11.4104 - mae: 11.4104\n",
            "Epoch 40/100\n",
            "1/1 [==============================] - 0s 7ms/step - loss: 11.2779 - mae: 11.2779\n",
            "Epoch 41/100\n",
            "1/1 [==============================] - 0s 7ms/step - loss: 11.1454 - mae: 11.1454\n",
            "Epoch 42/100\n",
            "1/1 [==============================] - 0s 7ms/step - loss: 11.0129 - mae: 11.0129\n",
            "Epoch 43/100\n",
            "1/1 [==============================] - 0s 9ms/step - loss: 10.8804 - mae: 10.8804\n",
            "Epoch 44/100\n",
            "1/1 [==============================] - 0s 7ms/step - loss: 10.7479 - mae: 10.7479\n",
            "Epoch 45/100\n",
            "1/1 [==============================] - 0s 7ms/step - loss: 10.6154 - mae: 10.6154\n",
            "Epoch 46/100\n",
            "1/1 [==============================] - 0s 7ms/step - loss: 10.4829 - mae: 10.4829\n",
            "Epoch 47/100\n",
            "1/1 [==============================] - 0s 7ms/step - loss: 10.3504 - mae: 10.3504\n",
            "Epoch 48/100\n",
            "1/1 [==============================] - 0s 7ms/step - loss: 10.2179 - mae: 10.2179\n",
            "Epoch 49/100\n",
            "1/1 [==============================] - 0s 7ms/step - loss: 10.0854 - mae: 10.0854\n",
            "Epoch 50/100\n",
            "1/1 [==============================] - 0s 7ms/step - loss: 9.9529 - mae: 9.9529\n",
            "Epoch 51/100\n",
            "1/1 [==============================] - 0s 7ms/step - loss: 9.8204 - mae: 9.8204\n",
            "Epoch 52/100\n",
            "1/1 [==============================] - 0s 7ms/step - loss: 9.6879 - mae: 9.6879\n",
            "Epoch 53/100\n",
            "1/1 [==============================] - 0s 7ms/step - loss: 9.5554 - mae: 9.5554\n",
            "Epoch 54/100\n",
            "1/1 [==============================] - 0s 7ms/step - loss: 9.4229 - mae: 9.4229\n",
            "Epoch 55/100\n",
            "1/1 [==============================] - 0s 8ms/step - loss: 9.2904 - mae: 9.2904\n",
            "Epoch 56/100\n",
            "1/1 [==============================] - 0s 7ms/step - loss: 9.1579 - mae: 9.1579\n",
            "Epoch 57/100\n",
            "1/1 [==============================] - 0s 7ms/step - loss: 9.0254 - mae: 9.0254\n",
            "Epoch 58/100\n",
            "1/1 [==============================] - 0s 7ms/step - loss: 8.8929 - mae: 8.8929\n",
            "Epoch 59/100\n",
            "1/1 [==============================] - 0s 6ms/step - loss: 8.7604 - mae: 8.7604\n",
            "Epoch 60/100\n",
            "1/1 [==============================] - 0s 6ms/step - loss: 8.6279 - mae: 8.6279\n",
            "Epoch 61/100\n",
            "1/1 [==============================] - 0s 6ms/step - loss: 8.4954 - mae: 8.4954\n",
            "Epoch 62/100\n",
            "1/1 [==============================] - 0s 6ms/step - loss: 8.3629 - mae: 8.3629\n",
            "Epoch 63/100\n",
            "1/1 [==============================] - 0s 6ms/step - loss: 8.2304 - mae: 8.2304\n",
            "Epoch 64/100\n",
            "1/1 [==============================] - 0s 6ms/step - loss: 8.0979 - mae: 8.0979\n",
            "Epoch 65/100\n",
            "1/1 [==============================] - 0s 6ms/step - loss: 7.9654 - mae: 7.9654\n",
            "Epoch 66/100\n",
            "1/1 [==============================] - 0s 6ms/step - loss: 7.8329 - mae: 7.8329\n",
            "Epoch 67/100\n",
            "1/1 [==============================] - 0s 6ms/step - loss: 7.7004 - mae: 7.7004\n",
            "Epoch 68/100\n",
            "1/1 [==============================] - 0s 7ms/step - loss: 7.5679 - mae: 7.5679\n",
            "Epoch 69/100\n",
            "1/1 [==============================] - 0s 7ms/step - loss: 7.4354 - mae: 7.4354\n",
            "Epoch 70/100\n",
            "1/1 [==============================] - 0s 10ms/step - loss: 7.3029 - mae: 7.3029\n",
            "Epoch 71/100\n",
            "1/1 [==============================] - 0s 6ms/step - loss: 7.1704 - mae: 7.1704\n",
            "Epoch 72/100\n",
            "1/1 [==============================] - 0s 6ms/step - loss: 7.0379 - mae: 7.0379\n",
            "Epoch 73/100\n",
            "1/1 [==============================] - 0s 6ms/step - loss: 6.9844 - mae: 6.9844\n",
            "Epoch 74/100\n",
            "1/1 [==============================] - 0s 6ms/step - loss: 6.9788 - mae: 6.9788\n",
            "Epoch 75/100\n",
            "1/1 [==============================] - 0s 6ms/step - loss: 6.9731 - mae: 6.9731\n",
            "Epoch 76/100\n",
            "1/1 [==============================] - 0s 6ms/step - loss: 6.9675 - mae: 6.9675\n",
            "Epoch 77/100\n",
            "1/1 [==============================] - 0s 6ms/step - loss: 6.9619 - mae: 6.9619\n",
            "Epoch 78/100\n",
            "1/1 [==============================] - 0s 5ms/step - loss: 6.9563 - mae: 6.9563\n",
            "Epoch 79/100\n",
            "1/1 [==============================] - 0s 6ms/step - loss: 6.9506 - mae: 6.9506\n",
            "Epoch 80/100\n",
            "1/1 [==============================] - 0s 8ms/step - loss: 6.9450 - mae: 6.9450\n",
            "Epoch 81/100\n",
            "1/1 [==============================] - 0s 11ms/step - loss: 6.9394 - mae: 6.9394\n",
            "Epoch 82/100\n",
            "1/1 [==============================] - 0s 10ms/step - loss: 6.9338 - mae: 6.9338\n",
            "Epoch 83/100\n",
            "1/1 [==============================] - 0s 11ms/step - loss: 6.9281 - mae: 6.9281\n",
            "Epoch 84/100\n",
            "1/1 [==============================] - 0s 9ms/step - loss: 6.9225 - mae: 6.9225\n",
            "Epoch 85/100\n",
            "1/1 [==============================] - 0s 6ms/step - loss: 6.9169 - mae: 6.9169\n",
            "Epoch 86/100\n",
            "1/1 [==============================] - 0s 6ms/step - loss: 6.9113 - mae: 6.9113\n",
            "Epoch 87/100\n",
            "1/1 [==============================] - 0s 8ms/step - loss: 6.9056 - mae: 6.9056\n",
            "Epoch 88/100\n",
            "1/1 [==============================] - 0s 6ms/step - loss: 6.9000 - mae: 6.9000\n",
            "Epoch 89/100\n",
            "1/1 [==============================] - 0s 6ms/step - loss: 6.8944 - mae: 6.8944\n",
            "Epoch 90/100\n",
            "1/1 [==============================] - 0s 8ms/step - loss: 6.8888 - mae: 6.8888\n",
            "Epoch 91/100\n",
            "1/1 [==============================] - 0s 6ms/step - loss: 6.8831 - mae: 6.8831\n",
            "Epoch 92/100\n",
            "1/1 [==============================] - 0s 6ms/step - loss: 6.8775 - mae: 6.8775\n",
            "Epoch 93/100\n",
            "1/1 [==============================] - 0s 9ms/step - loss: 6.8719 - mae: 6.8719\n",
            "Epoch 94/100\n",
            "1/1 [==============================] - 0s 7ms/step - loss: 6.8663 - mae: 6.8663\n",
            "Epoch 95/100\n",
            "1/1 [==============================] - 0s 6ms/step - loss: 6.8606 - mae: 6.8606\n",
            "Epoch 96/100\n",
            "1/1 [==============================] - 0s 7ms/step - loss: 6.8550 - mae: 6.8550\n",
            "Epoch 97/100\n",
            "1/1 [==============================] - 0s 6ms/step - loss: 6.8494 - mae: 6.8494\n",
            "Epoch 98/100\n",
            "1/1 [==============================] - 0s 6ms/step - loss: 6.8438 - mae: 6.8438\n",
            "Epoch 99/100\n",
            "1/1 [==============================] - 0s 7ms/step - loss: 6.8381 - mae: 6.8381\n",
            "Epoch 100/100\n",
            "1/1 [==============================] - 0s 6ms/step - loss: 6.8325 - mae: 6.8325\n"
          ]
        },
        {
          "output_type": "execute_result",
          "data": {
            "text/plain": [
              "<keras.src.callbacks.History at 0x7bba727e1360>"
            ]
          },
          "metadata": {},
          "execution_count": 27
        }
      ]
    },
    {
      "cell_type": "code",
      "source": [
        "# Lets see our data first\n",
        "X, y"
      ],
      "metadata": {
        "colab": {
          "base_uri": "https://localhost:8080/"
        },
        "id": "jdK6Lc4VYZhE",
        "outputId": "a4c7fea6-001b-4991-80f9-530cd2d6156d"
      },
      "execution_count": 28,
      "outputs": [
        {
          "output_type": "execute_result",
          "data": {
            "text/plain": [
              "(<tf.Tensor: shape=(8,), dtype=float64, numpy=array([-7., -4., -1.,  2.,  5.,  8., 11., 14.])>,\n",
              " <tf.Tensor: shape=(8,), dtype=float64, numpy=array([ 3.,  6.,  9., 12., 15., 18., 21., 24.])>)"
            ]
          },
          "metadata": {},
          "execution_count": 28
        }
      ]
    },
    {
      "cell_type": "code",
      "source": [
        "# Lets again do prediction\n",
        "model.predict([17.0])"
      ],
      "metadata": {
        "colab": {
          "base_uri": "https://localhost:8080/"
        },
        "id": "L_-brQlAZd8s",
        "outputId": "aaf500df-f7cf-4057-a1a8-4da7602274b0"
      },
      "execution_count": 29,
      "outputs": [
        {
          "output_type": "stream",
          "name": "stdout",
          "text": [
            "1/1 [==============================] - 0s 78ms/step\n"
          ]
        },
        {
          "output_type": "execute_result",
          "data": {
            "text/plain": [
              "array([[29.589136]], dtype=float32)"
            ]
          },
          "metadata": {},
          "execution_count": 29
        }
      ]
    },
    {
      "cell_type": "code",
      "source": [
        "# Let's see if we can make another change to improve our model\n",
        "\n",
        "# 1. Create the model (this time with an extra hidden layer with 100 hidden units)\n",
        "\n",
        "model = tf.keras.Sequential([\n",
        "    tf.keras.layers.Dense(units=1,input_shape=(1,)),\n",
        "    tf.keras.layers.Dense(units=50,activation=None),\n",
        "    tf.keras.layers.Dense(units=1)\n",
        "])\n",
        "\n",
        "# Compile the model again with changes\n",
        "model.compile(loss=tf.keras.losses.MAE, optimizer=tf.keras.optimizers.Adam(lr=0.01), metrics=['mae'])\n",
        "\n",
        "# Fit the model created\n",
        "model.fit(X,y,epochs=100)"
      ],
      "metadata": {
        "colab": {
          "base_uri": "https://localhost:8080/"
        },
        "id": "DZlUsLCqZkfo",
        "outputId": "2836f3ae-e92f-4c0c-fa86-108e377d2d47"
      },
      "execution_count": 40,
      "outputs": [
        {
          "output_type": "stream",
          "name": "stderr",
          "text": [
            "WARNING:absl:`lr` is deprecated in Keras optimizer, please use `learning_rate` or use the legacy optimizer, e.g.,tf.keras.optimizers.legacy.Adam.\n"
          ]
        },
        {
          "output_type": "stream",
          "name": "stdout",
          "text": [
            "Epoch 1/100\n",
            "1/1 [==============================] - 1s 687ms/step - loss: 13.7108 - mae: 13.7108\n",
            "Epoch 2/100\n",
            "1/1 [==============================] - 0s 6ms/step - loss: 13.6557 - mae: 13.6557\n",
            "Epoch 3/100\n",
            "1/1 [==============================] - 0s 7ms/step - loss: 13.6007 - mae: 13.6007\n",
            "Epoch 4/100\n",
            "1/1 [==============================] - 0s 7ms/step - loss: 13.5458 - mae: 13.5458\n",
            "Epoch 5/100\n",
            "1/1 [==============================] - 0s 8ms/step - loss: 13.4911 - mae: 13.4911\n",
            "Epoch 6/100\n",
            "1/1 [==============================] - 0s 8ms/step - loss: 13.4366 - mae: 13.4366\n",
            "Epoch 7/100\n",
            "1/1 [==============================] - 0s 9ms/step - loss: 13.3821 - mae: 13.3821\n",
            "Epoch 8/100\n",
            "1/1 [==============================] - 0s 7ms/step - loss: 13.3278 - mae: 13.3278\n",
            "Epoch 9/100\n",
            "1/1 [==============================] - 0s 8ms/step - loss: 13.2734 - mae: 13.2734\n",
            "Epoch 10/100\n",
            "1/1 [==============================] - 0s 7ms/step - loss: 13.2190 - mae: 13.2190\n",
            "Epoch 11/100\n",
            "1/1 [==============================] - 0s 7ms/step - loss: 13.1644 - mae: 13.1644\n",
            "Epoch 12/100\n",
            "1/1 [==============================] - 0s 7ms/step - loss: 13.1097 - mae: 13.1097\n",
            "Epoch 13/100\n",
            "1/1 [==============================] - 0s 8ms/step - loss: 13.0549 - mae: 13.0549\n",
            "Epoch 14/100\n",
            "1/1 [==============================] - 0s 7ms/step - loss: 12.9998 - mae: 12.9998\n",
            "Epoch 15/100\n",
            "1/1 [==============================] - 0s 7ms/step - loss: 12.9446 - mae: 12.9446\n",
            "Epoch 16/100\n",
            "1/1 [==============================] - 0s 7ms/step - loss: 12.8891 - mae: 12.8891\n",
            "Epoch 17/100\n",
            "1/1 [==============================] - 0s 7ms/step - loss: 12.8334 - mae: 12.8334\n",
            "Epoch 18/100\n",
            "1/1 [==============================] - 0s 8ms/step - loss: 12.7774 - mae: 12.7774\n",
            "Epoch 19/100\n",
            "1/1 [==============================] - 0s 8ms/step - loss: 12.7212 - mae: 12.7212\n",
            "Epoch 20/100\n",
            "1/1 [==============================] - 0s 8ms/step - loss: 12.6647 - mae: 12.6647\n",
            "Epoch 21/100\n",
            "1/1 [==============================] - 0s 7ms/step - loss: 12.6080 - mae: 12.6080\n",
            "Epoch 22/100\n",
            "1/1 [==============================] - 0s 7ms/step - loss: 12.5509 - mae: 12.5509\n",
            "Epoch 23/100\n",
            "1/1 [==============================] - 0s 7ms/step - loss: 12.4936 - mae: 12.4936\n",
            "Epoch 24/100\n",
            "1/1 [==============================] - 0s 7ms/step - loss: 12.4360 - mae: 12.4360\n",
            "Epoch 25/100\n",
            "1/1 [==============================] - 0s 8ms/step - loss: 12.3780 - mae: 12.3780\n",
            "Epoch 26/100\n",
            "1/1 [==============================] - 0s 7ms/step - loss: 12.3198 - mae: 12.3198\n",
            "Epoch 27/100\n",
            "1/1 [==============================] - 0s 7ms/step - loss: 12.2612 - mae: 12.2612\n",
            "Epoch 28/100\n",
            "1/1 [==============================] - 0s 7ms/step - loss: 12.2022 - mae: 12.2022\n",
            "Epoch 29/100\n",
            "1/1 [==============================] - 0s 8ms/step - loss: 12.1429 - mae: 12.1429\n",
            "Epoch 30/100\n",
            "1/1 [==============================] - 0s 7ms/step - loss: 12.0832 - mae: 12.0832\n",
            "Epoch 31/100\n",
            "1/1 [==============================] - 0s 7ms/step - loss: 12.0232 - mae: 12.0232\n",
            "Epoch 32/100\n",
            "1/1 [==============================] - 0s 7ms/step - loss: 11.9627 - mae: 11.9627\n",
            "Epoch 33/100\n",
            "1/1 [==============================] - 0s 7ms/step - loss: 11.9019 - mae: 11.9019\n",
            "Epoch 34/100\n",
            "1/1 [==============================] - 0s 7ms/step - loss: 11.8406 - mae: 11.8406\n",
            "Epoch 35/100\n",
            "1/1 [==============================] - 0s 7ms/step - loss: 11.7789 - mae: 11.7789\n",
            "Epoch 36/100\n",
            "1/1 [==============================] - 0s 7ms/step - loss: 11.7168 - mae: 11.7168\n",
            "Epoch 37/100\n",
            "1/1 [==============================] - 0s 7ms/step - loss: 11.6542 - mae: 11.6542\n",
            "Epoch 38/100\n",
            "1/1 [==============================] - 0s 7ms/step - loss: 11.5912 - mae: 11.5912\n",
            "Epoch 39/100\n",
            "1/1 [==============================] - 0s 7ms/step - loss: 11.5277 - mae: 11.5277\n",
            "Epoch 40/100\n",
            "1/1 [==============================] - 0s 7ms/step - loss: 11.4637 - mae: 11.4637\n",
            "Epoch 41/100\n",
            "1/1 [==============================] - 0s 7ms/step - loss: 11.3993 - mae: 11.3993\n",
            "Epoch 42/100\n",
            "1/1 [==============================] - 0s 7ms/step - loss: 11.3343 - mae: 11.3343\n",
            "Epoch 43/100\n",
            "1/1 [==============================] - 0s 7ms/step - loss: 11.2689 - mae: 11.2689\n",
            "Epoch 44/100\n",
            "1/1 [==============================] - 0s 7ms/step - loss: 11.2029 - mae: 11.2029\n",
            "Epoch 45/100\n",
            "1/1 [==============================] - 0s 7ms/step - loss: 11.1364 - mae: 11.1364\n",
            "Epoch 46/100\n",
            "1/1 [==============================] - 0s 8ms/step - loss: 11.0693 - mae: 11.0693\n",
            "Epoch 47/100\n",
            "1/1 [==============================] - 0s 8ms/step - loss: 11.0017 - mae: 11.0017\n",
            "Epoch 48/100\n",
            "1/1 [==============================] - 0s 8ms/step - loss: 10.9336 - mae: 10.9336\n",
            "Epoch 49/100\n",
            "1/1 [==============================] - 0s 7ms/step - loss: 10.8649 - mae: 10.8649\n",
            "Epoch 50/100\n",
            "1/1 [==============================] - 0s 7ms/step - loss: 10.7956 - mae: 10.7956\n",
            "Epoch 51/100\n",
            "1/1 [==============================] - 0s 9ms/step - loss: 10.7257 - mae: 10.7257\n",
            "Epoch 52/100\n",
            "1/1 [==============================] - 0s 11ms/step - loss: 10.6553 - mae: 10.6553\n",
            "Epoch 53/100\n",
            "1/1 [==============================] - 0s 13ms/step - loss: 10.5842 - mae: 10.5842\n",
            "Epoch 54/100\n",
            "1/1 [==============================] - 0s 8ms/step - loss: 10.5125 - mae: 10.5125\n",
            "Epoch 55/100\n",
            "1/1 [==============================] - 0s 8ms/step - loss: 10.4402 - mae: 10.4402\n",
            "Epoch 56/100\n",
            "1/1 [==============================] - 0s 8ms/step - loss: 10.3673 - mae: 10.3673\n",
            "Epoch 57/100\n",
            "1/1 [==============================] - 0s 8ms/step - loss: 10.2937 - mae: 10.2937\n",
            "Epoch 58/100\n",
            "1/1 [==============================] - 0s 8ms/step - loss: 10.2194 - mae: 10.2194\n",
            "Epoch 59/100\n",
            "1/1 [==============================] - 0s 9ms/step - loss: 10.1445 - mae: 10.1445\n",
            "Epoch 60/100\n",
            "1/1 [==============================] - 0s 7ms/step - loss: 10.0690 - mae: 10.0690\n",
            "Epoch 61/100\n",
            "1/1 [==============================] - 0s 8ms/step - loss: 9.9927 - mae: 9.9927\n",
            "Epoch 62/100\n",
            "1/1 [==============================] - 0s 7ms/step - loss: 9.9158 - mae: 9.9158\n",
            "Epoch 63/100\n",
            "1/1 [==============================] - 0s 7ms/step - loss: 9.8381 - mae: 9.8381\n",
            "Epoch 64/100\n",
            "1/1 [==============================] - 0s 7ms/step - loss: 9.7598 - mae: 9.7598\n",
            "Epoch 65/100\n",
            "1/1 [==============================] - 0s 8ms/step - loss: 9.6807 - mae: 9.6807\n",
            "Epoch 66/100\n",
            "1/1 [==============================] - 0s 8ms/step - loss: 9.6009 - mae: 9.6009\n",
            "Epoch 67/100\n",
            "1/1 [==============================] - 0s 8ms/step - loss: 9.5203 - mae: 9.5203\n",
            "Epoch 68/100\n",
            "1/1 [==============================] - 0s 7ms/step - loss: 9.4390 - mae: 9.4390\n",
            "Epoch 69/100\n",
            "1/1 [==============================] - 0s 6ms/step - loss: 9.3570 - mae: 9.3570\n",
            "Epoch 70/100\n",
            "1/1 [==============================] - 0s 11ms/step - loss: 9.2741 - mae: 9.2741\n",
            "Epoch 71/100\n",
            "1/1 [==============================] - 0s 7ms/step - loss: 9.1905 - mae: 9.1905\n",
            "Epoch 72/100\n",
            "1/1 [==============================] - 0s 7ms/step - loss: 9.1061 - mae: 9.1061\n",
            "Epoch 73/100\n",
            "1/1 [==============================] - 0s 8ms/step - loss: 9.0209 - mae: 9.0209\n",
            "Epoch 74/100\n",
            "1/1 [==============================] - 0s 6ms/step - loss: 8.9349 - mae: 8.9349\n",
            "Epoch 75/100\n",
            "1/1 [==============================] - 0s 7ms/step - loss: 8.8481 - mae: 8.8481\n",
            "Epoch 76/100\n",
            "1/1 [==============================] - 0s 8ms/step - loss: 8.7604 - mae: 8.7604\n",
            "Epoch 77/100\n",
            "1/1 [==============================] - 0s 6ms/step - loss: 8.6719 - mae: 8.6719\n",
            "Epoch 78/100\n",
            "1/1 [==============================] - 0s 6ms/step - loss: 8.5826 - mae: 8.5826\n",
            "Epoch 79/100\n",
            "1/1 [==============================] - 0s 7ms/step - loss: 8.4924 - mae: 8.4924\n",
            "Epoch 80/100\n",
            "1/1 [==============================] - 0s 8ms/step - loss: 8.4013 - mae: 8.4013\n",
            "Epoch 81/100\n",
            "1/1 [==============================] - 0s 7ms/step - loss: 8.3093 - mae: 8.3093\n",
            "Epoch 82/100\n",
            "1/1 [==============================] - 0s 7ms/step - loss: 8.2165 - mae: 8.2165\n",
            "Epoch 83/100\n",
            "1/1 [==============================] - 0s 7ms/step - loss: 8.1227 - mae: 8.1227\n",
            "Epoch 84/100\n",
            "1/1 [==============================] - 0s 8ms/step - loss: 8.0281 - mae: 8.0281\n",
            "Epoch 85/100\n",
            "1/1 [==============================] - 0s 8ms/step - loss: 7.9325 - mae: 7.9325\n",
            "Epoch 86/100\n",
            "1/1 [==============================] - 0s 7ms/step - loss: 7.8360 - mae: 7.8360\n",
            "Epoch 87/100\n",
            "1/1 [==============================] - 0s 7ms/step - loss: 7.7385 - mae: 7.7385\n",
            "Epoch 88/100\n",
            "1/1 [==============================] - 0s 8ms/step - loss: 7.6401 - mae: 7.6401\n",
            "Epoch 89/100\n",
            "1/1 [==============================] - 0s 8ms/step - loss: 7.5407 - mae: 7.5407\n",
            "Epoch 90/100\n",
            "1/1 [==============================] - 0s 8ms/step - loss: 7.4404 - mae: 7.4404\n",
            "Epoch 91/100\n",
            "1/1 [==============================] - 0s 8ms/step - loss: 7.3390 - mae: 7.3390\n",
            "Epoch 92/100\n",
            "1/1 [==============================] - 0s 7ms/step - loss: 7.2367 - mae: 7.2367\n",
            "Epoch 93/100\n",
            "1/1 [==============================] - 0s 8ms/step - loss: 7.1333 - mae: 7.1333\n",
            "Epoch 94/100\n",
            "1/1 [==============================] - 0s 8ms/step - loss: 7.0290 - mae: 7.0290\n",
            "Epoch 95/100\n",
            "1/1 [==============================] - 0s 8ms/step - loss: 6.9236 - mae: 6.9236\n",
            "Epoch 96/100\n",
            "1/1 [==============================] - 0s 7ms/step - loss: 6.8172 - mae: 6.8172\n",
            "Epoch 97/100\n",
            "1/1 [==============================] - 0s 7ms/step - loss: 6.7097 - mae: 6.7097\n",
            "Epoch 98/100\n",
            "1/1 [==============================] - 0s 7ms/step - loss: 6.6012 - mae: 6.6012\n",
            "Epoch 99/100\n",
            "1/1 [==============================] - 0s 7ms/step - loss: 6.4916 - mae: 6.4916\n",
            "Epoch 100/100\n",
            "1/1 [==============================] - 0s 7ms/step - loss: 6.4691 - mae: 6.4691\n"
          ]
        },
        {
          "output_type": "execute_result",
          "data": {
            "text/plain": [
              "<keras.src.callbacks.History at 0x7bba76b1ab90>"
            ]
          },
          "metadata": {},
          "execution_count": 40
        }
      ]
    },
    {
      "cell_type": "code",
      "source": [
        "# Lets predict the output\n",
        "model.predict([11.0])"
      ],
      "metadata": {
        "colab": {
          "base_uri": "https://localhost:8080/"
        },
        "id": "fhYsVuXmfQfH",
        "outputId": "21608a2b-c209-4ee1-d504-c2d10a3b5d3a"
      },
      "execution_count": 41,
      "outputs": [
        {
          "output_type": "stream",
          "name": "stdout",
          "text": [
            "1/1 [==============================] - 0s 70ms/step\n"
          ]
        },
        {
          "output_type": "execute_result",
          "data": {
            "text/plain": [
              "array([[19.704342]], dtype=float32)"
            ]
          },
          "metadata": {},
          "execution_count": 41
        }
      ]
    },
    {
      "cell_type": "code",
      "source": [
        "model.predict([17.0])"
      ],
      "metadata": {
        "colab": {
          "base_uri": "https://localhost:8080/"
        },
        "id": "zshTph5EfY3U",
        "outputId": "a98fa79a-2710-4f1d-cf07-a371d06c91f2"
      },
      "execution_count": 42,
      "outputs": [
        {
          "output_type": "stream",
          "name": "stdout",
          "text": [
            "1/1 [==============================] - 0s 25ms/step\n"
          ]
        },
        {
          "output_type": "execute_result",
          "data": {
            "text/plain": [
              "array([[29.690493]], dtype=float32)"
            ]
          },
          "metadata": {},
          "execution_count": 42
        }
      ]
    },
    {
      "cell_type": "markdown",
      "source": [
        "**Warning**: What do you notice in previous 2 predictions?. The model predicts the 11's answer exactly correct but 17's wrong. Because the Model gets overfitted during training and memorizes the data points"
      ],
      "metadata": {
        "id": "AEcVAfyHgEWP"
      }
    },
    {
      "cell_type": "markdown",
      "source": [
        "# Evaluating the Model\n",
        "In practice, a typical workflow you'll go through when building neural networks is:\n",
        "\n",
        "Build a model  -> fit it -> evaluate it -> tweak a model -> fit it -> evaluate it -> tweak a model -> fit it -> evaluate it...\n",
        "When it comes to evaluation... there are 3 words you should memorize:\n",
        "\n",
        "\"Visualize, visualize, visualize\"\n",
        "\n",
        "It's a good idea to visualize:\n",
        "\n",
        "* The data - what data are we working with? What does it look like?\n",
        "* The model itself - what does our model look like?\n",
        "* The training of a model - how does a model perform while it learns?\n",
        "* The predictions of the model - how do the predictions of a model line up against the ground truth (the original labels)?"
      ],
      "metadata": {
        "id": "RW-7Kzm1grO2"
      }
    },
    {
      "cell_type": "markdown",
      "source": [
        "#Making the Bigger Data"
      ],
      "metadata": {
        "id": "tZzTNkRPk8Di"
      }
    },
    {
      "cell_type": "code",
      "source": [
        "data = tf.range(-100,100,4)"
      ],
      "metadata": {
        "id": "wIrRYYiYk-hW"
      },
      "execution_count": 43,
      "outputs": []
    },
    {
      "cell_type": "code",
      "source": [
        "data"
      ],
      "metadata": {
        "colab": {
          "base_uri": "https://localhost:8080/"
        },
        "id": "skkjv3YllGut",
        "outputId": "f6bc2d37-0d7e-4b20-c494-c402eafd4eef"
      },
      "execution_count": 44,
      "outputs": [
        {
          "output_type": "execute_result",
          "data": {
            "text/plain": [
              "<tf.Tensor: shape=(50,), dtype=int32, numpy=\n",
              "array([-100,  -96,  -92,  -88,  -84,  -80,  -76,  -72,  -68,  -64,  -60,\n",
              "        -56,  -52,  -48,  -44,  -40,  -36,  -32,  -28,  -24,  -20,  -16,\n",
              "        -12,   -8,   -4,    0,    4,    8,   12,   16,   20,   24,   28,\n",
              "         32,   36,   40,   44,   48,   52,   56,   60,   64,   68,   72,\n",
              "         76,   80,   84,   88,   92,   96], dtype=int32)>"
            ]
          },
          "metadata": {},
          "execution_count": 44
        }
      ]
    },
    {
      "cell_type": "code",
      "source": [
        "# Labeling the data with specific pattern\n",
        "y = data+10\n",
        "y"
      ],
      "metadata": {
        "colab": {
          "base_uri": "https://localhost:8080/"
        },
        "id": "NybranRZmIvP",
        "outputId": "b103dc3f-85a9-4668-bd1b-8617214dbfcf"
      },
      "execution_count": 45,
      "outputs": [
        {
          "output_type": "execute_result",
          "data": {
            "text/plain": [
              "<tf.Tensor: shape=(50,), dtype=int32, numpy=\n",
              "array([-90, -86, -82, -78, -74, -70, -66, -62, -58, -54, -50, -46, -42,\n",
              "       -38, -34, -30, -26, -22, -18, -14, -10,  -6,  -2,   2,   6,  10,\n",
              "        14,  18,  22,  26,  30,  34,  38,  42,  46,  50,  54,  58,  62,\n",
              "        66,  70,  74,  78,  82,  86,  90,  94,  98, 102, 106], dtype=int32)>"
            ]
          },
          "metadata": {},
          "execution_count": 45
        }
      ]
    },
    {
      "cell_type": "code",
      "source": [
        "# Viualize the data\n",
        "plt.scatter(data,y)"
      ],
      "metadata": {
        "colab": {
          "base_uri": "https://localhost:8080/",
          "height": 447
        },
        "id": "bfn1mP82mkXI",
        "outputId": "b5dae8f2-cd66-47fe-928b-fb46123ad26f"
      },
      "execution_count": 49,
      "outputs": [
        {
          "output_type": "execute_result",
          "data": {
            "text/plain": [
              "<matplotlib.collections.PathCollection at 0x7bba76be3130>"
            ]
          },
          "metadata": {},
          "execution_count": 49
        },
        {
          "output_type": "display_data",
          "data": {
            "text/plain": [
              "<Figure size 640x480 with 1 Axes>"
            ],
            "image/png": "[encoded data removed]"
          },
          "metadata": {}
        }
      ]
    },
    {
      "cell_type": "code",
      "source": [
        "X_train = data[:40]\n",
        "y_train = y[:40]\n",
        "X_test = data[40:]\n",
        "y_test = y[40:]"
      ],
      "metadata": {
        "id": "RvMHrsm0mvLu"
      },
      "execution_count": 61,
      "outputs": []
    },
    {
      "cell_type": "markdown",
      "source": [
        "# The 3 Sets\n",
        "* **Training set** - the model learns from this data, which is typically 70-80% of the total data you have available.\n",
        "* **Validation set** - the model gets tuned on this data, which is typically 10-15% of the data available.\n",
        "* **Test set** - the model gets evaluated on this data to test what is has learned, this set is typically 10-15% of the total data available."
      ],
      "metadata": {
        "id": "JADy_5rRngv6"
      }
    },
    {
      "cell_type": "code",
      "source": [
        "len(X_train), len(X_test)"
      ],
      "metadata": {
        "colab": {
          "base_uri": "https://localhost:8080/"
        },
        "id": "WLJ0TP08veaw",
        "outputId": "b46d92da-0395-4297-b040-7e7f1b67c4d2"
      },
      "execution_count": 62,
      "outputs": [
        {
          "output_type": "execute_result",
          "data": {
            "text/plain": [
              "(40, 10)"
            ]
          },
          "metadata": {},
          "execution_count": 62
        }
      ]
    },
    {
      "cell_type": "code",
      "source": [
        "# Plotting Testing and Training data\n",
        "plt.figure(figsize=(5,5))\n",
        "plt.scatter(X_train,y_train,c='b',label=\"Training Data\")\n",
        "plt.scatter(X_test,y_test,c='g',label=\"Testing Data\")\n",
        "plt.legend()"
      ],
      "metadata": {
        "colab": {
          "base_uri": "https://localhost:8080/",
          "height": 462
        },
        "id": "3VNfgHyVnw04",
        "outputId": "bc4452c1-4f7a-4f4e-8a77-79fae173cc75"
      },
      "execution_count": 63,
      "outputs": [
        {
          "output_type": "execute_result",
          "data": {
            "text/plain": [
              "<matplotlib.legend.Legend at 0x7bba67c79b10>"
            ]
          },
          "metadata": {},
          "execution_count": 63
        },
        {
          "output_type": "display_data",
          "data": {
            "text/plain": [
              "<Figure size 500x500 with 1 Axes>"
            ],
            "image/png": "[encoded data removed]"
          },
          "metadata": {}
        }
      ]
    },
    {
      "cell_type": "code",
      "source": [
        "# Let's create a neural network for our model\n",
        "model = tf.keras.Sequential([\n",
        "    tf.keras.layers.Dense(units=1,input_shape=(1,),name=\"input_layer\"),\n",
        "    tf.keras.layers.Dense(units=1,name=\"output_layer\")\n",
        "],name=\"MyModel\")\n",
        "\n",
        "model.compile(loss=tf.keras.losses.MAE,optimizer=tf.keras.optimizers.SGD(),metrics=['mae'])\n",
        "\n",
        "#model.fit(X_train,y_train,epochs=100)"
      ],
      "metadata": {
        "id": "Rq6Oy17jtmqF"
      },
      "execution_count": 86,
      "outputs": []
    },
    {
      "cell_type": "markdown",
      "source": [
        "# Visualize the Model"
      ],
      "metadata": {
        "id": "fSbKTpHzxbDc"
      }
    },
    {
      "cell_type": "code",
      "source": [
        "model.summary()"
      ],
      "metadata": {
        "colab": {
          "base_uri": "https://localhost:8080/"
        },
        "id": "D6hyPFNRxkD7",
        "outputId": "9c60f8ba-4915-44d2-f610-7c59d5a5bfd1"
      },
      "execution_count": 87,
      "outputs": [
        {
          "output_type": "stream",
          "name": "stdout",
          "text": [
            "Model: \"MyModel\"\n",
            "_________________________________________________________________\n",
            " Layer (type)                Output Shape              Param #   \n",
            "=================================================================\n",
            " input_layer (Dense)         (None, 1)                 2         \n",
            "                                                                 \n",
            " output_layer (Dense)        (None, 1)                 2         \n",
            "                                                                 \n",
            "=================================================================\n",
            "Total params: 4 (16.00 Byte)\n",
            "Trainable params: 4 (16.00 Byte)\n",
            "Non-trainable params: 0 (0.00 Byte)\n",
            "_________________________________________________________________\n"
          ]
        }
      ]
    },
    {
      "cell_type": "markdown",
      "source": [
        "**Total params** - total number of parameters in the model.\n",
        "**Trainable parameters** - these are the parameters (patterns) the model can update as it trains.\n",
        "**Non-trainable params** - these parameters aren't updated during training (this is typical when you bring in already learn patterns or parameters from other models during transfer learning).\n",
        "📖 **Resource:** For a more in-depth overview of the trainable parameters within a layer, check out MIT's introduction to deep learning video.\n",
        "\n",
        "🛠 **Exercise:** Try playing around with the number of hidden units in the dense layer, see how that effects the number of parameters (total and trainable) by calling model.summary()."
      ],
      "metadata": {
        "id": "A-YkjgKoxmNj"
      }
    },
    {
      "cell_type": "code",
      "source": [
        "#Lets fit the model to the data\n",
        "model.fit(X_train,y_train,epochs=100,verbose=0)"
      ],
      "metadata": {
        "colab": {
          "base_uri": "https://localhost:8080/"
        },
        "id": "6kyePxqHz4XP",
        "outputId": "00d1b6cd-bdb5-4b72-d241-111e63c2fe28"
      },
      "execution_count": 82,
      "outputs": [
        {
          "output_type": "execute_result",
          "data": {
            "text/plain": [
              "<keras.src.callbacks.History at 0x7bba67752c80>"
            ]
          },
          "metadata": {},
          "execution_count": 82
        }
      ]
    },
    {
      "cell_type": "code",
      "source": [
        "# Let's plot the model\n",
        "from tensorflow.keras.utils import plot_model"
      ],
      "metadata": {
        "id": "4Bz0XW-V2ucL"
      },
      "execution_count": null,
      "outputs": []
    },
    {
      "cell_type": "code",
      "source": [
        "plot_model(model=model,show_shapes=True)"
      ],
      "metadata": {
        "colab": {
          "base_uri": "https://localhost:8080/",
          "height": 312
        },
        "id": "Xl-6RprS3oOF",
        "outputId": "09c5ccbc-21c4-442a-cde5-c78c1363592e"
      },
      "execution_count": 88,
      "outputs": [
        {
          "output_type": "execute_result",
          "data": {
            "image/png": "[encoded data removed]",
            "text/plain": [
              "<IPython.core.display.Image object>"
            ]
          },
          "metadata": {},
          "execution_count": 88
        }
      ]
    },
    {
      "cell_type": "markdown",
      "source": [
        "# Visualizing our Model's Predictions"
      ],
      "metadata": {
        "id": "TNnoBIqJ38EV"
      }
    },
    {
      "cell_type": "code",
      "source": [],
      "metadata": {
        "id": "qWkFIrlK6FFa"
      },
      "execution_count": null,
      "outputs": []
    }
  ]
}