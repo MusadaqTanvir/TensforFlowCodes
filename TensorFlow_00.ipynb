{
  "nbformat": 4,
  "nbformat_minor": 0,
  "metadata": {
    "colab": {
      "provenance": [],
      "authorship_tag": "ABX9TyP0/1IFNYjeelSQQHW1Ien1",
      "include_colab_link": true
    },
    "kernelspec": {
      "name": "python3",
      "display_name": "Python 3"
    },
    "language_info": {
      "name": "python"
    }
  },
  "cells": [
    {
      "cell_type": "markdown",
      "metadata": {
        "id": "view-in-github",
        "colab_type": "text"
      },
      "source": [
        "<a href=\"https://colab.research.google.com/github/MusadaqTanvir/test_repo/blob/main/TensorFlow_00.ipynb\" target=\"_parent\"><img src=\"https://colab.research.google.com/assets/colab-badge.svg\" alt=\"Open In Colab\"/></a>"
      ]
    },
    {
      "cell_type": "code",
      "execution_count": 1,
      "metadata": {
        "colab": {
          "base_uri": "https://localhost:8080/"
        },
        "id": "0Ko1BD2d6Vrt",
        "outputId": "f5b22d48-824b-4e6a-aac9-d204d5f7ffb5"
      },
      "outputs": [
        {
          "output_type": "stream",
          "name": "stdout",
          "text": [
            "Colab only includes TensorFlow 2.x; %tensorflow_version has no effect.\n"
          ]
        }
      ],
      "source": [
        "# we are forcing colab to use this version of tensorflow\n",
        "%tensorflow_version 2.x\n"
      ]
    },
    {
      "cell_type": "code",
      "source": [
        "import tensorflow as tf\n",
        "print(tf.version)"
      ],
      "metadata": {
        "colab": {
          "base_uri": "https://localhost:8080/"
        },
        "id": "QlGuq1Re70QR",
        "outputId": "cd073c33-d0e7-4dbe-e38f-1234e34495cb"
      },
      "execution_count": 2,
      "outputs": [
        {
          "output_type": "stream",
          "name": "stdout",
          "text": [
            "<module 'tensorflow._api.v2.version' from '/usr/local/lib/python3.10/dist-packages/tensorflow/_api/v2/version/__init__.py'>\n"
          ]
        }
      ]
    },
    {
      "cell_type": "markdown",
      "source": [
        "**Creating** **Tensor**\n",
        "Below is an example of how to create basic tensors"
      ],
      "metadata": {
        "id": "fIbX1RAN_Frk"
      }
    },
    {
      "cell_type": "code",
      "source": [
        "string = tf.Variable(\"This is string\",tf.string)\n",
        "number = tf.Variable(100,tf.int16)\n",
        "floating = tf.Variable(3.14,tf.float32)"
      ],
      "metadata": {
        "id": "eKLOQtQO_K07"
      },
      "execution_count": 5,
      "outputs": []
    },
    {
      "cell_type": "markdown",
      "source": [
        "These are scaler values"
      ],
      "metadata": {
        "id": "nVXJ50j5AH51"
      }
    },
    {
      "cell_type": "markdown",
      "source": [
        "**Rank/Degree of Tensors**\n",
        "Another word of rank is degree. These term simply means the number of dimensions involved in tensors.What we created above is tensor of rank 0 also known as 0.\n",
        "Now we will create of tensors of higher degree/dimensions"
      ],
      "metadata": {
        "id": "nvKFdGiEAawr"
      }
    },
    {
      "cell_type": "code",
      "source": [
        "rank1_tensor = tf.Variable(['This',\"test\",\"Me\"],tf.string)\n",
        "rank2_tensor = tf.Variable([['He','Hello','Hi'],['Now','New','No']],tf.string)"
      ],
      "metadata": {
        "id": "WGSpI9yc_epS"
      },
      "execution_count": 9,
      "outputs": []
    },
    {
      "cell_type": "markdown",
      "source": [
        "**To determine the rank** of tensor use the following code"
      ],
      "metadata": {
        "id": "l6QZZCvsEmZ4"
      }
    },
    {
      "cell_type": "code",
      "source": [
        "tf.rank(rank2_tensor)"
      ],
      "metadata": {
        "colab": {
          "base_uri": "https://localhost:8080/"
        },
        "id": "rZ-cZX5bEUrB",
        "outputId": "f48de5ac-9280-4dc4-d621-28297d76756c"
      },
      "execution_count": 10,
      "outputs": [
        {
          "output_type": "execute_result",
          "data": {
            "text/plain": [
              "<tf.Tensor: shape=(), dtype=int32, numpy=2>"
            ]
          },
          "metadata": {},
          "execution_count": 10
        }
      ]
    },
    {
      "cell_type": "code",
      "source": [
        "tf.rank(rank1_tensor)"
      ],
      "metadata": {
        "colab": {
          "base_uri": "https://localhost:8080/"
        },
        "id": "y4i1PqC-EtK-",
        "outputId": "ca9067a7-2bdf-4603-fea3-85ef2595cfe6"
      },
      "execution_count": 11,
      "outputs": [
        {
          "output_type": "execute_result",
          "data": {
            "text/plain": [
              "<tf.Tensor: shape=(), dtype=int32, numpy=1>"
            ]
          },
          "metadata": {},
          "execution_count": 11
        }
      ]
    },
    {
      "cell_type": "markdown",
      "source": [
        "**Shape of Tensors**\n",
        "Now we know about the rank of tensors now we will know about the shape of tensors.There are often many shapes that have same number of elements, making it convienent to be able to change the shape of tensor.Shape actually tells that how many items have in each dimension.\n",
        "The example below shows the how to change the shape of tensors."
      ],
      "metadata": {
        "id": "dW8AOAPNFF-f"
      }
    },
    {
      "cell_type": "code",
      "source": [
        "rank2_tensor.shape"
      ],
      "metadata": {
        "colab": {
          "base_uri": "https://localhost:8080/"
        },
        "id": "Uf0wWjsRE960",
        "outputId": "3fa5fc73-d793-4331-ac72-76449abd106b"
      },
      "execution_count": 12,
      "outputs": [
        {
          "output_type": "execute_result",
          "data": {
            "text/plain": [
              "TensorShape([2, 3])"
            ]
          },
          "metadata": {},
          "execution_count": 12
        }
      ]
    },
    {
      "cell_type": "markdown",
      "source": [
        "**Changing Shape**\n",
        "The number of elements of a tensor is the product of sizes of all of its shapes.The below example elaborate how to change the shape of tensor"
      ],
      "metadata": {
        "id": "mxB3o-hvHwhB"
      }
    },
    {
      "cell_type": "code",
      "source": [
        "tensor1 = tf.ones([1,2,3])\n",
        "tensor2 = tf.reshape(tensor1,[2,3,1])\n",
        "tensor3 = tf.reshape(tensor2,[3,-1])"
      ],
      "metadata": {
        "id": "35b18b6fF0HC"
      },
      "execution_count": 19,
      "outputs": []
    },
    {
      "cell_type": "code",
      "source": [
        "tensor1"
      ],
      "metadata": {
        "colab": {
          "base_uri": "https://localhost:8080/"
        },
        "id": "tpPTRCsYIUSV",
        "outputId": "92aeec89-3326-491f-f1d9-71c9849c44e3"
      },
      "execution_count": 15,
      "outputs": [
        {
          "output_type": "execute_result",
          "data": {
            "text/plain": [
              "<tf.Tensor: shape=(1, 2, 3), dtype=float32, numpy=\n",
              "array([[[1., 1., 1.],\n",
              "        [1., 1., 1.]]], dtype=float32)>"
            ]
          },
          "metadata": {},
          "execution_count": 15
        }
      ]
    },
    {
      "cell_type": "code",
      "source": [
        "tensor2"
      ],
      "metadata": {
        "colab": {
          "base_uri": "https://localhost:8080/"
        },
        "id": "K2oMvP30JGSf",
        "outputId": "0155e804-5c55-4a29-96d3-f0adad80ef8f"
      },
      "execution_count": 16,
      "outputs": [
        {
          "output_type": "execute_result",
          "data": {
            "text/plain": [
              "<tf.Tensor: shape=(2, 3, 1), dtype=float32, numpy=\n",
              "array([[[1.],\n",
              "        [1.],\n",
              "        [1.]],\n",
              "\n",
              "       [[1.],\n",
              "        [1.],\n",
              "        [1.]]], dtype=float32)>"
            ]
          },
          "metadata": {},
          "execution_count": 16
        }
      ]
    },
    {
      "cell_type": "code",
      "source": [
        "tensor3"
      ],
      "metadata": {
        "colab": {
          "base_uri": "https://localhost:8080/"
        },
        "id": "j48cggIMJRA7",
        "outputId": "96f27fce-c644-4021-d34d-9e20ce024256"
      },
      "execution_count": 17,
      "outputs": [
        {
          "output_type": "execute_result",
          "data": {
            "text/plain": [
              "<tf.Tensor: shape=(3, 2), dtype=float32, numpy=\n",
              "array([[1., 1.],\n",
              "       [1., 1.],\n",
              "       [1., 1.]], dtype=float32)>"
            ]
          },
          "metadata": {},
          "execution_count": 17
        }
      ]
    },
    {
      "cell_type": "markdown",
      "source": [
        "**Types of Tensors***\n",
        "Before we will go to far we will mention there that there are different types of tensors. These are most commonly used and we will talk more in depth about each as they are used.\n",
        "\n",
        "\n",
        "<ul>\n",
        "  <li>Variable</li>\n",
        "  <li>Constants</li>\n",
        "  <li>PlaceHolder</li>\n",
        "  <li>SparseTensor</li>\n",
        "</ul>\n",
        "\n",
        "With the exception of **Variable** all of these tensors are immutable, cannot be changed during execution,\n",
        "\n",
        "**Evaluating Tensors**\n",
        "There will be sometime throughout this guide that we need to evaluate a tensor. In other words, get its value. Since tensors represents a partially complete computation we will sometimes need to run whats called a session to evaluate the tensor.\n",
        "There are different ways to achieve this.\n",
        "\n"
      ],
      "metadata": {
        "id": "85qMc9kBOzas"
      }
    },
    {
      "cell_type": "code",
      "source": [],
      "metadata": {
        "id": "yghWl-_NJfIo"
      },
      "execution_count": 20,
      "outputs": []
    }
  ]
}